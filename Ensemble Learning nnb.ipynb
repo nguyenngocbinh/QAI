{
 "cells": [
  {
   "cell_type": "code",
   "execution_count": null,
   "id": "db365cda",
   "metadata": {},
   "outputs": [],
   "source": [
    "# mô hình light weight + high explainable\n",
    "# high bias: không học dc gì từ dữ liệu, ví dụ đường đi ngang\n",
    "# bias sai số tập train (mô hình quá focus vào outlier)\n",
    "# variance sai số trên tập test (high variance ~ overfit)\n"
   ]
  },
  {
   "cell_type": "code",
   "execution_count": null,
   "id": "728790d4",
   "metadata": {},
   "outputs": [],
   "source": [
    "# Mô hình quá phức tạp, data nhiều nhiễu ~ overfiting"
   ]
  },
  {
   "cell_type": "code",
   "execution_count": null,
   "id": "236b2e70",
   "metadata": {},
   "outputs": [],
   "source": [
    "# overfit -> ensemble learning\n"
   ]
  },
  {
   "cell_type": "code",
   "execution_count": null,
   "id": "4058b48f",
   "metadata": {},
   "outputs": [],
   "source": [
    "# rfe"
   ]
  },
  {
   "cell_type": "code",
   "execution_count": null,
   "id": "f3cb87b4",
   "metadata": {},
   "outputs": [],
   "source": [
    "# importance thấp có thể số lượng quan sát ít\n"
   ]
  },
  {
   "cell_type": "code",
   "execution_count": null,
   "id": "100c2d1a",
   "metadata": {},
   "outputs": [],
   "source": [
    "# data boosting"
   ]
  },
  {
   "cell_type": "code",
   "execution_count": null,
   "id": "a16e354d",
   "metadata": {},
   "outputs": [],
   "source": [
    "# random search khi chưa biết miền không gian\n",
    "# grid search: search hết các trường hợp\n",
    "# random search là đầu vào của grid search\n"
   ]
  },
  {
   "cell_type": "code",
   "execution_count": null,
   "id": "e6a7c71b",
   "metadata": {},
   "outputs": [],
   "source": [
    "# adaboost dựa trên chỉ tiêu acurracy để modify distribution của sample\n",
    "#"
   ]
  }
 ],
 "metadata": {
  "kernelspec": {
   "display_name": "Python 3",
   "language": "python",
   "name": "python3"
  },
  "language_info": {
   "codemirror_mode": {
    "name": "ipython",
    "version": 3
   },
   "file_extension": ".py",
   "mimetype": "text/x-python",
   "name": "python",
   "nbconvert_exporter": "python",
   "pygments_lexer": "ipython3",
   "version": "3.8.8"
  }
 },
 "nbformat": 4,
 "nbformat_minor": 5
}
