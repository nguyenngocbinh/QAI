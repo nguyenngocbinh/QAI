{
 "cells": [
  {
   "cell_type": "markdown",
   "id": "17f611f7",
   "metadata": {},
   "source": [
    "## Housing Price Prediction"
   ]
  },
  {
   "cell_type": "markdown",
   "id": "1143c3f6",
   "metadata": {},
   "source": [
    "The dataset we had to meet in lesson 2. In lesson 3, we will apply 3 machine learning model: Linear Regression, Decision Tree and Random Forest for housing price dataset "
   ]
  },
  {
   "cell_type": "markdown",
   "id": "7fc65a73",
   "metadata": {},
   "source": [
    "### Step I. Read our dataset from csv file\n"
   ]
  },
  {
   "cell_type": "code",
   "execution_count": 10,
   "id": "07bcb5f7",
   "metadata": {},
   "outputs": [],
   "source": [
    "import pandas as pd"
   ]
  },
  {
   "cell_type": "code",
   "execution_count": 1,
   "id": "22eb06f2",
   "metadata": {},
   "outputs": [],
   "source": [
    "# TO DO use panda to read file csv from the path `./data/house_data.csv`"
   ]
  },
  {
   "cell_type": "code",
   "execution_count": null,
   "id": "bbbb87d8",
   "metadata": {},
   "outputs": [],
   "source": [
    "# TO DO show out the shape of the dataset"
   ]
  },
  {
   "cell_type": "code",
   "execution_count": 70,
   "id": "e8dc554f",
   "metadata": {},
   "outputs": [
    {
     "data": {
      "text/plain": [
       "(21613, 21)"
      ]
     },
     "execution_count": 70,
     "metadata": {},
     "output_type": "execute_result"
    }
   ],
   "source": [
    "# DON'T CODE IN THIS LINE"
   ]
  },
  {
   "cell_type": "code",
   "execution_count": 2,
   "id": "bb32a4ad",
   "metadata": {},
   "outputs": [],
   "source": [
    "# TO DO show 5 first rows of the dataset using `head()`"
   ]
  },
  {
   "cell_type": "code",
   "execution_count": 72,
   "id": "4bdbaca3",
   "metadata": {},
   "outputs": [
    {
     "data": {
      "text/html": [
       "<div>\n",
       "<style scoped>\n",
       "    .dataframe tbody tr th:only-of-type {\n",
       "        vertical-align: middle;\n",
       "    }\n",
       "\n",
       "    .dataframe tbody tr th {\n",
       "        vertical-align: top;\n",
       "    }\n",
       "\n",
       "    .dataframe thead th {\n",
       "        text-align: right;\n",
       "    }\n",
       "</style>\n",
       "<table border=\"1\" class=\"dataframe\">\n",
       "  <thead>\n",
       "    <tr style=\"text-align: right;\">\n",
       "      <th></th>\n",
       "      <th>id</th>\n",
       "      <th>date</th>\n",
       "      <th>price</th>\n",
       "      <th>bedrooms</th>\n",
       "      <th>bathrooms</th>\n",
       "      <th>sqft_living</th>\n",
       "      <th>sqft_lot</th>\n",
       "      <th>floors</th>\n",
       "      <th>waterfront</th>\n",
       "      <th>view</th>\n",
       "      <th>...</th>\n",
       "      <th>grade</th>\n",
       "      <th>sqft_above</th>\n",
       "      <th>sqft_basement</th>\n",
       "      <th>yr_built</th>\n",
       "      <th>yr_renovated</th>\n",
       "      <th>zipcode</th>\n",
       "      <th>lat</th>\n",
       "      <th>long</th>\n",
       "      <th>sqft_living15</th>\n",
       "      <th>sqft_lot15</th>\n",
       "    </tr>\n",
       "  </thead>\n",
       "  <tbody>\n",
       "    <tr>\n",
       "      <th>0</th>\n",
       "      <td>7129300520</td>\n",
       "      <td>20141013T000000</td>\n",
       "      <td>221900.0</td>\n",
       "      <td>3</td>\n",
       "      <td>1.00</td>\n",
       "      <td>1180</td>\n",
       "      <td>5650</td>\n",
       "      <td>1.0</td>\n",
       "      <td>0</td>\n",
       "      <td>0</td>\n",
       "      <td>...</td>\n",
       "      <td>7</td>\n",
       "      <td>1180</td>\n",
       "      <td>0</td>\n",
       "      <td>1955</td>\n",
       "      <td>0</td>\n",
       "      <td>98178</td>\n",
       "      <td>47.5112</td>\n",
       "      <td>-122.257</td>\n",
       "      <td>1340</td>\n",
       "      <td>5650</td>\n",
       "    </tr>\n",
       "    <tr>\n",
       "      <th>1</th>\n",
       "      <td>6414100192</td>\n",
       "      <td>20141209T000000</td>\n",
       "      <td>538000.0</td>\n",
       "      <td>3</td>\n",
       "      <td>2.25</td>\n",
       "      <td>2570</td>\n",
       "      <td>7242</td>\n",
       "      <td>2.0</td>\n",
       "      <td>0</td>\n",
       "      <td>0</td>\n",
       "      <td>...</td>\n",
       "      <td>7</td>\n",
       "      <td>2170</td>\n",
       "      <td>400</td>\n",
       "      <td>1951</td>\n",
       "      <td>1991</td>\n",
       "      <td>98125</td>\n",
       "      <td>47.7210</td>\n",
       "      <td>-122.319</td>\n",
       "      <td>1690</td>\n",
       "      <td>7639</td>\n",
       "    </tr>\n",
       "    <tr>\n",
       "      <th>2</th>\n",
       "      <td>5631500400</td>\n",
       "      <td>20150225T000000</td>\n",
       "      <td>180000.0</td>\n",
       "      <td>2</td>\n",
       "      <td>1.00</td>\n",
       "      <td>770</td>\n",
       "      <td>10000</td>\n",
       "      <td>1.0</td>\n",
       "      <td>0</td>\n",
       "      <td>0</td>\n",
       "      <td>...</td>\n",
       "      <td>6</td>\n",
       "      <td>770</td>\n",
       "      <td>0</td>\n",
       "      <td>1933</td>\n",
       "      <td>0</td>\n",
       "      <td>98028</td>\n",
       "      <td>47.7379</td>\n",
       "      <td>-122.233</td>\n",
       "      <td>2720</td>\n",
       "      <td>8062</td>\n",
       "    </tr>\n",
       "    <tr>\n",
       "      <th>3</th>\n",
       "      <td>2487200875</td>\n",
       "      <td>20141209T000000</td>\n",
       "      <td>604000.0</td>\n",
       "      <td>4</td>\n",
       "      <td>3.00</td>\n",
       "      <td>1960</td>\n",
       "      <td>5000</td>\n",
       "      <td>1.0</td>\n",
       "      <td>0</td>\n",
       "      <td>0</td>\n",
       "      <td>...</td>\n",
       "      <td>7</td>\n",
       "      <td>1050</td>\n",
       "      <td>910</td>\n",
       "      <td>1965</td>\n",
       "      <td>0</td>\n",
       "      <td>98136</td>\n",
       "      <td>47.5208</td>\n",
       "      <td>-122.393</td>\n",
       "      <td>1360</td>\n",
       "      <td>5000</td>\n",
       "    </tr>\n",
       "    <tr>\n",
       "      <th>4</th>\n",
       "      <td>1954400510</td>\n",
       "      <td>20150218T000000</td>\n",
       "      <td>510000.0</td>\n",
       "      <td>3</td>\n",
       "      <td>2.00</td>\n",
       "      <td>1680</td>\n",
       "      <td>8080</td>\n",
       "      <td>1.0</td>\n",
       "      <td>0</td>\n",
       "      <td>0</td>\n",
       "      <td>...</td>\n",
       "      <td>8</td>\n",
       "      <td>1680</td>\n",
       "      <td>0</td>\n",
       "      <td>1987</td>\n",
       "      <td>0</td>\n",
       "      <td>98074</td>\n",
       "      <td>47.6168</td>\n",
       "      <td>-122.045</td>\n",
       "      <td>1800</td>\n",
       "      <td>7503</td>\n",
       "    </tr>\n",
       "  </tbody>\n",
       "</table>\n",
       "<p>5 rows × 21 columns</p>\n",
       "</div>"
      ],
      "text/plain": [
       "           id             date     price  bedrooms  bathrooms  sqft_living  \\\n",
       "0  7129300520  20141013T000000  221900.0         3       1.00         1180   \n",
       "1  6414100192  20141209T000000  538000.0         3       2.25         2570   \n",
       "2  5631500400  20150225T000000  180000.0         2       1.00          770   \n",
       "3  2487200875  20141209T000000  604000.0         4       3.00         1960   \n",
       "4  1954400510  20150218T000000  510000.0         3       2.00         1680   \n",
       "\n",
       "   sqft_lot  floors  waterfront  view  ...  grade  sqft_above  sqft_basement  \\\n",
       "0      5650     1.0           0     0  ...      7        1180              0   \n",
       "1      7242     2.0           0     0  ...      7        2170            400   \n",
       "2     10000     1.0           0     0  ...      6         770              0   \n",
       "3      5000     1.0           0     0  ...      7        1050            910   \n",
       "4      8080     1.0           0     0  ...      8        1680              0   \n",
       "\n",
       "   yr_built  yr_renovated  zipcode      lat     long  sqft_living15  \\\n",
       "0      1955             0    98178  47.5112 -122.257           1340   \n",
       "1      1951          1991    98125  47.7210 -122.319           1690   \n",
       "2      1933             0    98028  47.7379 -122.233           2720   \n",
       "3      1965             0    98136  47.5208 -122.393           1360   \n",
       "4      1987             0    98074  47.6168 -122.045           1800   \n",
       "\n",
       "   sqft_lot15  \n",
       "0        5650  \n",
       "1        7639  \n",
       "2        8062  \n",
       "3        5000  \n",
       "4        7503  \n",
       "\n",
       "[5 rows x 21 columns]"
      ]
     },
     "execution_count": 72,
     "metadata": {},
     "output_type": "execute_result"
    }
   ],
   "source": [
    "# DON'T CODE IN THIS LINE"
   ]
  },
  {
   "cell_type": "markdown",
   "id": "ccb826ee",
   "metadata": {},
   "source": [
    "#### Dataset contains:\n",
    "\n",
    "Id: a notation for a house\n",
    "\n",
    "Date: Date house was sold\n",
    "\n",
    "Price: Price is prediction target\n",
    "\n",
    "Bedrooms: Number of Bedrooms/House\n",
    "\n",
    "Bathrooms: Number of bathrooms/House\n",
    "\n",
    "Sqft_Living: square footage of the home\n",
    "\n",
    "Sqft_Lot: square footage of the lot\n",
    "\n",
    "Floors: Total floors (levels) in house\n",
    "\n",
    "Waterfront: House which has a view to a waterfront\n",
    "\n",
    "View: Has been viewed\n",
    "\n",
    "Condition: How good the condition is ( Overall )\n",
    "\n",
    "Grade: overall grade given to the housing unit, based on King County grading system\n",
    "\n",
    "Sqft_Above: square footage of house apart from basement\n",
    "\n",
    "Sqft_Basement: square footage of the basement\n",
    "\n",
    "Yr_Built: Built Year\n",
    "\n",
    "Yr_Renovated: Year when house was renovated\n",
    "\n",
    "Zipcode: Zip\n",
    "\n",
    "Lat: Latitude coordinate\n",
    "\n",
    "Long: Longitude coordinate\n",
    "\n",
    "Sqft_Living15: Living room area in 2015(implies-- some renovations) This might or might not have affected the lotsize area\n",
    "\n",
    "Sqft_Lot15: lotSize area in 2015(implies-- some renovations)\n",
    "\n"
   ]
  },
  {
   "cell_type": "markdown",
   "id": "3bdd9576",
   "metadata": {},
   "source": [
    "### Step II. Data Clearning"
   ]
  },
  {
   "cell_type": "code",
   "execution_count": null,
   "id": "f7cdb7fe",
   "metadata": {},
   "outputs": [],
   "source": [
    "# TO DO show the information of the datasets using `info()`"
   ]
  },
  {
   "cell_type": "code",
   "execution_count": 74,
   "id": "3c3931a3",
   "metadata": {},
   "outputs": [
    {
     "name": "stdout",
     "output_type": "stream",
     "text": [
      "<class 'pandas.core.frame.DataFrame'>\n",
      "RangeIndex: 21613 entries, 0 to 21612\n",
      "Data columns (total 21 columns):\n",
      " #   Column         Non-Null Count  Dtype  \n",
      "---  ------         --------------  -----  \n",
      " 0   id             21613 non-null  int64  \n",
      " 1   date           21613 non-null  object \n",
      " 2   price          21613 non-null  float64\n",
      " 3   bedrooms       21613 non-null  int64  \n",
      " 4   bathrooms      21613 non-null  float64\n",
      " 5   sqft_living    21613 non-null  int64  \n",
      " 6   sqft_lot       21613 non-null  int64  \n",
      " 7   floors         21613 non-null  float64\n",
      " 8   waterfront     21613 non-null  int64  \n",
      " 9   view           21613 non-null  int64  \n",
      " 10  condition      21613 non-null  int64  \n",
      " 11  grade          21613 non-null  int64  \n",
      " 12  sqft_above     21613 non-null  int64  \n",
      " 13  sqft_basement  21613 non-null  int64  \n",
      " 14  yr_built       21613 non-null  int64  \n",
      " 15  yr_renovated   21613 non-null  int64  \n",
      " 16  zipcode        21613 non-null  int64  \n",
      " 17  lat            21613 non-null  float64\n",
      " 18  long           21613 non-null  float64\n",
      " 19  sqft_living15  21613 non-null  int64  \n",
      " 20  sqft_lot15     21613 non-null  int64  \n",
      "dtypes: float64(5), int64(15), object(1)\n",
      "memory usage: 3.5+ MB\n"
     ]
    }
   ],
   "source": [
    "# DON'T CODE IN THIS LINE"
   ]
  },
  {
   "cell_type": "markdown",
   "id": "14be2762",
   "metadata": {},
   "source": [
    "TO DO: What do you see?"
   ]
  },
  {
   "cell_type": "markdown",
   "id": "b51e635e",
   "metadata": {},
   "source": [
    "Write down here"
   ]
  },
  {
   "cell_type": "markdown",
   "id": "e3e00687",
   "metadata": {},
   "source": [
    "### Step III. Exploratory Data Analytics (EDA)"
   ]
  },
  {
   "cell_type": "code",
   "execution_count": 11,
   "id": "78ab482f",
   "metadata": {},
   "outputs": [],
   "source": [
    "import matplotlib.pyplot as plt\n",
    "import seaborn as sns"
   ]
  },
  {
   "cell_type": "markdown",
   "id": "4f564b2a",
   "metadata": {},
   "source": [
    "Let's now forward with data visualization using a pairplot"
   ]
  },
  {
   "cell_type": "code",
   "execution_count": 7,
   "id": "37ef7455",
   "metadata": {},
   "outputs": [],
   "source": [
    "# TO DO visualize the price target feature and some feature you think it is important using seaborn pairlot"
   ]
  },
  {
   "cell_type": "markdown",
   "id": "e09dba7b",
   "metadata": {},
   "source": [
    "#### Co relation between Variables\n",
    "\n",
    "We wil use heatmap to view the co relation between variables"
   ]
  },
  {
   "cell_type": "code",
   "execution_count": 8,
   "id": "d10d4162",
   "metadata": {},
   "outputs": [],
   "source": [
    "# TO DO show the heatmap to view relation between the features which you selected above"
   ]
  },
  {
   "cell_type": "markdown",
   "id": "9d4640ca",
   "metadata": {},
   "source": [
    "### Step IV. Data Preparation"
   ]
  },
  {
   "cell_type": "markdown",
   "id": "8aacf029",
   "metadata": {},
   "source": [
    "#### Dropping of the particular column value:\n",
    "\n",
    "We don't require the column id and date at this point so we will be dropping them from the dataset."
   ]
  },
  {
   "cell_type": "code",
   "execution_count": 9,
   "id": "7add09ac",
   "metadata": {},
   "outputs": [],
   "source": [
    "# TO DO drop two features `id` and `date` using `drop()` from pandas"
   ]
  },
  {
   "cell_type": "code",
   "execution_count": null,
   "id": "856bb76a",
   "metadata": {},
   "outputs": [],
   "source": [
    "# TO DO show 5 first rows of the dataset using `head()`"
   ]
  },
  {
   "cell_type": "code",
   "execution_count": 79,
   "id": "0ab817a5",
   "metadata": {},
   "outputs": [
    {
     "data": {
      "text/html": [
       "<div>\n",
       "<style scoped>\n",
       "    .dataframe tbody tr th:only-of-type {\n",
       "        vertical-align: middle;\n",
       "    }\n",
       "\n",
       "    .dataframe tbody tr th {\n",
       "        vertical-align: top;\n",
       "    }\n",
       "\n",
       "    .dataframe thead th {\n",
       "        text-align: right;\n",
       "    }\n",
       "</style>\n",
       "<table border=\"1\" class=\"dataframe\">\n",
       "  <thead>\n",
       "    <tr style=\"text-align: right;\">\n",
       "      <th></th>\n",
       "      <th>price</th>\n",
       "      <th>bedrooms</th>\n",
       "      <th>bathrooms</th>\n",
       "      <th>sqft_living</th>\n",
       "      <th>sqft_lot</th>\n",
       "      <th>floors</th>\n",
       "      <th>waterfront</th>\n",
       "      <th>view</th>\n",
       "      <th>condition</th>\n",
       "      <th>grade</th>\n",
       "      <th>sqft_above</th>\n",
       "      <th>sqft_basement</th>\n",
       "      <th>yr_built</th>\n",
       "      <th>yr_renovated</th>\n",
       "      <th>zipcode</th>\n",
       "      <th>lat</th>\n",
       "      <th>long</th>\n",
       "      <th>sqft_living15</th>\n",
       "      <th>sqft_lot15</th>\n",
       "    </tr>\n",
       "  </thead>\n",
       "  <tbody>\n",
       "    <tr>\n",
       "      <th>0</th>\n",
       "      <td>221900.0</td>\n",
       "      <td>3</td>\n",
       "      <td>1.00</td>\n",
       "      <td>1180</td>\n",
       "      <td>5650</td>\n",
       "      <td>1.0</td>\n",
       "      <td>0</td>\n",
       "      <td>0</td>\n",
       "      <td>3</td>\n",
       "      <td>7</td>\n",
       "      <td>1180</td>\n",
       "      <td>0</td>\n",
       "      <td>1955</td>\n",
       "      <td>0</td>\n",
       "      <td>98178</td>\n",
       "      <td>47.5112</td>\n",
       "      <td>-122.257</td>\n",
       "      <td>1340</td>\n",
       "      <td>5650</td>\n",
       "    </tr>\n",
       "    <tr>\n",
       "      <th>1</th>\n",
       "      <td>538000.0</td>\n",
       "      <td>3</td>\n",
       "      <td>2.25</td>\n",
       "      <td>2570</td>\n",
       "      <td>7242</td>\n",
       "      <td>2.0</td>\n",
       "      <td>0</td>\n",
       "      <td>0</td>\n",
       "      <td>3</td>\n",
       "      <td>7</td>\n",
       "      <td>2170</td>\n",
       "      <td>400</td>\n",
       "      <td>1951</td>\n",
       "      <td>1991</td>\n",
       "      <td>98125</td>\n",
       "      <td>47.7210</td>\n",
       "      <td>-122.319</td>\n",
       "      <td>1690</td>\n",
       "      <td>7639</td>\n",
       "    </tr>\n",
       "    <tr>\n",
       "      <th>2</th>\n",
       "      <td>180000.0</td>\n",
       "      <td>2</td>\n",
       "      <td>1.00</td>\n",
       "      <td>770</td>\n",
       "      <td>10000</td>\n",
       "      <td>1.0</td>\n",
       "      <td>0</td>\n",
       "      <td>0</td>\n",
       "      <td>3</td>\n",
       "      <td>6</td>\n",
       "      <td>770</td>\n",
       "      <td>0</td>\n",
       "      <td>1933</td>\n",
       "      <td>0</td>\n",
       "      <td>98028</td>\n",
       "      <td>47.7379</td>\n",
       "      <td>-122.233</td>\n",
       "      <td>2720</td>\n",
       "      <td>8062</td>\n",
       "    </tr>\n",
       "    <tr>\n",
       "      <th>3</th>\n",
       "      <td>604000.0</td>\n",
       "      <td>4</td>\n",
       "      <td>3.00</td>\n",
       "      <td>1960</td>\n",
       "      <td>5000</td>\n",
       "      <td>1.0</td>\n",
       "      <td>0</td>\n",
       "      <td>0</td>\n",
       "      <td>5</td>\n",
       "      <td>7</td>\n",
       "      <td>1050</td>\n",
       "      <td>910</td>\n",
       "      <td>1965</td>\n",
       "      <td>0</td>\n",
       "      <td>98136</td>\n",
       "      <td>47.5208</td>\n",
       "      <td>-122.393</td>\n",
       "      <td>1360</td>\n",
       "      <td>5000</td>\n",
       "    </tr>\n",
       "    <tr>\n",
       "      <th>4</th>\n",
       "      <td>510000.0</td>\n",
       "      <td>3</td>\n",
       "      <td>2.00</td>\n",
       "      <td>1680</td>\n",
       "      <td>8080</td>\n",
       "      <td>1.0</td>\n",
       "      <td>0</td>\n",
       "      <td>0</td>\n",
       "      <td>3</td>\n",
       "      <td>8</td>\n",
       "      <td>1680</td>\n",
       "      <td>0</td>\n",
       "      <td>1987</td>\n",
       "      <td>0</td>\n",
       "      <td>98074</td>\n",
       "      <td>47.6168</td>\n",
       "      <td>-122.045</td>\n",
       "      <td>1800</td>\n",
       "      <td>7503</td>\n",
       "    </tr>\n",
       "  </tbody>\n",
       "</table>\n",
       "</div>"
      ],
      "text/plain": [
       "      price  bedrooms  bathrooms  sqft_living  sqft_lot  floors  waterfront  \\\n",
       "0  221900.0         3       1.00         1180      5650     1.0           0   \n",
       "1  538000.0         3       2.25         2570      7242     2.0           0   \n",
       "2  180000.0         2       1.00          770     10000     1.0           0   \n",
       "3  604000.0         4       3.00         1960      5000     1.0           0   \n",
       "4  510000.0         3       2.00         1680      8080     1.0           0   \n",
       "\n",
       "   view  condition  grade  sqft_above  sqft_basement  yr_built  yr_renovated  \\\n",
       "0     0          3      7        1180              0      1955             0   \n",
       "1     0          3      7        2170            400      1951          1991   \n",
       "2     0          3      6         770              0      1933             0   \n",
       "3     0          5      7        1050            910      1965             0   \n",
       "4     0          3      8        1680              0      1987             0   \n",
       "\n",
       "   zipcode      lat     long  sqft_living15  sqft_lot15  \n",
       "0    98178  47.5112 -122.257           1340        5650  \n",
       "1    98125  47.7210 -122.319           1690        7639  \n",
       "2    98028  47.7379 -122.233           2720        8062  \n",
       "3    98136  47.5208 -122.393           1360        5000  \n",
       "4    98074  47.6168 -122.045           1800        7503  "
      ]
     },
     "execution_count": 79,
     "metadata": {},
     "output_type": "execute_result"
    }
   ],
   "source": [
    "# DON'T CODE IN THIS LINE"
   ]
  },
  {
   "cell_type": "markdown",
   "id": "ac4a5f04",
   "metadata": {},
   "source": [
    "#### Splitting the Data into Training and Testing Sets"
   ]
  },
  {
   "cell_type": "code",
   "execution_count": 12,
   "id": "29284b10",
   "metadata": {},
   "outputs": [],
   "source": [
    "import numpy as np\n",
    "import sklearn\n",
    "from sklearn.model_selection import train_test_split"
   ]
  },
  {
   "cell_type": "code",
   "execution_count": 14,
   "id": "bb23559d",
   "metadata": {},
   "outputs": [],
   "source": [
    "# TO DO create X(Independent features) and y(target feature)\n",
    "# Hide: \n",
    "# With X you can use panda and remove the target feature\n",
    "# With y you can use panda and select only the target feature"
   ]
  },
  {
   "cell_type": "code",
   "execution_count": 83,
   "id": "9d341c20",
   "metadata": {},
   "outputs": [],
   "source": [
    "# TO DO Splitting the data into train,test data with the ratio 7:3"
   ]
  },
  {
   "cell_type": "markdown",
   "id": "f19d68b6",
   "metadata": {},
   "source": [
    "### Step V. Build and Train model"
   ]
  },
  {
   "cell_type": "code",
   "execution_count": 84,
   "id": "c3e9f0f6",
   "metadata": {},
   "outputs": [],
   "source": [
    "from sklearn.linear_model import LinearRegression\n",
    "from sklearn.tree import DecisionTreeRegressor\n",
    "from sklearn.ensemble import RandomForestRegressor\n",
    "from sklearn.metrics import explained_variance_score\n",
    "from sklearn.metrics import confusion_matrix"
   ]
  },
  {
   "cell_type": "markdown",
   "id": "62b13738",
   "metadata": {},
   "source": [
    "#### Multiple Linear Regression\n",
    "\n",
    "Fitting the train set to multiple linear regression and getting the score of the model"
   ]
  },
  {
   "cell_type": "code",
   "execution_count": 91,
   "id": "1badbce5",
   "metadata": {},
   "outputs": [],
   "source": [
    "# TO DO building, training and scoring the linear regression model"
   ]
  },
  {
   "cell_type": "markdown",
   "id": "1f5b3fa6",
   "metadata": {},
   "source": [
    "#### Decision Tree Regression\n",
    "\n",
    "Fitting the train set to decision tree regression and getting the score of the model"
   ]
  },
  {
   "cell_type": "code",
   "execution_count": 15,
   "id": "facd27ff",
   "metadata": {},
   "outputs": [],
   "source": [
    "# TO DO building, training and scoring the decision tree regression model"
   ]
  },
  {
   "cell_type": "markdown",
   "id": "fe158508",
   "metadata": {},
   "source": [
    "#### Random Forest Regression\n",
    "\n",
    "Fitting the train set to random forest regression and getting the score of the model"
   ]
  },
  {
   "cell_type": "code",
   "execution_count": 16,
   "id": "00e7a741",
   "metadata": {},
   "outputs": [],
   "source": [
    "# TO DO building, training and scoring the random forest regression model"
   ]
  },
  {
   "cell_type": "markdown",
   "id": "7532964f",
   "metadata": {},
   "source": [
    "#### Calculate Model Score\n",
    "\n",
    "Let's calculate the model score to understand how our model performed along with the explained variance score."
   ]
  },
  {
   "cell_type": "code",
   "execution_count": 94,
   "id": "a07e93f1",
   "metadata": {},
   "outputs": [
    {
     "data": {
      "text/html": [
       "<div>\n",
       "<style scoped>\n",
       "    .dataframe tbody tr th:only-of-type {\n",
       "        vertical-align: middle;\n",
       "    }\n",
       "\n",
       "    .dataframe tbody tr th {\n",
       "        vertical-align: top;\n",
       "    }\n",
       "\n",
       "    .dataframe thead th {\n",
       "        text-align: right;\n",
       "    }\n",
       "</style>\n",
       "<table border=\"1\" class=\"dataframe\">\n",
       "  <thead>\n",
       "    <tr style=\"text-align: right;\">\n",
       "      <th></th>\n",
       "      <th>Model</th>\n",
       "      <th>Score</th>\n",
       "    </tr>\n",
       "  </thead>\n",
       "  <tbody>\n",
       "    <tr>\n",
       "      <th>2</th>\n",
       "      <td>Random forest Regression</td>\n",
       "      <td>0.884785</td>\n",
       "    </tr>\n",
       "    <tr>\n",
       "      <th>1</th>\n",
       "      <td>Decision Tree</td>\n",
       "      <td>0.768206</td>\n",
       "    </tr>\n",
       "    <tr>\n",
       "      <th>0</th>\n",
       "      <td>Multiple Linear Regression</td>\n",
       "      <td>0.687790</td>\n",
       "    </tr>\n",
       "  </tbody>\n",
       "</table>\n",
       "</div>"
      ],
      "text/plain": [
       "                        Model     Score\n",
       "2    Random forest Regression  0.884785\n",
       "1               Decision Tree  0.768206\n",
       "0  Multiple Linear Regression  0.687790"
      ]
     },
     "execution_count": 94,
     "metadata": {},
     "output_type": "execute_result"
    }
   ],
   "source": [
    "#Let's have a tabular pandas data frame, for a clear comparison\n",
    "\n",
    "models_score =pd.DataFrame({'Model':['Multiple Linear Regression','Decision Tree','Random forest Regression'],\n",
    "                            'Score':[mlr_score,decision_score,rf_score]\n",
    "                           })\n",
    "models_score.sort_values(by='Score',ascending=False)"
   ]
  },
  {
   "cell_type": "code",
   "execution_count": null,
   "id": "4d4a7ede",
   "metadata": {},
   "outputs": [],
   "source": []
  },
  {
   "cell_type": "code",
   "execution_count": null,
   "id": "f0b7c079",
   "metadata": {},
   "outputs": [],
   "source": []
  }
 ],
 "metadata": {
  "kernelspec": {
   "display_name": "Python 3 (ipykernel)",
   "language": "python",
   "name": "python3"
  },
  "language_info": {
   "codemirror_mode": {
    "name": "ipython",
    "version": 3
   },
   "file_extension": ".py",
   "mimetype": "text/x-python",
   "name": "python",
   "nbconvert_exporter": "python",
   "pygments_lexer": "ipython3",
   "version": "3.9.10"
  }
 },
 "nbformat": 4,
 "nbformat_minor": 5
}
