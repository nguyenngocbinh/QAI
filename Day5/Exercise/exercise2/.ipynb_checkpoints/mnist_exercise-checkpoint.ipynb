{
 "cells": [
  {
   "cell_type": "code",
   "execution_count": 1,
   "id": "77c59ba8-f0fe-49ac-a9d7-585196d837a7",
   "metadata": {},
   "outputs": [],
   "source": [
    "import numpy as np # linear algebra\n",
    "import pandas as pd "
   ]
  },
  {
   "cell_type": "code",
   "execution_count": 2,
   "id": "b39b897b-40cb-494f-92ee-043b1d8f22c6",
   "metadata": {},
   "outputs": [],
   "source": [
    "import tensorflow as tf\n",
    "from tensorflow.keras.models import Sequential\n",
    "from tensorflow.keras.layers import Dense, Dropout\n",
    "from sklearn.model_selection import train_test_split\n",
    "import matplotlib.pyplot as plt"
   ]
  },
  {
   "cell_type": "markdown",
   "id": "f28826f7-19bc-463e-8c54-a1e39915c3f7",
   "metadata": {},
   "source": [
    "## Preprocess Datas"
   ]
  },
  {
   "cell_type": "code",
   "execution_count": 11,
   "id": "e4db8339-59c5-486f-a0b2-2348e8591fc9",
   "metadata": {},
   "outputs": [],
   "source": [
    "df = pd.read_csv(\"train.csv\") # load data"
   ]
  },
  {
   "cell_type": "code",
   "execution_count": 12,
   "id": "de939aac-ed7c-4707-8e6d-ed7b2a37e2a1",
   "metadata": {},
   "outputs": [],
   "source": [
    "X = df.iloc[:,1:].values\n",
    "y = df.iloc[:,0].values"
   ]
  },
  {
   "cell_type": "code",
   "execution_count": 13,
   "id": "d6124f61-c5de-4c56-afb8-1adf7198a453",
   "metadata": {},
   "outputs": [
    {
     "name": "stdout",
     "output_type": "stream",
     "text": [
      "(42000, 784)\n",
      "(42000,)\n"
     ]
    }
   ],
   "source": [
    "print(X.shape)\n",
    "print(y.shape)"
   ]
  },
  {
   "cell_type": "markdown",
   "id": "6ac3b505-3d57-467b-9215-0fd586fc3724",
   "metadata": {},
   "source": [
    "**Normalize data**"
   ]
  },
  {
   "cell_type": "code",
   "execution_count": 14,
   "id": "cee106b7-e9cc-4e9d-b19f-f6c71aceef51",
   "metadata": {},
   "outputs": [],
   "source": [
    "X = X / 255"
   ]
  },
  {
   "cell_type": "markdown",
   "id": "9a419fc1-9aef-4eae-8a00-363a4a12e59a",
   "metadata": {},
   "source": [
    "**Split data to train and test set**"
   ]
  },
  {
   "cell_type": "code",
   "execution_count": 16,
   "id": "edcdd17d-a792-4c18-ab1c-4844909f5ffa",
   "metadata": {},
   "outputs": [],
   "source": [
    "X_train, X_test, y_train, y_test = train_test_split(X, y, test_size=0.25, random_state=42)"
   ]
  },
  {
   "cell_type": "code",
   "execution_count": 17,
   "id": "28adf104-dd5c-46d6-9904-633c5dd82dfc",
   "metadata": {},
   "outputs": [
    {
     "name": "stdout",
     "output_type": "stream",
     "text": [
      "X_train: (31500, 784)\n",
      "X_test: (10500, 784)\n",
      "y_train: (31500,)\n",
      "y_test: (10500,)\n"
     ]
    }
   ],
   "source": [
    "print(\"X_train:\",X_train.shape)\n",
    "print(\"X_test:\",X_test.shape)\n",
    "print(\"y_train:\",y_train.shape)\n",
    "print(\"y_test:\",y_test.shape)"
   ]
  },
  {
   "cell_type": "code",
   "execution_count": 25,
   "id": "cddb9fca-80ac-4e7d-a31b-3398f32390a7",
   "metadata": {},
   "outputs": [
    {
     "data": {
      "image/png": "[encoded data removed]",
      "text/plain": [
       "<Figure size 432x288 with 1 Axes>"
      ]
     },
     "metadata": {
      "needs_background": "light"
     },
     "output_type": "display_data"
    }
   ],
   "source": [
    "img = X_train[0].reshape(28,28,1)\n",
    "plt.imshow(img)\n",
    "plt.title(y_train[0],fontdict={'fontsize':30})\n",
    "plt.show()"
   ]
  },
  {
   "cell_type": "markdown",
   "id": "be8e5d47-ae71-4a2e-80bd-9b31cb6209b5",
   "metadata": {},
   "source": [
    "## Building a neural network model"
   ]
  },
  {
   "cell_type": "markdown",
   "id": "8d16d221-cbe8-4a7b-8e50-caae15d16075",
   "metadata": {},
   "source": [
    "**Creating a sequntial model**"
   ]
  },
  {
   "cell_type": "code",
   "execution_count": 70,
   "id": "edba5451-b8c7-4276-893f-1e54cc224a4d",
   "metadata": {},
   "outputs": [],
   "source": [
    "model = Sequential()"
   ]
  },
  {
   "cell_type": "code",
   "execution_count": 71,
   "id": "19d28128-34a6-492b-9cd4-8be98cd684da",
   "metadata": {},
   "outputs": [
    {
     "name": "stdout",
     "output_type": "stream",
     "text": [
      "Model: \"sequential_8\"\n",
      "_________________________________________________________________\n",
      " Layer (type)                Output Shape              Param #   \n",
      "=================================================================\n",
      " dense_47 (Dense)            (None, 512)               401920    \n",
      "                                                                 \n",
      " dropout_33 (Dropout)        (None, 512)               0         \n",
      "                                                                 \n",
      " dense_48 (Dense)            (None, 256)               131328    \n",
      "                                                                 \n",
      " dropout_34 (Dropout)        (None, 256)               0         \n",
      "                                                                 \n",
      " dense_49 (Dense)            (None, 64)                16448     \n",
      "                                                                 \n",
      " dropout_35 (Dropout)        (None, 64)                0         \n",
      "                                                                 \n",
      " dense_50 (Dense)            (None, 10)                650       \n",
      "                                                                 \n",
      "=================================================================\n",
      "Total params: 550,346\n",
      "Trainable params: 550,346\n",
      "Non-trainable params: 0\n",
      "_________________________________________________________________\n"
     ]
    }
   ],
   "source": [
    "model.add(Dense(512,activation='relu', input_dim=784))\n",
    "model.add(Dropout(0.5))\n",
    "model.add(Dense(256,activation='relu'))\n",
    "model.add(Dropout(0.5))\n",
    "model.add(Dense(64,activation='relu'))\n",
    "model.add(Dropout(0.5))\n",
    "# Add last output generating layer in our model\n",
    "model.add(Dense(10,activation='softmax'))\n",
    "\n",
    "# getting model summary\n",
    "model.summary()"
   ]
  },
  {
   "cell_type": "code",
   "execution_count": 73,
   "id": "b9345df5-c2b5-4cd7-ba2b-ed76ccfaeb0f",
   "metadata": {},
   "outputs": [],
   "source": [
    "model.compile(optimizer='SGD',loss='sparse_categorical_crossentropy',metrics=['accuracy'])"
   ]
  },
  {
   "cell_type": "code",
   "execution_count": 76,
   "id": "928b70d1-71a8-4135-a3df-d613da5c591d",
   "metadata": {},
   "outputs": [
    {
     "name": "stdout",
     "output_type": "stream",
     "text": [
      "Epoch 1/20\n",
      "247/247 [==============================] - 2s 8ms/step - loss: 0.3789 - accuracy: 0.8924 - val_loss: 0.2215 - val_accuracy: 0.9358\n",
      "Epoch 2/20\n",
      "247/247 [==============================] - 2s 8ms/step - loss: 0.3644 - accuracy: 0.8971 - val_loss: 0.2211 - val_accuracy: 0.9339\n",
      "Epoch 3/20\n",
      "247/247 [==============================] - 2s 7ms/step - loss: 0.3593 - accuracy: 0.8993 - val_loss: 0.2112 - val_accuracy: 0.9380\n",
      "Epoch 4/20\n",
      "247/247 [==============================] - 2s 8ms/step - loss: 0.3533 - accuracy: 0.9014 - val_loss: 0.2081 - val_accuracy: 0.9374\n",
      "Epoch 5/20\n",
      "247/247 [==============================] - 2s 8ms/step - loss: 0.3444 - accuracy: 0.9037 - val_loss: 0.2042 - val_accuracy: 0.9394\n",
      "Epoch 6/20\n",
      "247/247 [==============================] - 2s 8ms/step - loss: 0.3331 - accuracy: 0.9063 - val_loss: 0.1995 - val_accuracy: 0.9406\n",
      "Epoch 7/20\n",
      "247/247 [==============================] - 2s 8ms/step - loss: 0.3315 - accuracy: 0.9067 - val_loss: 0.1936 - val_accuracy: 0.9447\n",
      "Epoch 8/20\n",
      "247/247 [==============================] - 2s 8ms/step - loss: 0.3241 - accuracy: 0.9079 - val_loss: 0.1911 - val_accuracy: 0.9449\n",
      "Epoch 9/20\n",
      "247/247 [==============================] - 2s 8ms/step - loss: 0.3105 - accuracy: 0.9112 - val_loss: 0.1899 - val_accuracy: 0.9451\n",
      "Epoch 10/20\n",
      "247/247 [==============================] - 2s 8ms/step - loss: 0.3137 - accuracy: 0.9110 - val_loss: 0.1850 - val_accuracy: 0.9466\n",
      "Epoch 11/20\n",
      "247/247 [==============================] - 2s 8ms/step - loss: 0.3075 - accuracy: 0.9144 - val_loss: 0.1825 - val_accuracy: 0.9480\n",
      "Epoch 12/20\n",
      "247/247 [==============================] - 2s 7ms/step - loss: 0.2976 - accuracy: 0.9146 - val_loss: 0.1795 - val_accuracy: 0.9481\n",
      "Epoch 13/20\n",
      "247/247 [==============================] - 2s 8ms/step - loss: 0.2894 - accuracy: 0.9198 - val_loss: 0.1762 - val_accuracy: 0.9492\n",
      "Epoch 14/20\n",
      "247/247 [==============================] - 2s 8ms/step - loss: 0.2877 - accuracy: 0.9192 - val_loss: 0.1716 - val_accuracy: 0.9505\n",
      "Epoch 15/20\n",
      "247/247 [==============================] - 2s 7ms/step - loss: 0.2801 - accuracy: 0.9227 - val_loss: 0.1699 - val_accuracy: 0.9512\n",
      "Epoch 16/20\n",
      "247/247 [==============================] - 2s 7ms/step - loss: 0.2831 - accuracy: 0.9213 - val_loss: 0.1680 - val_accuracy: 0.9517\n",
      "Epoch 17/20\n",
      "247/247 [==============================] - 2s 8ms/step - loss: 0.2762 - accuracy: 0.9232 - val_loss: 0.1669 - val_accuracy: 0.9522\n",
      "Epoch 18/20\n",
      "247/247 [==============================] - 2s 7ms/step - loss: 0.2698 - accuracy: 0.9241 - val_loss: 0.1629 - val_accuracy: 0.9527\n",
      "Epoch 19/20\n",
      "247/247 [==============================] - 2s 7ms/step - loss: 0.2644 - accuracy: 0.9272 - val_loss: 0.1606 - val_accuracy: 0.9541\n",
      "Epoch 20/20\n",
      "247/247 [==============================] - 2s 7ms/step - loss: 0.2611 - accuracy: 0.9285 - val_loss: 0.1587 - val_accuracy: 0.9546\n"
     ]
    },
    {
     "data": {
      "text/plain": [
       "<keras.callbacks.History at 0x1ee3ed3b2e0>"
      ]
     },
     "execution_count": 76,
     "metadata": {},
     "output_type": "execute_result"
    }
   ],
   "source": [
    "model.fit(X_train,y_train,verbose=1,validation_data=(X_test,y_test),batch_size=128,epochs=20)"
   ]
  },
  {
   "cell_type": "code",
   "execution_count": 77,
   "id": "1d091d72-b934-4124-a8d5-44c177f0042a",
   "metadata": {},
   "outputs": [],
   "source": [
    "loss_df = pd.DataFrame(model.history.history)"
   ]
  },
  {
   "cell_type": "code",
   "execution_count": 78,
   "id": "0e922f2c-4e85-4e3c-a427-6980d9c78aab",
   "metadata": {},
   "outputs": [
    {
     "data": {
      "text/plain": [
       "<AxesSubplot:>"
      ]
     },
     "execution_count": 78,
     "metadata": {},
     "output_type": "execute_result"
    },
    {
     "data": {
      "image/png": "[encoded data removed]",
      "text/plain": [
       "<Figure size 432x288 with 1 Axes>"
      ]
     },
     "metadata": {
      "needs_background": "light"
     },
     "output_type": "display_data"
    },
    {
     "data": {
      "image/png": "[encoded data removed]",
      "text/plain": [
       "<Figure size 432x288 with 1 Axes>"
      ]
     },
     "metadata": {
      "needs_background": "light"
     },
     "output_type": "display_data"
    }
   ],
   "source": [
    "loss_df[['loss','val_loss']].plot()\n",
    "loss_df[['accuracy','val_accuracy']].plot()"
   ]
  },
  {
   "cell_type": "markdown",
   "id": "0c152082-c3fa-445f-a274-b0ff2a3e997a",
   "metadata": {},
   "source": [
    "**Predict**"
   ]
  },
  {
   "cell_type": "code",
   "execution_count": 92,
   "id": "da16087a-e76c-4988-9911-0bac6eb717ea",
   "metadata": {},
   "outputs": [
    {
     "name": "stdout",
     "output_type": "stream",
     "text": [
      "1/1 [==============================] - 0s 18ms/step\n"
     ]
    },
    {
     "data": {
      "image/png": "[encoded data removed]",
      "text/plain": [
       "<Figure size 432x288 with 1 Axes>"
      ]
     },
     "metadata": {
      "needs_background": "light"
     },
     "output_type": "display_data"
    }
   ],
   "source": [
    "index = 10\n",
    "img = X_test[index].reshape(28,28,1)\n",
    "plt.imshow(img)\n",
    "plt.title(np.argmax(model.predict(X_test[index:index+1, :])),fontdict={'fontsize':30})\n",
    "plt.show()"
   ]
  }
 ],
 "metadata": {
  "kernelspec": {
   "display_name": "Python 3 (ipykernel)",
   "language": "python",
   "name": "python3"
  },
  "language_info": {
   "codemirror_mode": {
    "name": "ipython",
    "version": 3
   },
   "file_extension": ".py",
   "mimetype": "text/x-python",
   "name": "python",
   "nbconvert_exporter": "python",
   "pygments_lexer": "ipython3",
   "version": "3.9.7"
  }
 },
 "nbformat": 4,
 "nbformat_minor": 5
}
