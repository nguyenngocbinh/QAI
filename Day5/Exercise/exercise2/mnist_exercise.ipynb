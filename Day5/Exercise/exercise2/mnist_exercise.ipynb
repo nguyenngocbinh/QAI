{
 "cells": [
  {
   "cell_type": "code",
   "execution_count": 1,
   "id": "77c59ba8-f0fe-49ac-a9d7-585196d837a7",
   "metadata": {},
   "outputs": [],
   "source": [
    "import numpy as np # linear algebra\n",
    "import pandas as pd "
   ]
  },
  {
   "cell_type": "code",
   "execution_count": 2,
   "id": "b39b897b-40cb-494f-92ee-043b1d8f22c6",
   "metadata": {},
   "outputs": [],
   "source": [
    "import tensorflow as tf\n",
    "from tensorflow.keras.models import Sequential\n",
    "from tensorflow.keras.layers import Dense, Dropout\n",
    "from sklearn.model_selection import train_test_split\n",
    "import matplotlib.pyplot as plt\n",
    "from keras.optimizers import SGD"
   ]
  },
  {
   "cell_type": "markdown",
   "id": "f28826f7-19bc-463e-8c54-a1e39915c3f7",
   "metadata": {},
   "source": [
    "## Preprocess Datas"
   ]
  },
  {
   "cell_type": "code",
   "execution_count": 3,
   "id": "e4db8339-59c5-486f-a0b2-2348e8591fc9",
   "metadata": {},
   "outputs": [],
   "source": [
    "df = pd.read_csv(\"train.csv\") # load data"
   ]
  },
  {
   "cell_type": "code",
   "execution_count": 4,
   "id": "de939aac-ed7c-4707-8e6d-ed7b2a37e2a1",
   "metadata": {},
   "outputs": [],
   "source": [
    "X = df.iloc[:,1:].values\n",
    "y = df.iloc[:,0].values"
   ]
  },
  {
   "cell_type": "code",
   "execution_count": 5,
   "id": "d6124f61-c5de-4c56-afb8-1adf7198a453",
   "metadata": {},
   "outputs": [
    {
     "name": "stdout",
     "output_type": "stream",
     "text": [
      "(42000, 784)\n",
      "(42000,)\n"
     ]
    }
   ],
   "source": [
    "print(X.shape)\n",
    "print(y.shape)"
   ]
  },
  {
   "cell_type": "markdown",
   "id": "6ac3b505-3d57-467b-9215-0fd586fc3724",
   "metadata": {},
   "source": [
    "**Normalize data**"
   ]
  },
  {
   "cell_type": "code",
   "execution_count": 6,
   "id": "cee106b7-e9cc-4e9d-b19f-f6c71aceef51",
   "metadata": {},
   "outputs": [],
   "source": [
    "X = X / 255"
   ]
  },
  {
   "cell_type": "markdown",
   "id": "9a419fc1-9aef-4eae-8a00-363a4a12e59a",
   "metadata": {},
   "source": [
    "**Split data to train and test set**"
   ]
  },
  {
   "cell_type": "code",
   "execution_count": 7,
   "id": "edcdd17d-a792-4c18-ab1c-4844909f5ffa",
   "metadata": {},
   "outputs": [],
   "source": [
    "X_train, X_test, y_train, y_test = train_test_split(X, y, test_size=0.25, random_state=42)"
   ]
  },
  {
   "cell_type": "code",
   "execution_count": 8,
   "id": "28adf104-dd5c-46d6-9904-633c5dd82dfc",
   "metadata": {},
   "outputs": [
    {
     "name": "stdout",
     "output_type": "stream",
     "text": [
      "X_train: (31500, 784)\n",
      "X_test: (10500, 784)\n",
      "y_train: (31500,)\n",
      "y_test: (10500,)\n"
     ]
    }
   ],
   "source": [
    "print(\"X_train:\",X_train.shape)\n",
    "print(\"X_test:\",X_test.shape)\n",
    "print(\"y_train:\",y_train.shape)\n",
    "print(\"y_test:\",y_test.shape)"
   ]
  },
  {
   "cell_type": "code",
   "execution_count": 9,
   "id": "cddb9fca-80ac-4e7d-a31b-3398f32390a7",
   "metadata": {},
   "outputs": [
    {
     "data": {
      "image/png": "[encoded data removed]",
      "text/plain": [
       "<Figure size 432x288 with 1 Axes>"
      ]
     },
     "metadata": {
      "needs_background": "light"
     },
     "output_type": "display_data"
    }
   ],
   "source": [
    "img = X_train[0].reshape(28,28,1)\n",
    "plt.imshow(img)\n",
    "plt.title(y_train[0],fontdict={'fontsize':30})\n",
    "plt.show()"
   ]
  },
  {
   "cell_type": "markdown",
   "id": "be8e5d47-ae71-4a2e-80bd-9b31cb6209b5",
   "metadata": {},
   "source": [
    "## Building a neural network model"
   ]
  },
  {
   "cell_type": "markdown",
   "id": "8d16d221-cbe8-4a7b-8e50-caae15d16075",
   "metadata": {},
   "source": [
    "**Creating a sequntial model**"
   ]
  },
  {
   "cell_type": "code",
   "execution_count": 10,
   "id": "edba5451-b8c7-4276-893f-1e54cc224a4d",
   "metadata": {},
   "outputs": [],
   "source": [
    "model = Sequential()"
   ]
  },
  {
   "cell_type": "code",
   "execution_count": 11,
   "id": "19d28128-34a6-492b-9cd4-8be98cd684da",
   "metadata": {},
   "outputs": [
    {
     "name": "stdout",
     "output_type": "stream",
     "text": [
      "Model: \"sequential\"\n",
      "_________________________________________________________________\n",
      " Layer (type)                Output Shape              Param #   \n",
      "=================================================================\n",
      " dense (Dense)               (None, 512)               401920    \n",
      "                                                                 \n",
      " dropout (Dropout)           (None, 512)               0         \n",
      "                                                                 \n",
      " dense_1 (Dense)             (None, 64)                32832     \n",
      "                                                                 \n",
      " dropout_1 (Dropout)         (None, 64)                0         \n",
      "                                                                 \n",
      " dense_2 (Dense)             (None, 10)                650       \n",
      "                                                                 \n",
      "=================================================================\n",
      "Total params: 435,402\n",
      "Trainable params: 435,402\n",
      "Non-trainable params: 0\n",
      "_________________________________________________________________\n"
     ]
    }
   ],
   "source": [
    "model.add(Dense(512,activation='relu', input_dim=784))\n",
    "model.add(Dropout(0.5))\n",
    "model.add(Dense(64,activation='relu'))\n",
    "model.add(Dropout(0.5))\n",
    "# Add last output generating layer in our model\n",
    "model.add(Dense(10,activation='softmax'))\n",
    "\n",
    "# getting model summary\n",
    "model.summary()"
   ]
  },
  {
   "cell_type": "code",
   "execution_count": 12,
   "id": "b9345df5-c2b5-4cd7-ba2b-ed76ccfaeb0f",
   "metadata": {},
   "outputs": [],
   "source": [
    "model.compile(optimizer=SGD(learning_rate = 1e-2),loss='sparse_categorical_crossentropy',metrics=['accuracy'])"
   ]
  },
  {
   "cell_type": "code",
   "execution_count": 13,
   "id": "928b70d1-71a8-4135-a3df-d613da5c591d",
   "metadata": {},
   "outputs": [
    {
     "name": "stdout",
     "output_type": "stream",
     "text": [
      "Epoch 1/20\n",
      "247/247 [==============================] - 2s 7ms/step - loss: 1.9136 - accuracy: 0.3330 - val_loss: 1.2169 - val_accuracy: 0.7823\n",
      "Epoch 2/20\n",
      "247/247 [==============================] - 2s 7ms/step - loss: 1.2653 - accuracy: 0.5954 - val_loss: 0.7423 - val_accuracy: 0.8410\n",
      "Epoch 3/20\n",
      "247/247 [==============================] - 2s 6ms/step - loss: 0.9738 - accuracy: 0.6903 - val_loss: 0.5751 - val_accuracy: 0.8670\n",
      "Epoch 4/20\n",
      "247/247 [==============================] - 2s 6ms/step - loss: 0.8324 - accuracy: 0.7403 - val_loss: 0.4927 - val_accuracy: 0.8795\n",
      "Epoch 5/20\n",
      "247/247 [==============================] - 2s 7ms/step - loss: 0.7412 - accuracy: 0.7703 - val_loss: 0.4409 - val_accuracy: 0.8863\n",
      "Epoch 6/20\n",
      "247/247 [==============================] - 2s 6ms/step - loss: 0.6724 - accuracy: 0.7926 - val_loss: 0.4049 - val_accuracy: 0.8917\n",
      "Epoch 7/20\n",
      "247/247 [==============================] - 2s 6ms/step - loss: 0.6241 - accuracy: 0.8094 - val_loss: 0.3765 - val_accuracy: 0.8981\n",
      "Epoch 8/20\n",
      "247/247 [==============================] - 2s 6ms/step - loss: 0.5837 - accuracy: 0.8238 - val_loss: 0.3552 - val_accuracy: 0.9015\n",
      "Epoch 9/20\n",
      "247/247 [==============================] - 2s 7ms/step - loss: 0.5543 - accuracy: 0.8326 - val_loss: 0.3400 - val_accuracy: 0.9039\n",
      "Epoch 10/20\n",
      "247/247 [==============================] - 2s 6ms/step - loss: 0.5209 - accuracy: 0.8469 - val_loss: 0.3228 - val_accuracy: 0.9092\n",
      "Epoch 11/20\n",
      "247/247 [==============================] - 1s 6ms/step - loss: 0.5034 - accuracy: 0.8508 - val_loss: 0.3109 - val_accuracy: 0.9115\n",
      "Epoch 12/20\n",
      "247/247 [==============================] - 1s 6ms/step - loss: 0.4839 - accuracy: 0.8578 - val_loss: 0.2987 - val_accuracy: 0.9145\n",
      "Epoch 13/20\n",
      "247/247 [==============================] - 2s 6ms/step - loss: 0.4688 - accuracy: 0.8605 - val_loss: 0.2902 - val_accuracy: 0.9158\n",
      "Epoch 14/20\n",
      "247/247 [==============================] - 2s 6ms/step - loss: 0.4498 - accuracy: 0.8669 - val_loss: 0.2803 - val_accuracy: 0.9179\n",
      "Epoch 15/20\n",
      "247/247 [==============================] - 2s 6ms/step - loss: 0.4373 - accuracy: 0.8727 - val_loss: 0.2721 - val_accuracy: 0.9204\n",
      "Epoch 16/20\n",
      "247/247 [==============================] - 2s 7ms/step - loss: 0.4243 - accuracy: 0.8769 - val_loss: 0.2659 - val_accuracy: 0.9220\n",
      "Epoch 17/20\n",
      "247/247 [==============================] - 2s 6ms/step - loss: 0.4116 - accuracy: 0.8813 - val_loss: 0.2573 - val_accuracy: 0.9235\n",
      "Epoch 18/20\n",
      "247/247 [==============================] - 1s 6ms/step - loss: 0.4027 - accuracy: 0.8840 - val_loss: 0.2512 - val_accuracy: 0.9250\n",
      "Epoch 19/20\n",
      "247/247 [==============================] - 2s 7ms/step - loss: 0.3956 - accuracy: 0.8852 - val_loss: 0.2459 - val_accuracy: 0.9275\n",
      "Epoch 20/20\n",
      "247/247 [==============================] - 1s 6ms/step - loss: 0.3839 - accuracy: 0.8899 - val_loss: 0.2388 - val_accuracy: 0.9287\n"
     ]
    },
    {
     "data": {
      "text/plain": [
       "<keras.callbacks.History at 0x1e3f955cdc0>"
      ]
     },
     "execution_count": 13,
     "metadata": {},
     "output_type": "execute_result"
    }
   ],
   "source": [
    "model.fit(X_train,y_train,verbose=1,validation_data=(X_test,y_test),batch_size=128,epochs=20)"
   ]
  },
  {
   "cell_type": "code",
   "execution_count": 14,
   "id": "1d091d72-b934-4124-a8d5-44c177f0042a",
   "metadata": {},
   "outputs": [],
   "source": [
    "loss_df = pd.DataFrame(model.history.history)"
   ]
  },
  {
   "cell_type": "code",
   "execution_count": 15,
   "id": "0e922f2c-4e85-4e3c-a427-6980d9c78aab",
   "metadata": {},
   "outputs": [
    {
     "data": {
      "text/plain": [
       "<AxesSubplot:>"
      ]
     },
     "execution_count": 15,
     "metadata": {},
     "output_type": "execute_result"
    },
    {
     "data": {
      "image/png": "[encoded data removed]",
      "text/plain": [
       "<Figure size 432x288 with 1 Axes>"
      ]
     },
     "metadata": {
      "needs_background": "light"
     },
     "output_type": "display_data"
    },
    {
     "data": {
      "image/png": "[encoded data removed]",
      "text/plain": [
       "<Figure size 432x288 with 1 Axes>"
      ]
     },
     "metadata": {
      "needs_background": "light"
     },
     "output_type": "display_data"
    }
   ],
   "source": [
    "loss_df[['loss','val_loss']].plot()\n",
    "loss_df[['accuracy','val_accuracy']].plot()"
   ]
  },
  {
   "cell_type": "markdown",
   "id": "0c152082-c3fa-445f-a274-b0ff2a3e997a",
   "metadata": {},
   "source": [
    "**Predict**"
   ]
  },
  {
   "cell_type": "code",
   "execution_count": 16,
   "id": "da16087a-e76c-4988-9911-0bac6eb717ea",
   "metadata": {},
   "outputs": [
    {
     "name": "stdout",
     "output_type": "stream",
     "text": [
      "1/1 [==============================] - 0s 80ms/step\n"
     ]
    },
    {
     "data": {
      "image/png": "[encoded data removed]",
      "text/plain": [
       "<Figure size 432x288 with 1 Axes>"
      ]
     },
     "metadata": {
      "needs_background": "light"
     },
     "output_type": "display_data"
    }
   ],
   "source": [
    "index = 10\n",
    "img = X_test[index].reshape(28,28,1)\n",
    "plt.imshow(img)\n",
    "plt.title(np.argmax(model.predict(X_test[index:index+1, :])),fontdict={'fontsize':30})\n",
    "plt.show()"
   ]
  },
  {
   "cell_type": "markdown",
   "id": "cebecdbe-7340-4299-a778-52e25fe90b92",
   "metadata": {},
   "source": [
    "## Try it yourself"
   ]
  }
 ],
 "metadata": {
  "kernelspec": {
   "display_name": "Python 3 (ipykernel)",
   "language": "python",
   "name": "python3"
  },
  "language_info": {
   "codemirror_mode": {
    "name": "ipython",
    "version": 3
   },
   "file_extension": ".py",
   "mimetype": "text/x-python",
   "name": "python",
   "nbconvert_exporter": "python",
   "pygments_lexer": "ipython3",
   "version": "3.9.7"
  }
 },
 "nbformat": 4,
 "nbformat_minor": 5
}
