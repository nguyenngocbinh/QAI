{
 "cells": [
  {
   "cell_type": "code",
   "execution_count": 9,
   "id": "fbd9c024",
   "metadata": {},
   "outputs": [],
   "source": [
    "# Standard Libraries\n",
    "import os\n",
    "import numpy as np \n",
    "import pandas as pd \n",
    "import random as rn\n",
    "\n",
    "# Visualization libraries\n",
    "import matplotlib\n",
    "import matplotlib.pyplot as plt\n",
    "import seaborn as sns\n",
    "sns.set_style({\"axes.facecolor\": \".95\"})\n",
    "\n",
    "# Modeling and Machine Learning\n",
    "from IPython.display import Image \n",
    "from sklearn.manifold import TSNE\n",
    "from sklearn.metrics import accuracy_score\n",
    "from sklearn.decomposition import TruncatedSVD\n",
    "from sklearn.model_selection import train_test_split\n",
    "from sklearn.tree import DecisionTreeClassifier, export_graphviz\n",
    "\n",
    "# Specify Paths for easy dataloading\n",
    "BASE_PATH = './data/mnist/'\n",
    "TRAIN_PATH = BASE_PATH + 'train.csv'\n",
    "TEST_PATH = BASE_PATH + 'test.csv'\n",
    "\n",
    "# Seed for reproducability\n",
    "seed = 1234\n",
    "np.random.seed(seed)\n",
    "rn.seed(seed)\n",
    "os.environ['PYTHONHASHSEED'] = str(seed)"
   ]
  },
  {
   "cell_type": "code",
   "execution_count": 10,
   "id": "887e913f",
   "metadata": {},
   "outputs": [
    {
     "name": "stdout",
     "output_type": "stream",
     "text": [
      "\n",
      "# Files and file sizes\n",
      "sample_submission.csv         | 0.24 MB\n",
      "test.csv                      | 51.12 MB\n",
      "train.csv                     | 76.78 MB\n"
     ]
    }
   ],
   "source": [
    "# File sizes and specifications\n",
    "print('\\n# Files and file sizes')\n",
    "for file in os.listdir(BASE_PATH):\n",
    "    print('{}| {} MB'.format(file.ljust(30), \n",
    "                             str(round(os.path.getsize(BASE_PATH + file) / 1000000, 2))))"
   ]
  },
  {
   "cell_type": "code",
   "execution_count": 11,
   "id": "9485cfb8",
   "metadata": {},
   "outputs": [],
   "source": [
    "# Load in training and testing data\n",
    "train_df = pd.read_csv(TRAIN_PATH)\n",
    "test_df = pd.read_csv(TEST_PATH)\n",
    "concat_df = pd.concat([train_df, test_df])\n",
    "sample_sub = pd.read_csv(BASE_PATH + 'sample_submission.csv');"
   ]
  },
  {
   "cell_type": "code",
   "execution_count": 12,
   "id": "e7a67d07",
   "metadata": {},
   "outputs": [],
   "source": [
    "def acc(y_true : np.ndarray, y_pred : np.ndarray) -> float:\n",
    "    \"\"\"\n",
    "        Calculates the accuracy score between labels and predictions.\n",
    "        \n",
    "        :param y_true: The true labels of the data\n",
    "        :param y_pred: The predictions for the data\n",
    "        \n",
    "        :return: a floating point number denoting the accuracy\n",
    "    \"\"\"\n",
    "    return round(accuracy_score(y_true, y_pred) * 100, 2)"
   ]
  },
  {
   "cell_type": "code",
   "execution_count": 17,
   "id": "d2e845e0",
   "metadata": {},
   "outputs": [
    {
     "name": "stdout",
     "output_type": "stream",
     "text": [
      "(33600, 784) (33600,)\n",
      "(8400, 784) (8400,)\n"
     ]
    }
   ],
   "source": [
    "# Get all pixel features\n",
    "features = [col for col in train_df.columns if col.startswith('pixel')]\n",
    "# Split up training to for validation\n",
    "X_train, X_val, y_train, y_val = train_test_split(train_df[features], \n",
    "                                                  train_df['label'], \n",
    "                                                  test_size=0.2, \n",
    "                                                  random_state=seed)\n",
    "\n",
    "print (X_train.shape, y_train.shape)\n",
    "print (X_val.shape, y_val.shape)"
   ]
  },
  {
   "cell_type": "code",
   "execution_count": null,
   "id": "70c00cfa",
   "metadata": {},
   "outputs": [],
   "source": []
  }
 ],
 "metadata": {
  "kernelspec": {
   "display_name": "Python 3 (ipykernel)",
   "language": "python",
   "name": "python3"
  },
  "language_info": {
   "codemirror_mode": {
    "name": "ipython",
    "version": 3
   },
   "file_extension": ".py",
   "mimetype": "text/x-python",
   "name": "python",
   "nbconvert_exporter": "python",
   "pygments_lexer": "ipython3",
   "version": "3.9.6"
  }
 },
 "nbformat": 4,
 "nbformat_minor": 5
}
