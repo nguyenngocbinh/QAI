{
  "cells": [
    {
      "cell_type": "markdown",
      "metadata": {
        "id": "view-in-github",
        "colab_type": "text"
      },
      "source": [
        "<a href=\"https://colab.research.google.com/github/nguyenngocbinh/QAI/blob/master/How_to_Improve_an_Imbalanced_Dataset.ipynb\" target=\"_parent\"><img src=\"https://colab.research.google.com/assets/colab-badge.svg\" alt=\"Open In Colab\"/></a>"
      ]
    },
    {
      "cell_type": "markdown",
      "metadata": {
        "id": "968MW8wNN10_"
      },
      "source": [
        "# This is How to Improve an Imbalanced Dataset\n",
        "-------------------------\n",
        "\n",
        "When working with data in the real world, the issue of an imbalanced dataset comes up more often than you may think. An imbalanced dataset is when the data has significantly less data in a class, relative to the other classes present. For example, a dataset which is used for predicting diabetes, it wouldn't be rare to find 2 times more records of patients without diabetes than patients with diabetes. Why is this a problem? It's a problem because, in the example mentioned, our model can easily achieve 66% accuracy by always predicting the patient to not have diabetes. Yes, 66% accuracy isn't good, but because it's better than random (i.e., 50% in this case), it gives us this false sense that our model is actually learning something valuable, when in fact, it just learned to always predict the same thing.\n",
        "\n",
        "Let's take a look at an example of an imbalanced dataset. For our example, we'll be using the Pima Indians Diabetes dataset. We're going to be re-running the code from our [last article which introduced PyTorch's DataLoader](https://cutt.ly/cg2ai-pytorch-dataloader-medium). In this article, I'll use the headings to describe the reused code, but if you want further explanation on it, then please refer to the article on [PyTorch's DataLoader](https://cutt.ly/cg2ai-pytorch-dataloader-medium).\n",
        "\n",
        "### Import relevant libraries"
      ]
    },
    {
      "cell_type": "code",
      "execution_count": 1,
      "metadata": {
        "_cell_guid": "b1076dfc-b9ad-4769-8c92-a6c4dae69d19",
        "_uuid": "8f2839f25d086af736a60e9eeb907d3b93b6e0e5",
        "id": "C5qF86LqN11N"
      },
      "outputs": [],
      "source": [
        "import pandas as pd\n",
        "import torch\n",
        "import seaborn as sns\n",
        "import numpy as np\n",
        "import matplotlib.pyplot as plt\n",
        "from sklearn.model_selection import train_test_split\n",
        "from sklearn.preprocessing import StandardScaler\n",
        "import torch.nn as nn\n",
        "from torch.utils.data import Dataset\n",
        "from torch.utils.data import DataLoader"
      ]
    },
    {
      "cell_type": "markdown",
      "metadata": {
        "id": "JRy0NMiODNjC"
      },
      "source": [
        "### Read, split and scale data"
      ]
    },
    {
      "cell_type": "code",
      "source": [
        "!wget --header=\"Host: p8vwkq.dm.files.1drv.com\" --header=\"User-Agent: Mozilla/5.0 (Windows NT 10.0; Win64; x64) AppleWebKit/537.36 (KHTML, like Gecko) Chrome/103.0.0.0 Safari/537.36\" --header=\"Accept: text/html,application/xhtml+xml,application/xml;q=0.9,image/avif,image/webp,image/apng,*/*;q=0.8,application/signed-exchange;v=b3;q=0.9\" --header=\"Accept-Language: vi-VN,vi;q=0.9,fr-FR;q=0.8,fr;q=0.7,en-US;q=0.6,en;q=0.5,ko;q=0.4\" --header=\"Referer: https://onedrive.live.com/\" \"https://p8vwkq.dm.files.1drv.com/y4m47W-CG8J1VqKkT9U5ICRkmA3_qmEPp9NNZsubE7sP1xLr5oCugYjN8z_QDcgNeDgRbKCpyq02HmOdhkM-l5agVJt5SdHrDW0ArThcqCrVtC34vwNIqPZ7rieqcQxVxMghXPDo8aU3raKv2u9knOrom6f-slocGiFiArvYQ1Gpb1e9aX6b902bjQlu88wYwKO4xiHiaBOJgHOkdPQGYc2AQ\" -c -O 'creditcard.csv'"
      ],
      "metadata": {
        "colab": {
          "base_uri": "https://localhost:8080/"
        },
        "id": "lWTpH5mQPfWV",
        "outputId": "db977e41-382d-4df6-d55c-707480af7d0b"
      },
      "execution_count": 2,
      "outputs": [
        {
          "output_type": "stream",
          "name": "stdout",
          "text": [
            "--2022-07-09 07:45:51--  https://p8vwkq.dm.files.1drv.com/y4m47W-CG8J1VqKkT9U5ICRkmA3_qmEPp9NNZsubE7sP1xLr5oCugYjN8z_QDcgNeDgRbKCpyq02HmOdhkM-l5agVJt5SdHrDW0ArThcqCrVtC34vwNIqPZ7rieqcQxVxMghXPDo8aU3raKv2u9knOrom6f-slocGiFiArvYQ1Gpb1e9aX6b902bjQlu88wYwKO4xiHiaBOJgHOkdPQGYc2AQ\n",
            "Resolving p8vwkq.dm.files.1drv.com (p8vwkq.dm.files.1drv.com)... 13.107.42.12\n",
            "Connecting to p8vwkq.dm.files.1drv.com (p8vwkq.dm.files.1drv.com)|13.107.42.12|:443... connected.\n",
            "HTTP request sent, awaiting response... 200 OK\n",
            "Length: 150828752 (144M) [application/octet-stream]\n",
            "Saving to: ‘creditcard.csv’\n",
            "\n",
            "creditcard.csv      100%[===================>] 143.84M  24.8MB/s    in 5.9s    \n",
            "\n",
            "2022-07-09 07:45:58 (24.2 MB/s) - ‘creditcard.csv’ saved [150828752/150828752]\n",
            "\n"
          ]
        }
      ]
    },
    {
      "cell_type": "code",
      "execution_count": 3,
      "metadata": {
        "id": "A2P4akI_x7a8",
        "colab": {
          "base_uri": "https://localhost:8080/",
          "height": 299
        },
        "outputId": "5df9b218-f6fc-4d20-9e9f-e7072810c166"
      },
      "outputs": [
        {
          "output_type": "execute_result",
          "data": {
            "text/plain": [
              "   Time        V1        V2        V3        V4        V5        V6        V7  \\\n",
              "0   0.0 -1.359807 -0.072781  2.536347  1.378155 -0.338321  0.462388  0.239599   \n",
              "1   0.0  1.191857  0.266151  0.166480  0.448154  0.060018 -0.082361 -0.078803   \n",
              "2   1.0 -1.358354 -1.340163  1.773209  0.379780 -0.503198  1.800499  0.791461   \n",
              "3   1.0 -0.966272 -0.185226  1.792993 -0.863291 -0.010309  1.247203  0.237609   \n",
              "4   2.0 -1.158233  0.877737  1.548718  0.403034 -0.407193  0.095921  0.592941   \n",
              "\n",
              "         V8        V9  ...       V21       V22       V23       V24       V25  \\\n",
              "0  0.098698  0.363787  ... -0.018307  0.277838 -0.110474  0.066928  0.128539   \n",
              "1  0.085102 -0.255425  ... -0.225775 -0.638672  0.101288 -0.339846  0.167170   \n",
              "2  0.247676 -1.514654  ...  0.247998  0.771679  0.909412 -0.689281 -0.327642   \n",
              "3  0.377436 -1.387024  ... -0.108300  0.005274 -0.190321 -1.175575  0.647376   \n",
              "4 -0.270533  0.817739  ... -0.009431  0.798278 -0.137458  0.141267 -0.206010   \n",
              "\n",
              "        V26       V27       V28  Amount  Class  \n",
              "0 -0.189115  0.133558 -0.021053  149.62      0  \n",
              "1  0.125895 -0.008983  0.014724    2.69      0  \n",
              "2 -0.139097 -0.055353 -0.059752  378.66      0  \n",
              "3 -0.221929  0.062723  0.061458  123.50      0  \n",
              "4  0.502292  0.219422  0.215153   69.99      0  \n",
              "\n",
              "[5 rows x 31 columns]"
            ],
            "text/html": [
              "\n",
              "  <div id=\"df-e82c8916-cede-48a6-ae6a-e3c510fba6b7\">\n",
              "    <div class=\"colab-df-container\">\n",
              "      <div>\n",
              "<style scoped>\n",
              "    .dataframe tbody tr th:only-of-type {\n",
              "        vertical-align: middle;\n",
              "    }\n",
              "\n",
              "    .dataframe tbody tr th {\n",
              "        vertical-align: top;\n",
              "    }\n",
              "\n",
              "    .dataframe thead th {\n",
              "        text-align: right;\n",
              "    }\n",
              "</style>\n",
              "<table border=\"1\" class=\"dataframe\">\n",
              "  <thead>\n",
              "    <tr style=\"text-align: right;\">\n",
              "      <th></th>\n",
              "      <th>Time</th>\n",
              "      <th>V1</th>\n",
              "      <th>V2</th>\n",
              "      <th>V3</th>\n",
              "      <th>V4</th>\n",
              "      <th>V5</th>\n",
              "      <th>V6</th>\n",
              "      <th>V7</th>\n",
              "      <th>V8</th>\n",
              "      <th>V9</th>\n",
              "      <th>...</th>\n",
              "      <th>V21</th>\n",
              "      <th>V22</th>\n",
              "      <th>V23</th>\n",
              "      <th>V24</th>\n",
              "      <th>V25</th>\n",
              "      <th>V26</th>\n",
              "      <th>V27</th>\n",
              "      <th>V28</th>\n",
              "      <th>Amount</th>\n",
              "      <th>Class</th>\n",
              "    </tr>\n",
              "  </thead>\n",
              "  <tbody>\n",
              "    <tr>\n",
              "      <th>0</th>\n",
              "      <td>0.0</td>\n",
              "      <td>-1.359807</td>\n",
              "      <td>-0.072781</td>\n",
              "      <td>2.536347</td>\n",
              "      <td>1.378155</td>\n",
              "      <td>-0.338321</td>\n",
              "      <td>0.462388</td>\n",
              "      <td>0.239599</td>\n",
              "      <td>0.098698</td>\n",
              "      <td>0.363787</td>\n",
              "      <td>...</td>\n",
              "      <td>-0.018307</td>\n",
              "      <td>0.277838</td>\n",
              "      <td>-0.110474</td>\n",
              "      <td>0.066928</td>\n",
              "      <td>0.128539</td>\n",
              "      <td>-0.189115</td>\n",
              "      <td>0.133558</td>\n",
              "      <td>-0.021053</td>\n",
              "      <td>149.62</td>\n",
              "      <td>0</td>\n",
              "    </tr>\n",
              "    <tr>\n",
              "      <th>1</th>\n",
              "      <td>0.0</td>\n",
              "      <td>1.191857</td>\n",
              "      <td>0.266151</td>\n",
              "      <td>0.166480</td>\n",
              "      <td>0.448154</td>\n",
              "      <td>0.060018</td>\n",
              "      <td>-0.082361</td>\n",
              "      <td>-0.078803</td>\n",
              "      <td>0.085102</td>\n",
              "      <td>-0.255425</td>\n",
              "      <td>...</td>\n",
              "      <td>-0.225775</td>\n",
              "      <td>-0.638672</td>\n",
              "      <td>0.101288</td>\n",
              "      <td>-0.339846</td>\n",
              "      <td>0.167170</td>\n",
              "      <td>0.125895</td>\n",
              "      <td>-0.008983</td>\n",
              "      <td>0.014724</td>\n",
              "      <td>2.69</td>\n",
              "      <td>0</td>\n",
              "    </tr>\n",
              "    <tr>\n",
              "      <th>2</th>\n",
              "      <td>1.0</td>\n",
              "      <td>-1.358354</td>\n",
              "      <td>-1.340163</td>\n",
              "      <td>1.773209</td>\n",
              "      <td>0.379780</td>\n",
              "      <td>-0.503198</td>\n",
              "      <td>1.800499</td>\n",
              "      <td>0.791461</td>\n",
              "      <td>0.247676</td>\n",
              "      <td>-1.514654</td>\n",
              "      <td>...</td>\n",
              "      <td>0.247998</td>\n",
              "      <td>0.771679</td>\n",
              "      <td>0.909412</td>\n",
              "      <td>-0.689281</td>\n",
              "      <td>-0.327642</td>\n",
              "      <td>-0.139097</td>\n",
              "      <td>-0.055353</td>\n",
              "      <td>-0.059752</td>\n",
              "      <td>378.66</td>\n",
              "      <td>0</td>\n",
              "    </tr>\n",
              "    <tr>\n",
              "      <th>3</th>\n",
              "      <td>1.0</td>\n",
              "      <td>-0.966272</td>\n",
              "      <td>-0.185226</td>\n",
              "      <td>1.792993</td>\n",
              "      <td>-0.863291</td>\n",
              "      <td>-0.010309</td>\n",
              "      <td>1.247203</td>\n",
              "      <td>0.237609</td>\n",
              "      <td>0.377436</td>\n",
              "      <td>-1.387024</td>\n",
              "      <td>...</td>\n",
              "      <td>-0.108300</td>\n",
              "      <td>0.005274</td>\n",
              "      <td>-0.190321</td>\n",
              "      <td>-1.175575</td>\n",
              "      <td>0.647376</td>\n",
              "      <td>-0.221929</td>\n",
              "      <td>0.062723</td>\n",
              "      <td>0.061458</td>\n",
              "      <td>123.50</td>\n",
              "      <td>0</td>\n",
              "    </tr>\n",
              "    <tr>\n",
              "      <th>4</th>\n",
              "      <td>2.0</td>\n",
              "      <td>-1.158233</td>\n",
              "      <td>0.877737</td>\n",
              "      <td>1.548718</td>\n",
              "      <td>0.403034</td>\n",
              "      <td>-0.407193</td>\n",
              "      <td>0.095921</td>\n",
              "      <td>0.592941</td>\n",
              "      <td>-0.270533</td>\n",
              "      <td>0.817739</td>\n",
              "      <td>...</td>\n",
              "      <td>-0.009431</td>\n",
              "      <td>0.798278</td>\n",
              "      <td>-0.137458</td>\n",
              "      <td>0.141267</td>\n",
              "      <td>-0.206010</td>\n",
              "      <td>0.502292</td>\n",
              "      <td>0.219422</td>\n",
              "      <td>0.215153</td>\n",
              "      <td>69.99</td>\n",
              "      <td>0</td>\n",
              "    </tr>\n",
              "  </tbody>\n",
              "</table>\n",
              "<p>5 rows × 31 columns</p>\n",
              "</div>\n",
              "      <button class=\"colab-df-convert\" onclick=\"convertToInteractive('df-e82c8916-cede-48a6-ae6a-e3c510fba6b7')\"\n",
              "              title=\"Convert this dataframe to an interactive table.\"\n",
              "              style=\"display:none;\">\n",
              "        \n",
              "  <svg xmlns=\"http://www.w3.org/2000/svg\" height=\"24px\"viewBox=\"0 0 24 24\"\n",
              "       width=\"24px\">\n",
              "    <path d=\"M0 0h24v24H0V0z\" fill=\"none\"/>\n",
              "    <path d=\"M18.56 5.44l.94 2.06.94-2.06 2.06-.94-2.06-.94-.94-2.06-.94 2.06-2.06.94zm-11 1L8.5 8.5l.94-2.06 2.06-.94-2.06-.94L8.5 2.5l-.94 2.06-2.06.94zm10 10l.94 2.06.94-2.06 2.06-.94-2.06-.94-.94-2.06-.94 2.06-2.06.94z\"/><path d=\"M17.41 7.96l-1.37-1.37c-.4-.4-.92-.59-1.43-.59-.52 0-1.04.2-1.43.59L10.3 9.45l-7.72 7.72c-.78.78-.78 2.05 0 2.83L4 21.41c.39.39.9.59 1.41.59.51 0 1.02-.2 1.41-.59l7.78-7.78 2.81-2.81c.8-.78.8-2.07 0-2.86zM5.41 20L4 18.59l7.72-7.72 1.47 1.35L5.41 20z\"/>\n",
              "  </svg>\n",
              "      </button>\n",
              "      \n",
              "  <style>\n",
              "    .colab-df-container {\n",
              "      display:flex;\n",
              "      flex-wrap:wrap;\n",
              "      gap: 12px;\n",
              "    }\n",
              "\n",
              "    .colab-df-convert {\n",
              "      background-color: #E8F0FE;\n",
              "      border: none;\n",
              "      border-radius: 50%;\n",
              "      cursor: pointer;\n",
              "      display: none;\n",
              "      fill: #1967D2;\n",
              "      height: 32px;\n",
              "      padding: 0 0 0 0;\n",
              "      width: 32px;\n",
              "    }\n",
              "\n",
              "    .colab-df-convert:hover {\n",
              "      background-color: #E2EBFA;\n",
              "      box-shadow: 0px 1px 2px rgba(60, 64, 67, 0.3), 0px 1px 3px 1px rgba(60, 64, 67, 0.15);\n",
              "      fill: #174EA6;\n",
              "    }\n",
              "\n",
              "    [theme=dark] .colab-df-convert {\n",
              "      background-color: #3B4455;\n",
              "      fill: #D2E3FC;\n",
              "    }\n",
              "\n",
              "    [theme=dark] .colab-df-convert:hover {\n",
              "      background-color: #434B5C;\n",
              "      box-shadow: 0px 1px 3px 1px rgba(0, 0, 0, 0.15);\n",
              "      filter: drop-shadow(0px 1px 2px rgba(0, 0, 0, 0.3));\n",
              "      fill: #FFFFFF;\n",
              "    }\n",
              "  </style>\n",
              "\n",
              "      <script>\n",
              "        const buttonEl =\n",
              "          document.querySelector('#df-e82c8916-cede-48a6-ae6a-e3c510fba6b7 button.colab-df-convert');\n",
              "        buttonEl.style.display =\n",
              "          google.colab.kernel.accessAllowed ? 'block' : 'none';\n",
              "\n",
              "        async function convertToInteractive(key) {\n",
              "          const element = document.querySelector('#df-e82c8916-cede-48a6-ae6a-e3c510fba6b7');\n",
              "          const dataTable =\n",
              "            await google.colab.kernel.invokeFunction('convertToInteractive',\n",
              "                                                     [key], {});\n",
              "          if (!dataTable) return;\n",
              "\n",
              "          const docLinkHtml = 'Like what you see? Visit the ' +\n",
              "            '<a target=\"_blank\" href=https://colab.research.google.com/notebooks/data_table.ipynb>data table notebook</a>'\n",
              "            + ' to learn more about interactive tables.';\n",
              "          element.innerHTML = '';\n",
              "          dataTable['output_type'] = 'display_data';\n",
              "          await google.colab.output.renderOutput(dataTable, element);\n",
              "          const docLink = document.createElement('div');\n",
              "          docLink.innerHTML = docLinkHtml;\n",
              "          element.appendChild(docLink);\n",
              "        }\n",
              "      </script>\n",
              "    </div>\n",
              "  </div>\n",
              "  "
            ]
          },
          "metadata": {},
          "execution_count": 3
        }
      ],
      "source": [
        "df = pd.read_csv(r'creditcard.csv')\n",
        "df.head(5)"
      ]
    },
    {
      "cell_type": "code",
      "source": [
        "\n",
        "# TODO\n",
        "X = # remove label column\n",
        "y = # get label column\n",
        "X = X.values\n",
        "y = torch.tensor(y.values)\n",
        "\n",
        "X_train, X_test, y_train, y_test = train_test_split(X, y, test_size=0.33, random_state=42)\n",
        "\n",
        "scaler = StandardScaler()\n",
        "scaler.fit(X_train)\n",
        "X_train = torch.tensor(scaler.transform(X_train))\n",
        "X_test = # transform test set\n",
        "df.shape"
      ],
      "metadata": {
        "id": "BczSJ_2g6Ko4"
      },
      "execution_count": null,
      "outputs": []
    },
    {
      "cell_type": "code",
      "source": [
        "print(f\"Number data point in Train set: {len(X_train)}\")\n",
        "print(f\"Number data point in Test set: {len(X_test)}\")"
      ],
      "metadata": {
        "colab": {
          "base_uri": "https://localhost:8080/"
        },
        "id": "8k2XriGQQfya",
        "outputId": "61f4664a-093c-416b-b625-822b9226b410"
      },
      "execution_count": null,
      "outputs": [
        {
          "output_type": "stream",
          "name": "stdout",
          "text": [
            "Number data point in Train set: 190820\n",
            "Number data point in Test set: 93987\n"
          ]
        }
      ]
    },
    {
      "cell_type": "code",
      "source": [
        "# The classes are heavily skewed we need to solve this issue later.\n",
        "print('No Frauds', round((len(X_train) - np.count_nonzero(y_train))/len(X_train) * 100,2), '% of the Train dataset')\n",
        "print('Frauds', round(np.count_nonzero(y_train)/len(X_train) * 100,2), '% of the Train dataset')"
      ],
      "metadata": {
        "colab": {
          "base_uri": "https://localhost:8080/"
        },
        "id": "eIAj97mrPxYW",
        "outputId": "9d7ddc6b-8952-4eeb-a5f5-6626379c5268"
      },
      "execution_count": null,
      "outputs": [
        {
          "output_type": "stream",
          "name": "stdout",
          "text": [
            "No Frauds 99.82 % of the Train dataset\n",
            "Frauds 0.18 % of the Train dataset\n"
          ]
        }
      ]
    },
    {
      "cell_type": "code",
      "source": [
        "# The classes are heavily skewed we need to solve this issue later.\n",
        "print('No Frauds', round((len(X_test) - np.count_nonzero(y_test))/len(X_test) * 100,2), '% of the test dataset')\n",
        "print('Frauds', round(np.count_nonzero(y_test)/len(X_test) * 100,2), '% of the test dataset')"
      ],
      "metadata": {
        "colab": {
          "base_uri": "https://localhost:8080/"
        },
        "id": "DXNSK-w5QvAY",
        "outputId": "2865c10f-95db-4ec6-d265-bba59d266981"
      },
      "execution_count": null,
      "outputs": [
        {
          "output_type": "stream",
          "name": "stdout",
          "text": [
            "No Frauds 99.84 % of the test dataset\n",
            "Frauds 0.16 % of the test dataset\n"
          ]
        }
      ]
    },
    {
      "cell_type": "code",
      "source": [
        "colors = [\"#0101DF\", \"#DF0101\"]\n",
        "\n",
        "sns.countplot('Class', data=df, palette=colors)\n",
        "plt.title('Class Distributions \\n (0: No Fraud || 1: Fraud)', fontsize=14)"
      ],
      "metadata": {
        "colab": {
          "base_uri": "https://localhost:8080/",
          "height": 385
        },
        "id": "WUsDM7h4NDHZ",
        "outputId": "acad31bb-12d9-4fd6-d8f0-329aa0221dfc"
      },
      "execution_count": null,
      "outputs": [
        {
          "output_type": "stream",
          "name": "stderr",
          "text": [
            "/usr/local/lib/python3.7/dist-packages/seaborn/_decorators.py:43: FutureWarning: Pass the following variable as a keyword arg: x. From version 0.12, the only valid positional argument will be `data`, and passing other arguments without an explicit keyword will result in an error or misinterpretation.\n",
            "  FutureWarning\n"
          ]
        },
        {
          "output_type": "execute_result",
          "data": {
            "text/plain": [
              "Text(0.5, 1.0, 'Class Distributions \\n (0: No Fraud || 1: Fraud)')"
            ]
          },
          "metadata": {},
          "execution_count": 6
        },
        {
          "output_type": "display_data",
          "data": {
            "text/plain": [
              "<Figure size 432x288 with 1 Axes>"
            ],
            "image/png": "[encoded data removed]"
          },
          "metadata": {
            "needs_background": "light"
          }
        }
      ]
    },
    {
      "cell_type": "code",
      "source": [
        "fig, ax = plt.subplots(1, 2, figsize=(18,4))\n",
        "\n",
        "amount_val = df['Amount'].values\n",
        "time_val = df['Time'].values\n",
        "\n",
        "sns.distplot(amount_val, ax=ax[0], color='r')\n",
        "ax[0].set_title('Distribution of Transaction Amount', fontsize=14)\n",
        "ax[0].set_xlim([min(amount_val), max(amount_val)])\n",
        "\n",
        "sns.distplot(time_val, ax=ax[1], color='b')\n",
        "ax[1].set_title('Distribution of Transaction Time', fontsize=14)\n",
        "ax[1].set_xlim([min(time_val), max(time_val)])\n",
        "\n",
        "plt.show()"
      ],
      "metadata": {
        "colab": {
          "base_uri": "https://localhost:8080/",
          "height": 371
        },
        "id": "bEiCXr4kQHob",
        "outputId": "23e0c551-1b0a-4b97-b365-bd053ba2300c"
      },
      "execution_count": null,
      "outputs": [
        {
          "output_type": "stream",
          "name": "stderr",
          "text": [
            "/usr/local/lib/python3.7/dist-packages/seaborn/distributions.py:2619: FutureWarning: `distplot` is a deprecated function and will be removed in a future version. Please adapt your code to use either `displot` (a figure-level function with similar flexibility) or `histplot` (an axes-level function for histograms).\n",
            "  warnings.warn(msg, FutureWarning)\n",
            "/usr/local/lib/python3.7/dist-packages/seaborn/distributions.py:2619: FutureWarning: `distplot` is a deprecated function and will be removed in a future version. Please adapt your code to use either `displot` (a figure-level function with similar flexibility) or `histplot` (an axes-level function for histograms).\n",
            "  warnings.warn(msg, FutureWarning)\n"
          ]
        },
        {
          "output_type": "display_data",
          "data": {
            "text/plain": [
              "<Figure size 1296x288 with 2 Axes>"
            ],
            "image/png": "[encoded data removed]"
          },
          "metadata": {
            "needs_background": "light"
          }
        }
      ]
    },
    {
      "cell_type": "code",
      "source": [
        ""
      ],
      "metadata": {
        "id": "EAS0YuL6QSIG"
      },
      "execution_count": null,
      "outputs": []
    },
    {
      "cell_type": "markdown",
      "metadata": {
        "id": "ghYdKHd1DT1M"
      },
      "source": [
        "### Create our own class which inherits from PyTorch's Dataset class"
      ]
    },
    {
      "cell_type": "code",
      "execution_count": null,
      "metadata": {
        "id": "aOyi5nPGfyNN"
      },
      "outputs": [],
      "source": [
        "class Fraud(Dataset):\n",
        "\n",
        "  def __init__(self, X, y):\n",
        "    self.X = X\n",
        "    self.y = y\n",
        "    self.len = len(self.X)\n",
        "\n",
        "  def __getitem__(self, index):\n",
        "    return self.X[index], self.y[index]\n",
        "\n",
        "  def __len__(self):\n",
        "    return self.len"
      ]
    },
    {
      "cell_type": "markdown",
      "metadata": {
        "id": "HZb-W_FDDa5U"
      },
      "source": [
        "### Create variables for our train and test data using our custom class above"
      ]
    },
    {
      "cell_type": "code",
      "execution_count": null,
      "metadata": {
        "id": "X8HCmT0Vk_Fc"
      },
      "outputs": [],
      "source": [
        "train_data = Fraud(X_train, y_train)\n",
        "test_data = Fraud(X_test, y_test)"
      ]
    },
    {
      "cell_type": "markdown",
      "metadata": {
        "id": "hUePY3qDEEjg"
      },
      "source": [
        "### Create reusable function and variables"
      ]
    },
    {
      "cell_type": "code",
      "execution_count": null,
      "metadata": {
        "id": "OoZhHj_eXpJt"
      },
      "outputs": [],
      "source": [
        "def accuracy(y_pred, y):\n",
        "    return torch.sum((((y_pred>=0.5)+0).reshape(1,-1)==y)+0).item()/y.shape[0]"
      ]
    },
    {
      "cell_type": "markdown",
      "metadata": {
        "id": "0OIf4wxbENpb"
      },
      "source": [
        "### Take advantage of PyTorch's DataLoader class"
      ]
    },
    {
      "cell_type": "code",
      "execution_count": null,
      "metadata": {
        "id": "ZL30F9wkoLA0"
      },
      "outputs": [],
      "source": [
        "train_loader = DataLoader(dataset=train_data, batch_size=batch_size, shuffle=True, drop_last=True)\n",
        "test_loader = DataLoader(dataset=test_data, batch_size=batch_size, shuffle=True)"
      ]
    },
    {
      "cell_type": "markdown",
      "metadata": {
        "id": "cGkdBw3BET3H"
      },
      "source": [
        "### Create the architecture for our neural network"
      ]
    },
    {
      "cell_type": "code",
      "execution_count": null,
      "metadata": {
        "id": "8WfI8g9LN11q"
      },
      "outputs": [],
      "source": [
        "class Model(nn.Module):\n",
        "    \n",
        "    def __init__(self):\n",
        "        super().__init__()\n",
        "        # TODO insert hidden layer 1\n",
        "        self.hidden_linear = nn.Linear(30, 16)\n",
        "        self.hidden_linear1 = \n",
        "        self.output_linear = nn.Linear(4, 1)\n",
        "        self.sigmoid = nn.Sigmoid()\n",
        "        \n",
        "    def forward(self, X):\n",
        "        # forward part\n",
        "        X = self.hidden_linear(X)\n",
        "        X = \n",
        "        hidden_output = self.sigmoid(X)\n",
        "        output = self.sigmoid(self.output_linear(hidden_output))\n",
        "        return output"
      ]
    },
    {
      "cell_type": "markdown",
      "metadata": {
        "id": "lskisQYAEYzP"
      },
      "source": [
        "### Instantiate our Model class and set our loss and optimizer"
      ]
    },
    {
      "cell_type": "code",
      "execution_count": null,
      "metadata": {
        "id": "eJ1v4uISaEsv"
      },
      "outputs": [],
      "source": [
        "epochs = 10+1\n",
        "print_epoch = 1\n",
        "lr = 1e-2\n",
        "batch_size = 64\n",
        "\n",
        "model = Model()\n",
        "BCE = nn.BCELoss()\n",
        "optimizer = torch.optim.SGD(model.parameters(), lr = lr)"
      ]
    },
    {
      "cell_type": "markdown",
      "metadata": {
        "id": "SzAdxqjwEfvb"
      },
      "source": [
        "### Train our model"
      ]
    },
    {
      "cell_type": "code",
      "execution_count": null,
      "metadata": {
        "colab": {
          "base_uri": "https://localhost:8080/"
        },
        "id": "J8pHXrmNtJt2",
        "outputId": "209360f4-4f77-41a3-91fe-f9aea50bc8c7"
      },
      "outputs": [
        {
          "output_type": "stream",
          "name": "stdout",
          "text": [
            "Train: epoch: 0 - loss: 0.06165; acc: 0.998\n",
            "Test: epoch: 0 - loss: 0.01930; acc: 0.998\n",
            "Train: epoch: 1 - loss: 0.01556; acc: 0.998\n",
            "Test: epoch: 1 - loss: 0.01191; acc: 0.998\n",
            "Train: epoch: 2 - loss: 0.01140; acc: 0.998\n",
            "Test: epoch: 2 - loss: 0.00955; acc: 0.998\n",
            "Train: epoch: 3 - loss: 0.00977; acc: 0.998\n",
            "Test: epoch: 3 - loss: 0.00841; acc: 0.998\n",
            "Train: epoch: 4 - loss: 0.00890; acc: 0.998\n",
            "Test: epoch: 4 - loss: 0.00775; acc: 0.998\n",
            "Train: epoch: 5 - loss: 0.00834; acc: 0.998\n",
            "Test: epoch: 5 - loss: 0.00731; acc: 0.998\n",
            "Train: epoch: 6 - loss: 0.00801; acc: 0.998\n",
            "Test: epoch: 6 - loss: 0.00701; acc: 0.998\n",
            "Train: epoch: 7 - loss: 0.00774; acc: 0.998\n",
            "Test: epoch: 7 - loss: 0.00677; acc: 0.998\n",
            "Train: epoch: 8 - loss: 0.00753; acc: 0.998\n",
            "Test: epoch: 8 - loss: 0.00659; acc: 0.998\n",
            "Train: epoch: 9 - loss: 0.00736; acc: 0.998\n",
            "Test: epoch: 9 - loss: 0.00644; acc: 0.998\n",
            "Train: epoch: 10 - loss: 0.00722; acc: 0.998\n",
            "Test: epoch: 10 - loss: 0.00631; acc: 0.998\n"
          ]
        }
      ],
      "source": [
        "test_result = [] \n",
        "\n",
        "for epoch in range(epochs):\n",
        "    \n",
        "    iteration_loss = 0.\n",
        "    iteration_accuracy = 0.\n",
        "    \n",
        "    model.train()\n",
        "    for i, data in enumerate(train_loader):\n",
        "      X, y = data\n",
        "      X = X.float()\n",
        "      y_pred = # forward X through model\n",
        "      loss = BCE(y_pred, y.reshape(-1,1).float())     \n",
        "      \n",
        "      iteration_loss += loss\n",
        "      iteration_accuracy += # caculate accuracy\n",
        "\n",
        "      optimizer.zero_grad()\n",
        "      loss.backward()\n",
        "      optimizer.step()\n",
        "        \n",
        "\n",
        "    if(epoch % print_epoch == 0):\n",
        "        print('Train: epoch: {0} - loss: {1:.5f}; acc: {2:.3f}'.format(epoch, iteration_loss/(i+1), iteration_accuracy/(i+1)))    \n",
        "\n",
        "    iteration_loss = 0.\n",
        "    iteration_accuracy = 0.    \n",
        "\n",
        "    model.eval()\n",
        "    for i, data in enumerate(test_loader):\n",
        "      X, y = data\n",
        "      X = X.float()\n",
        "      y_pred = #forward X through model\n",
        "      loss = BCE(y_pred, y.reshape(-1,1).float())\n",
        "\n",
        "      iteration_loss += loss\n",
        "      iteration_accuracy += # caculate accuracy\n",
        "\n",
        "      if(epoch == epochs-1):\n",
        "        test_result.append((y, ((y_pred>=0.5)+0).reshape(1,-1)[0]))\n",
        "\n",
        "    if(epoch % print_epoch == 0):\n",
        "        print('Test: epoch: {0} - loss: {1:.5f}; acc: {2:.3f}'.format(epoch, iteration_loss/(i+1), iteration_accuracy/(i+1)))"
      ]
    },
    {
      "cell_type": "markdown",
      "metadata": {
        "id": "pndG_7HRJ4sG"
      },
      "source": [
        "Considering our very simple architecture and the fact that we're not doing much else with the data, our loss and accuracy are decent (the values might vary a bit if you rerun it), so what's the problem? The problem comes when we take a closer look into our results for our test set.\n",
        "\n",
        "## Dissecting Our Results with a Confusion Matrix\n",
        "To dissect our test results, we're going to use something called a confusion matrix. If you look at the code above, you'll see in the testing portion I added an if statement which, at the last epoch, appends our test results to a list. We'll use the confusion_matrix and ConfusionMatrixDisplay functions built-in to sklearn to accomplish the task of producing a confusion matrix.\n",
        "\n",
        "First, let's import the functions."
      ]
    },
    {
      "cell_type": "code",
      "execution_count": null,
      "metadata": {
        "id": "Q2EGSmykDEjk"
      },
      "outputs": [],
      "source": [
        "from sklearn.metrics import confusion_matrix, ConfusionMatrixDisplay"
      ]
    },
    {
      "cell_type": "markdown",
      "metadata": {
        "id": "yxGWXfp0RnA7"
      },
      "source": [
        "Next, we're going to have to unzip the list and make sure that the actuals (i.e., ground truth) are together in 1 list and the predictions are in another list."
      ]
    },
    {
      "cell_type": "code",
      "execution_count": null,
      "metadata": {
        "id": "3w00Jd2L48IT"
      },
      "outputs": [],
      "source": [
        "true, pred = zip(*test_result)\n",
        "true, pred = torch.cat(true), torch.cat(pred)"
      ]
    },
    {
      "cell_type": "markdown",
      "metadata": {
        "id": "D8geQRkZR8i0"
      },
      "source": [
        "Lastly, we'll create our confusion matrix using the confusion_matrix function. It takes our actual values, our predicted values, and a label. This label is what the distinct labels of the values should be. In our case we have 0 for the negative case (i.e., patients who don't have diabetes) and 1 for the positive case (i.e., patients that have diabetes).\n",
        "\n",
        "To pretty-up our confusion matrix, we'll use the ConfusionMatrixDisplay, passing in our confusion matrix along with the labels. Thereafter, we'll plot it by calling its plot function."
      ]
    },
    {
      "cell_type": "code",
      "execution_count": null,
      "metadata": {
        "colab": {
          "base_uri": "https://localhost:8080/",
          "height": 296
        },
        "id": "2s-5ihJmFWGr",
        "outputId": "d5fc98c3-e9ba-4479-e4f5-4a3f3cf46edf"
      },
      "outputs": [
        {
          "output_type": "execute_result",
          "data": {
            "text/plain": [
              "<sklearn.metrics._plot.confusion_matrix.ConfusionMatrixDisplay at 0x7f6dd3aff650>"
            ]
          },
          "metadata": {},
          "execution_count": 17
        },
        {
          "output_type": "display_data",
          "data": {
            "text/plain": [
              "<Figure size 432x288 with 2 Axes>"
            ],
            "image/png": "[encoded data removed]"
          },
          "metadata": {
            "needs_background": "light"
          }
        }
      ],
      "source": [
        "cm = confusion_matrix(true, pred, labels=[0,1])\n",
        "disp = ConfusionMatrixDisplay(confusion_matrix=cm, display_labels=[0,1])\n",
        "disp.plot()"
      ]
    },
    {
      "cell_type": "markdown",
      "metadata": {
        "id": "aJGHfQjxTKtW"
      },
      "source": [
        "There we have it - a pretty confusion matrix. The question is, how do we read this? On the left, we have the true labels and at the bottom, we have the predicted labels. We can see that for 168 records which are class 0, our model predicted 133 of them to be 0 (correctly classified) and 35 of them to be 1 (misclassified). As for the records which are class 1, of the 86 records, our model predicted 31 of them to be 0 (misclassified) and 55 of them to be 1 (correctly classified).\n",
        "\n",
        "In terms of accuracy, let's see how our model performed across the 2 classes (i.e., 0 and 1)."
      ]
    },
    {
      "cell_type": "code",
      "execution_count": null,
      "metadata": {
        "colab": {
          "base_uri": "https://localhost:8080/"
        },
        "id": "-dtpFeV0zxjV",
        "outputId": "849a260e-a3e5-4304-adec-b2fdf0accf50"
      },
      "outputs": [
        {
          "output_type": "stream",
          "name": "stdout",
          "text": [
            "class 0 accuracy: 1.000\n",
            "class 1 accuracy: 0.000\n"
          ]
        }
      ],
      "source": [
        "print('class 0 accuracy: {0:.3f}'.format(cm[0,0]/sum(cm[0])))\n",
        "print('class 1 accuracy: {0:.3f}'.format(cm[1,1]/sum(cm[1])))"
      ]
    },
    {
      "cell_type": "markdown",
      "metadata": {
        "id": "A1LousYgWMze"
      },
      "source": [
        "That's interesting. We're seeing that our model performs significantly better on class 0 than on class 1. Essentially, the accuracy we were seeing after training our model is not a true representation of what we're seeing when we split up our classes. Class 1 performs significantly worse than what we were hoping for.\n",
        "\n",
        "## Attempting to Balance an Imbalanced Dataset\n",
        "Above, we saw that our model results were not exactly being represented when we took a further look at our test results separated by class. Why? What's the reason that our model was able to predict class 0 better than class 1? The answer is simple. If we look at our training data, we'll most likely see that we actually have significantly more data for the class 0 than we do for class 1.\n",
        "\n",
        "Let's take a look at the training set to see if our assumption is valid."
      ]
    },
    {
      "cell_type": "code",
      "execution_count": null,
      "metadata": {
        "colab": {
          "base_uri": "https://localhost:8080/"
        },
        "id": "Ev_T19zpZh-L",
        "outputId": "dfa68145-9fbf-4082-a8ae-9d4267bead54"
      },
      "outputs": [
        {
          "name": "stdout",
          "output_type": "stream",
          "text": [
            "amount of records for class 0: 332\n",
            "amount of records for class 1: 182\n"
          ]
        }
      ],
      "source": [
        "print('amount of records for class 0: {0:.0f}'.format(torch.sum((y_train==0)*1).item()))\n",
        "print('amount of records for class 1: {0:.0f}'.format(torch.sum((y_train==1)*1).item()))"
      ]
    },
    {
      "cell_type": "markdown",
      "metadata": {
        "id": "0QqogRsZnLIb"
      },
      "source": [
        "As we assumed, the classes are highly imbalanced. The amount of training data for class 1 is almost half that of class 0.\n",
        "\n",
        "How do we fix this problem? Balancing an imbalanced class can be done in several ways, but in this article, we're going to be discussing a method which was [mentioned by Jeremy Howard (the founder of FastAI)]( https://twitter.com/jeremyphoward/status/1175177461920698368?lang=en). In his post, he indirectly refers to the paper [A systematic study of the class imbalance problem in convolutional neural networks](https://arxiv.org/abs/1710.05381). The method which the research paper mentions to have performed the best is that of oversampling. Although the paper discusses oversampling for convolution neural networks, in practice, it works just as well in other types of neural networks. The question you’re probably asking now is, “what’s oversampling?” Oversampling is a fancy way to say duplication of data. The data is oversampled by taking a random sample of the already existing data and duplicating it. After duplicating the random sample, it’s then appended to the training set. Something to keep in mind is that oversampling is only done on the training data and not the testing data. The best way to ensure this, is to first split the training and testing data, and then oversample only the training data.\n",
        "\n",
        "The steps we'll use to accomplish the task of oversampling is by first splitting our dataset into training and testing sets, and then oversampling the imbalanced class (i.e., class 1) in the training set until it has the same number of records as the other class.\n",
        "\n",
        "Let's see how we would execute this in code."
      ]
    },
    {
      "cell_type": "markdown",
      "source": [
        "#### Under-Sampling"
      ],
      "metadata": {
        "id": "gyvPbJfrV-73"
      }
    },
    {
      "cell_type": "code",
      "source": [
        "df = df.sample(frac=1)\n",
        "\n",
        "# amount of fraud classes 492 rows.\n",
        "fraud_df = df.loc[df['Class'] == 1]\n",
        "non_fraud_df = df.loc[df['Class'] == 0][:492]\n",
        "\n",
        "normal_distributed_df = pd.concat([fraud_df, non_fraud_df])\n",
        "\n",
        "# Shuffle dataframe rows\n",
        "new_df = normal_distributed_df.sample(frac=1, random_state=42)\n",
        "\n",
        "new_df.head()"
      ],
      "metadata": {
        "colab": {
          "base_uri": "https://localhost:8080/",
          "height": 299
        },
        "id": "UYldUsjNUyuF",
        "outputId": "fb1ee98f-19e7-42fc-a2ad-289a2e38bf80"
      },
      "execution_count": null,
      "outputs": [
        {
          "output_type": "execute_result",
          "data": {
            "text/plain": [
              "            Time        V1        V2        V3        V4        V5        V6  \\\n",
              "243633  152010.0  2.150982 -0.825264 -1.159991 -0.089468 -0.832194 -1.030525   \n",
              "183106  125658.0  0.224414  2.994499 -3.432458  3.986519  3.760233  0.165640   \n",
              "931        705.0  1.205846  0.172720 -0.643274  1.514712  2.162044  4.067599   \n",
              "154960  103808.0 -4.517344  2.500224 -4.013928  1.189452 -2.486861 -1.413476   \n",
              "125342   77627.0 -7.139060  2.773082 -6.757845  4.446456 -5.464428 -1.713401   \n",
              "\n",
              "              V7        V8        V9  ...       V21       V22       V23  \\\n",
              "243633 -0.418428 -0.246889  0.008618  ... -0.248701 -0.016776  0.097160   \n",
              "183106  1.099378 -0.654557 -2.435416  ...  0.491337 -0.984223 -0.421979   \n",
              "931    -0.620643  0.997023 -0.410812  ... -0.342351 -1.032514  0.048986   \n",
              "154960 -4.245707  1.265087  1.168828  ...  1.326944  0.102999  0.508167   \n",
              "125342 -6.485365  3.409395 -3.053493  ...  1.303250 -0.016118 -0.876670   \n",
              "\n",
              "             V24       V25       V26       V27       V28  Amount  Class  \n",
              "243633  0.052969  0.038849  0.729145 -0.053434 -0.069021   11.50      0  \n",
              "183106 -1.048058  0.726412  0.268625  0.283689  0.419102    0.00      1  \n",
              "931     0.971533  0.534093 -0.164691  0.010943  0.020109    6.55      0  \n",
              "154960 -0.278018  0.139721  0.064610 -0.972358  0.351360    2.27      1  \n",
              "125342  0.382230 -1.054624 -0.614606 -0.766848  0.409424  106.90      1  \n",
              "\n",
              "[5 rows x 31 columns]"
            ],
            "text/html": [
              "\n",
              "  <div id=\"df-f7feb593-385b-4460-adeb-37743abfa830\">\n",
              "    <div class=\"colab-df-container\">\n",
              "      <div>\n",
              "<style scoped>\n",
              "    .dataframe tbody tr th:only-of-type {\n",
              "        vertical-align: middle;\n",
              "    }\n",
              "\n",
              "    .dataframe tbody tr th {\n",
              "        vertical-align: top;\n",
              "    }\n",
              "\n",
              "    .dataframe thead th {\n",
              "        text-align: right;\n",
              "    }\n",
              "</style>\n",
              "<table border=\"1\" class=\"dataframe\">\n",
              "  <thead>\n",
              "    <tr style=\"text-align: right;\">\n",
              "      <th></th>\n",
              "      <th>Time</th>\n",
              "      <th>V1</th>\n",
              "      <th>V2</th>\n",
              "      <th>V3</th>\n",
              "      <th>V4</th>\n",
              "      <th>V5</th>\n",
              "      <th>V6</th>\n",
              "      <th>V7</th>\n",
              "      <th>V8</th>\n",
              "      <th>V9</th>\n",
              "      <th>...</th>\n",
              "      <th>V21</th>\n",
              "      <th>V22</th>\n",
              "      <th>V23</th>\n",
              "      <th>V24</th>\n",
              "      <th>V25</th>\n",
              "      <th>V26</th>\n",
              "      <th>V27</th>\n",
              "      <th>V28</th>\n",
              "      <th>Amount</th>\n",
              "      <th>Class</th>\n",
              "    </tr>\n",
              "  </thead>\n",
              "  <tbody>\n",
              "    <tr>\n",
              "      <th>243633</th>\n",
              "      <td>152010.0</td>\n",
              "      <td>2.150982</td>\n",
              "      <td>-0.825264</td>\n",
              "      <td>-1.159991</td>\n",
              "      <td>-0.089468</td>\n",
              "      <td>-0.832194</td>\n",
              "      <td>-1.030525</td>\n",
              "      <td>-0.418428</td>\n",
              "      <td>-0.246889</td>\n",
              "      <td>0.008618</td>\n",
              "      <td>...</td>\n",
              "      <td>-0.248701</td>\n",
              "      <td>-0.016776</td>\n",
              "      <td>0.097160</td>\n",
              "      <td>0.052969</td>\n",
              "      <td>0.038849</td>\n",
              "      <td>0.729145</td>\n",
              "      <td>-0.053434</td>\n",
              "      <td>-0.069021</td>\n",
              "      <td>11.50</td>\n",
              "      <td>0</td>\n",
              "    </tr>\n",
              "    <tr>\n",
              "      <th>183106</th>\n",
              "      <td>125658.0</td>\n",
              "      <td>0.224414</td>\n",
              "      <td>2.994499</td>\n",
              "      <td>-3.432458</td>\n",
              "      <td>3.986519</td>\n",
              "      <td>3.760233</td>\n",
              "      <td>0.165640</td>\n",
              "      <td>1.099378</td>\n",
              "      <td>-0.654557</td>\n",
              "      <td>-2.435416</td>\n",
              "      <td>...</td>\n",
              "      <td>0.491337</td>\n",
              "      <td>-0.984223</td>\n",
              "      <td>-0.421979</td>\n",
              "      <td>-1.048058</td>\n",
              "      <td>0.726412</td>\n",
              "      <td>0.268625</td>\n",
              "      <td>0.283689</td>\n",
              "      <td>0.419102</td>\n",
              "      <td>0.00</td>\n",
              "      <td>1</td>\n",
              "    </tr>\n",
              "    <tr>\n",
              "      <th>931</th>\n",
              "      <td>705.0</td>\n",
              "      <td>1.205846</td>\n",
              "      <td>0.172720</td>\n",
              "      <td>-0.643274</td>\n",
              "      <td>1.514712</td>\n",
              "      <td>2.162044</td>\n",
              "      <td>4.067599</td>\n",
              "      <td>-0.620643</td>\n",
              "      <td>0.997023</td>\n",
              "      <td>-0.410812</td>\n",
              "      <td>...</td>\n",
              "      <td>-0.342351</td>\n",
              "      <td>-1.032514</td>\n",
              "      <td>0.048986</td>\n",
              "      <td>0.971533</td>\n",
              "      <td>0.534093</td>\n",
              "      <td>-0.164691</td>\n",
              "      <td>0.010943</td>\n",
              "      <td>0.020109</td>\n",
              "      <td>6.55</td>\n",
              "      <td>0</td>\n",
              "    </tr>\n",
              "    <tr>\n",
              "      <th>154960</th>\n",
              "      <td>103808.0</td>\n",
              "      <td>-4.517344</td>\n",
              "      <td>2.500224</td>\n",
              "      <td>-4.013928</td>\n",
              "      <td>1.189452</td>\n",
              "      <td>-2.486861</td>\n",
              "      <td>-1.413476</td>\n",
              "      <td>-4.245707</td>\n",
              "      <td>1.265087</td>\n",
              "      <td>1.168828</td>\n",
              "      <td>...</td>\n",
              "      <td>1.326944</td>\n",
              "      <td>0.102999</td>\n",
              "      <td>0.508167</td>\n",
              "      <td>-0.278018</td>\n",
              "      <td>0.139721</td>\n",
              "      <td>0.064610</td>\n",
              "      <td>-0.972358</td>\n",
              "      <td>0.351360</td>\n",
              "      <td>2.27</td>\n",
              "      <td>1</td>\n",
              "    </tr>\n",
              "    <tr>\n",
              "      <th>125342</th>\n",
              "      <td>77627.0</td>\n",
              "      <td>-7.139060</td>\n",
              "      <td>2.773082</td>\n",
              "      <td>-6.757845</td>\n",
              "      <td>4.446456</td>\n",
              "      <td>-5.464428</td>\n",
              "      <td>-1.713401</td>\n",
              "      <td>-6.485365</td>\n",
              "      <td>3.409395</td>\n",
              "      <td>-3.053493</td>\n",
              "      <td>...</td>\n",
              "      <td>1.303250</td>\n",
              "      <td>-0.016118</td>\n",
              "      <td>-0.876670</td>\n",
              "      <td>0.382230</td>\n",
              "      <td>-1.054624</td>\n",
              "      <td>-0.614606</td>\n",
              "      <td>-0.766848</td>\n",
              "      <td>0.409424</td>\n",
              "      <td>106.90</td>\n",
              "      <td>1</td>\n",
              "    </tr>\n",
              "  </tbody>\n",
              "</table>\n",
              "<p>5 rows × 31 columns</p>\n",
              "</div>\n",
              "      <button class=\"colab-df-convert\" onclick=\"convertToInteractive('df-f7feb593-385b-4460-adeb-37743abfa830')\"\n",
              "              title=\"Convert this dataframe to an interactive table.\"\n",
              "              style=\"display:none;\">\n",
              "        \n",
              "  <svg xmlns=\"http://www.w3.org/2000/svg\" height=\"24px\"viewBox=\"0 0 24 24\"\n",
              "       width=\"24px\">\n",
              "    <path d=\"M0 0h24v24H0V0z\" fill=\"none\"/>\n",
              "    <path d=\"M18.56 5.44l.94 2.06.94-2.06 2.06-.94-2.06-.94-.94-2.06-.94 2.06-2.06.94zm-11 1L8.5 8.5l.94-2.06 2.06-.94-2.06-.94L8.5 2.5l-.94 2.06-2.06.94zm10 10l.94 2.06.94-2.06 2.06-.94-2.06-.94-.94-2.06-.94 2.06-2.06.94z\"/><path d=\"M17.41 7.96l-1.37-1.37c-.4-.4-.92-.59-1.43-.59-.52 0-1.04.2-1.43.59L10.3 9.45l-7.72 7.72c-.78.78-.78 2.05 0 2.83L4 21.41c.39.39.9.59 1.41.59.51 0 1.02-.2 1.41-.59l7.78-7.78 2.81-2.81c.8-.78.8-2.07 0-2.86zM5.41 20L4 18.59l7.72-7.72 1.47 1.35L5.41 20z\"/>\n",
              "  </svg>\n",
              "      </button>\n",
              "      \n",
              "  <style>\n",
              "    .colab-df-container {\n",
              "      display:flex;\n",
              "      flex-wrap:wrap;\n",
              "      gap: 12px;\n",
              "    }\n",
              "\n",
              "    .colab-df-convert {\n",
              "      background-color: #E8F0FE;\n",
              "      border: none;\n",
              "      border-radius: 50%;\n",
              "      cursor: pointer;\n",
              "      display: none;\n",
              "      fill: #1967D2;\n",
              "      height: 32px;\n",
              "      padding: 0 0 0 0;\n",
              "      width: 32px;\n",
              "    }\n",
              "\n",
              "    .colab-df-convert:hover {\n",
              "      background-color: #E2EBFA;\n",
              "      box-shadow: 0px 1px 2px rgba(60, 64, 67, 0.3), 0px 1px 3px 1px rgba(60, 64, 67, 0.15);\n",
              "      fill: #174EA6;\n",
              "    }\n",
              "\n",
              "    [theme=dark] .colab-df-convert {\n",
              "      background-color: #3B4455;\n",
              "      fill: #D2E3FC;\n",
              "    }\n",
              "\n",
              "    [theme=dark] .colab-df-convert:hover {\n",
              "      background-color: #434B5C;\n",
              "      box-shadow: 0px 1px 3px 1px rgba(0, 0, 0, 0.15);\n",
              "      filter: drop-shadow(0px 1px 2px rgba(0, 0, 0, 0.3));\n",
              "      fill: #FFFFFF;\n",
              "    }\n",
              "  </style>\n",
              "\n",
              "      <script>\n",
              "        const buttonEl =\n",
              "          document.querySelector('#df-f7feb593-385b-4460-adeb-37743abfa830 button.colab-df-convert');\n",
              "        buttonEl.style.display =\n",
              "          google.colab.kernel.accessAllowed ? 'block' : 'none';\n",
              "\n",
              "        async function convertToInteractive(key) {\n",
              "          const element = document.querySelector('#df-f7feb593-385b-4460-adeb-37743abfa830');\n",
              "          const dataTable =\n",
              "            await google.colab.kernel.invokeFunction('convertToInteractive',\n",
              "                                                     [key], {});\n",
              "          if (!dataTable) return;\n",
              "\n",
              "          const docLinkHtml = 'Like what you see? Visit the ' +\n",
              "            '<a target=\"_blank\" href=https://colab.research.google.com/notebooks/data_table.ipynb>data table notebook</a>'\n",
              "            + ' to learn more about interactive tables.';\n",
              "          element.innerHTML = '';\n",
              "          dataTable['output_type'] = 'display_data';\n",
              "          await google.colab.output.renderOutput(dataTable, element);\n",
              "          const docLink = document.createElement('div');\n",
              "          docLink.innerHTML = docLinkHtml;\n",
              "          element.appendChild(docLink);\n",
              "        }\n",
              "      </script>\n",
              "    </div>\n",
              "  </div>\n",
              "  "
            ]
          },
          "metadata": {},
          "execution_count": 19
        }
      ]
    },
    {
      "cell_type": "code",
      "source": [
        "X = new_df[new_df.columns[:-1]]\n",
        "y = new_df['Class']\n",
        "X = X.values\n",
        "y = torch.tensor(y.values)\n",
        "\n",
        "X_train, X_test, y_train, y_test = train_test_split(X, y, test_size=0.33, random_state=42)\n",
        "\n",
        "scaler = StandardScaler()\n",
        "scaler.fit(X_train)\n",
        "X_train = torch.tensor(scaler.transform(X_train))\n",
        "X_test = torch.tensor(scaler.transform(X_test))\n",
        "new_df.shape"
      ],
      "metadata": {
        "colab": {
          "base_uri": "https://localhost:8080/"
        },
        "id": "TpLtCK70U6_t",
        "outputId": "8b149bfa-6027-40dd-9513-50091cbaa63d"
      },
      "execution_count": null,
      "outputs": [
        {
          "output_type": "execute_result",
          "data": {
            "text/plain": [
              "(984, 31)"
            ]
          },
          "metadata": {},
          "execution_count": 20
        }
      ]
    },
    {
      "cell_type": "code",
      "source": [
        "colors = [\"#0101DF\", \"#DF0101\"]\n",
        "\n",
        "sns.countplot('Class', data=new_df, palette=colors)\n",
        "plt.title('Class Distributions \\n (0: No Fraud || 1: Fraud)', fontsize=14)"
      ],
      "metadata": {
        "colab": {
          "base_uri": "https://localhost:8080/",
          "height": 385
        },
        "id": "pSRNWMxnU_V7",
        "outputId": "d3c29dc3-f589-4f58-d900-c19f6340a6ee"
      },
      "execution_count": null,
      "outputs": [
        {
          "output_type": "stream",
          "name": "stderr",
          "text": [
            "/usr/local/lib/python3.7/dist-packages/seaborn/_decorators.py:43: FutureWarning: Pass the following variable as a keyword arg: x. From version 0.12, the only valid positional argument will be `data`, and passing other arguments without an explicit keyword will result in an error or misinterpretation.\n",
            "  FutureWarning\n"
          ]
        },
        {
          "output_type": "execute_result",
          "data": {
            "text/plain": [
              "Text(0.5, 1.0, 'Class Distributions \\n (0: No Fraud || 1: Fraud)')"
            ]
          },
          "metadata": {},
          "execution_count": 22
        },
        {
          "output_type": "display_data",
          "data": {
            "text/plain": [
              "<Figure size 432x288 with 1 Axes>"
            ],
            "image/png": "[encoded data removed]"
          },
          "metadata": {
            "needs_background": "light"
          }
        }
      ]
    },
    {
      "cell_type": "markdown",
      "metadata": {
        "id": "LGlpKEgCtmsS"
      },
      "source": [
        "Before we continue with the topic of oversampling, you probably realized the stratify parameter in the train_test_split function. The stratify parameter allows our test data to be representative of our training data, in terms of its balance. What does that mean? It means that our test data has the same ratio of class 0 and class 1 which exists in our training data. We passed it our target (i.e., y) to let it know that our data should be stratified in accordance with that feature. Stratifying our data should help us a bit, especially considering that our dataset is not only imbalanced, but it's also small.\n",
        "\n",
        "Back to the topic at hand, as you can see, the oversampling was performed by finding the difference in size between class 0 and class 1 and then choosing a random set of indices for class 1, duplicating the random set of data and then appending it to the training set.\n",
        "\n",
        "Now that we've oversampled from class 1 (i.e., the imbalanced class), we should now have the same amount of data in both classes. Let's see if they're the same size."
      ]
    },
    {
      "cell_type": "code",
      "execution_count": null,
      "metadata": {
        "colab": {
          "base_uri": "https://localhost:8080/"
        },
        "id": "s0Bw1HIZdzKj",
        "outputId": "fd8ed508-ae2b-44a5-9146-556b3fff4d32"
      },
      "outputs": [
        {
          "output_type": "stream",
          "name": "stdout",
          "text": [
            "amount of records for class 0: 344\n",
            "amount of records for class 1: 315\n"
          ]
        }
      ],
      "source": [
        "print('amount of records for class 0: {0:.0f}'.format(torch.sum((y_train==0)*1).item()))\n",
        "print('amount of records for class 1: {0:.0f}'.format(torch.sum((y_train==1)*1).item()))"
      ]
    },
    {
      "cell_type": "markdown",
      "metadata": {
        "id": "7Aa-BEWvih5q"
      },
      "source": [
        "Awesome. We got that to work.\n",
        "\n",
        "Now that we've balanced our dataset, let's throw it into PyTorch's DataLoader."
      ]
    },
    {
      "cell_type": "code",
      "execution_count": null,
      "metadata": {
        "id": "Fn03-KC1CUUn"
      },
      "outputs": [],
      "source": [
        "train_data = Fraud(X_train, y_train)\n",
        "test_data = Fraud(X_test, y_test)\n",
        "train_loader = DataLoader(dataset=train_data, batch_size=batch_size, shuffle=True, drop_last=True)\n",
        "test_loader = DataLoader(dataset=test_data, batch_size=batch_size, shuffle=True)"
      ]
    },
    {
      "cell_type": "markdown",
      "metadata": {
        "id": "9NXjb3bHnrXE"
      },
      "source": [
        "We'll also reset our model, making sure that we're not reusing our already train model."
      ]
    },
    {
      "cell_type": "code",
      "execution_count": null,
      "metadata": {
        "id": "NJqLfmm3Cg_I"
      },
      "outputs": [],
      "source": [
        "model = Model()\n",
        "BCE = nn.BCELoss()\n",
        "optimizer = torch.optim.SGD(model.parameters(), lr = lr)"
      ]
    },
    {
      "cell_type": "markdown",
      "metadata": {
        "id": "DGBCUzH3n6cg"
      },
      "source": [
        "## Training Our Model on Our New Dataset\n",
        "\n",
        "Finally, we're ready to train our model on our new (and hopefully improved) dataset. Let's see how it performs."
      ]
    },
    {
      "cell_type": "code",
      "execution_count": null,
      "metadata": {
        "colab": {
          "base_uri": "https://localhost:8080/"
        },
        "id": "Dml_jRKjAI_S",
        "outputId": "c0dd1f40-a9f1-4ef2-d95e-6cebf1b69e43"
      },
      "outputs": [
        {
          "output_type": "stream",
          "name": "stdout",
          "text": [
            "Train: epoch: 0 - loss: 0.36911; acc: 0.911\n",
            "Test: epoch: 0 - loss: 0.45640; acc: 0.804\n",
            "Train: epoch: 100 - loss: 0.25643; acc: 0.922\n",
            "Test: epoch: 100 - loss: 0.29356; acc: 0.904\n",
            "Train: epoch: 200 - loss: 0.20419; acc: 0.942\n",
            "Test: epoch: 200 - loss: 0.22037; acc: 0.917\n",
            "Train: epoch: 300 - loss: 0.16386; acc: 0.955\n",
            "Test: epoch: 300 - loss: 0.25765; acc: 0.902\n",
            "Train: epoch: 400 - loss: 0.14552; acc: 0.958\n",
            "Test: epoch: 400 - loss: 0.22910; acc: 0.907\n",
            "Train: epoch: 500 - loss: 0.13160; acc: 0.963\n",
            "Test: epoch: 500 - loss: 0.17309; acc: 0.940\n",
            "Train: epoch: 600 - loss: 0.12265; acc: 0.961\n",
            "Test: epoch: 600 - loss: 0.16820; acc: 0.938\n",
            "Train: epoch: 700 - loss: 0.11759; acc: 0.961\n",
            "Test: epoch: 700 - loss: 0.19356; acc: 0.902\n",
            "Train: epoch: 800 - loss: 0.10984; acc: 0.966\n",
            "Test: epoch: 800 - loss: 0.17430; acc: 0.930\n",
            "Train: epoch: 900 - loss: 0.11093; acc: 0.967\n",
            "Test: epoch: 900 - loss: 0.16719; acc: 0.932\n",
            "Train: epoch: 1000 - loss: 0.10520; acc: 0.967\n",
            "Test: epoch: 1000 - loss: 0.16898; acc: 0.935\n"
          ]
        }
      ],
      "source": [
        "test_result = [] \n",
        "epochs = 1000+1\n",
        "print_epoch = 100\n",
        "lr = 1e-2\n",
        "batch_size = 64\n",
        "for epoch in range(epochs):\n",
        "    \n",
        "    iteration_loss = 0.\n",
        "    iteration_accuracy = 0.\n",
        "    \n",
        "    model.train()\n",
        "    for i, data in enumerate(train_loader):\n",
        "      X, y = data\n",
        "      y_pred = model(X.float())\n",
        "      loss = BCE(y_pred, y.reshape(-1,1).float())     \n",
        "      \n",
        "      iteration_loss += loss\n",
        "      iteration_accuracy += accuracy(y_pred, y)\n",
        "\n",
        "      optimizer.zero_grad()\n",
        "      loss.backward()\n",
        "      optimizer.step()\n",
        "        \n",
        "\n",
        "    if(epoch % print_epoch == 0):\n",
        "        print('Train: epoch: {0} - loss: {1:.5f}; acc: {2:.3f}'.format(epoch, iteration_loss/(i+1), iteration_accuracy/(i+1)))    \n",
        "\n",
        "    iteration_loss = 0.\n",
        "    iteration_accuracy = 0.    \n",
        "\n",
        "    model.eval()\n",
        "    for i, data in enumerate(test_loader):\n",
        "      X, y = data\n",
        "      y_pred = model(X.float())\n",
        "      loss = BCE(y_pred, y.reshape(-1,1).float())\n",
        "\n",
        "      iteration_loss += loss\n",
        "      iteration_accuracy += accuracy(y_pred, y)\n",
        "\n",
        "      if(epoch == epochs-1):\n",
        "        test_result.append((y, ((y_pred>=0.5)+0).reshape(1,-1)[0]))\n",
        "\n",
        "    if(epoch % print_epoch == 0):\n",
        "        print('Test: epoch: {0} - loss: {1:.5f}; acc: {2:.3f}'.format(epoch, iteration_loss/(i+1), iteration_accuracy/(i+1)))"
      ]
    },
    {
      "cell_type": "markdown",
      "metadata": {
        "id": "XBYeYsYXoNQs"
      },
      "source": [
        "Before even dissecting our results, we're already seeing that there's more of a consistency between the train and test results. That's a good sign. If you rerun it, your results may vary, but it won't vary in its consistency between the train and test set.\n",
        "\n",
        "Let's unzip our results from our last epoch and dissect them using a confusion matrix."
      ]
    },
    {
      "cell_type": "code",
      "execution_count": null,
      "metadata": {
        "colab": {
          "base_uri": "https://localhost:8080/",
          "height": 296
        },
        "id": "zjxLqBS47bhv",
        "outputId": "14dc582c-b204-4d5d-88ff-eae3e9379a3b"
      },
      "outputs": [
        {
          "output_type": "execute_result",
          "data": {
            "text/plain": [
              "<sklearn.metrics._plot.confusion_matrix.ConfusionMatrixDisplay at 0x7f6dcdb86650>"
            ]
          },
          "metadata": {},
          "execution_count": 30
        },
        {
          "output_type": "display_data",
          "data": {
            "text/plain": [
              "<Figure size 432x288 with 2 Axes>"
            ],
            "image/png": "[encoded data removed]"
          },
          "metadata": {
            "needs_background": "light"
          }
        }
      ],
      "source": [
        "true, pred = zip(*test_result)\n",
        "true, pred = torch.cat(true), torch.cat(pred)\n",
        "\n",
        "cm = confusion_matrix(true, pred, labels=[0,1])\n",
        "disp = ConfusionMatrixDisplay(confusion_matrix=cm, display_labels=[0,1])\n",
        "disp.plot()"
      ]
    },
    {
      "cell_type": "markdown",
      "metadata": {
        "id": "UwPNxZD1pTlr"
      },
      "source": [
        "Having stratified our data, we see that class 1 has a little bit more data, but as we said above, the test set has the same balance as the training set.\n",
        "\n",
        "As we can see from the confusion matrix, our class which wasn't oversampled is performing the same as before, which is good. Throwing more data of the positive class (i.e., class 1) didn't affect our model in its ability to comprehend the negative class (i.e., class 0). As for our class which was oversampled, I'm not really good at looking at numbers like that and making conclusions from it, so let's look at it in terms of accuracy."
      ]
    },
    {
      "cell_type": "code",
      "execution_count": null,
      "metadata": {
        "colab": {
          "base_uri": "https://localhost:8080/"
        },
        "id": "fPbO4hT67hbK",
        "outputId": "b664cffa-bde5-4a2a-87a9-75b4910adf6c"
      },
      "outputs": [
        {
          "output_type": "stream",
          "name": "stdout",
          "text": [
            "class 0 accuracy: 0.959\n",
            "class 1 accuracy: 0.893\n"
          ]
        }
      ],
      "source": [
        "print('class 0 accuracy: {0:.3f}'.format(cm[0,0]/sum(cm[0])))\n",
        "print('class 1 accuracy: {0:.3f}'.format(cm[1,1]/sum(cm[1])))"
      ]
    },
    {
      "cell_type": "markdown",
      "source": [
        "## Oversampling using SMOTE (Synthetic Minority Oversampling Technique)"
      ],
      "metadata": {
        "id": "gh8Bnt70ayIn"
      }
    },
    {
      "cell_type": "code",
      "source": [
        "df = pd.read_csv(r'creditcard.csv')\n",
        "df.head()\n",
        "\n",
        "X = df[df.columns[:-1]]\n",
        "y = df['Class']\n",
        "X = X.values\n",
        "y = torch.tensor(y.values)"
      ],
      "metadata": {
        "id": "NXR_DT6BX80P"
      },
      "execution_count": null,
      "outputs": []
    },
    {
      "cell_type": "code",
      "source": [
        "from imblearn.over_sampling import SMOTE\n",
        "\n",
        "oversample = SMOTE()\n",
        "X, y = oversample.fit_resample(X, y)\n",
        "X_train, X_test, y_train, y_test = train_test_split(X, y, test_size=0.33, random_state=42)\n",
        "\n",
        "scaler = StandardScaler()\n",
        "scaler.fit(X_train)\n",
        "X_train = torch.tensor(scaler.transform(X_train))\n",
        "X_test = torch.tensor(scaler.transform(X_test))"
      ],
      "metadata": {
        "id": "CXshPP76XpkN"
      },
      "execution_count": null,
      "outputs": []
    },
    {
      "cell_type": "code",
      "source": [
        "# The classes are heavily skewed we need to solve this issue later.\n",
        "print('No Frauds', round((len(y) - np.count_nonzero(y))/len(y) * 100,2), '% of the Train dataset')\n",
        "print('Frauds', round(np.count_nonzero(y)/len(y) * 100,2), '% of the Train dataset')"
      ],
      "metadata": {
        "colab": {
          "base_uri": "https://localhost:8080/"
        },
        "id": "mn02ELTBYMS1",
        "outputId": "edcac587-9a86-451d-8b61-6e26a4a38b28"
      },
      "execution_count": null,
      "outputs": [
        {
          "output_type": "stream",
          "name": "stdout",
          "text": [
            "No Frauds 50.0 % of the Train dataset\n",
            "Frauds 50.0 % of the Train dataset\n"
          ]
        }
      ]
    },
    {
      "cell_type": "code",
      "source": [
        "train_data = Fraud(X_train, y_train)\n",
        "test_data = Fraud(X_test, y_test)\n",
        "train_loader = DataLoader(dataset=train_data, batch_size=batch_size, shuffle=True, drop_last=True)\n",
        "test_loader = DataLoader(dataset=test_data, batch_size=batch_size, shuffle=True)"
      ],
      "metadata": {
        "id": "E8SDZIS1aBEX"
      },
      "execution_count": null,
      "outputs": []
    },
    {
      "cell_type": "code",
      "source": [
        "model = Model()\n",
        "BCE = nn.BCELoss()\n",
        "optimizer = torch.optim.SGD(model.parameters(), lr = lr)"
      ],
      "metadata": {
        "id": "mrZCn9nvaGn0"
      },
      "execution_count": null,
      "outputs": []
    },
    {
      "cell_type": "code",
      "source": [
        "test_result = [] \n",
        "epochs = 10+1\n",
        "print_epoch = 1\n",
        "batch_size = 64\n",
        "for epoch in range(epochs):\n",
        "    \n",
        "    iteration_loss = 0.\n",
        "    iteration_accuracy = 0.\n",
        "    \n",
        "    model.train()\n",
        "    for i, data in enumerate(train_loader):\n",
        "      X, y = data\n",
        "      y_pred = model(X.float())\n",
        "      loss = BCE(y_pred, y.reshape(-1,1).float())     \n",
        "      \n",
        "      iteration_loss += loss\n",
        "      iteration_accuracy += accuracy(y_pred, y)\n",
        "\n",
        "      optimizer.zero_grad()\n",
        "      loss.backward()\n",
        "      optimizer.step()\n",
        "        \n",
        "\n",
        "    if(epoch % print_epoch == 0):\n",
        "        print('Train: epoch: {0} - loss: {1:.5f}; acc: {2:.3f}'.format(epoch, iteration_loss/(i+1), iteration_accuracy/(i+1)))    \n",
        "\n",
        "    iteration_loss = 0.\n",
        "    iteration_accuracy = 0.    \n",
        "\n",
        "    model.eval()\n",
        "    for i, data in enumerate(test_loader):\n",
        "      X, y = data\n",
        "      y_pred = model(X.float())\n",
        "      loss = BCE(y_pred, y.reshape(-1,1).float())\n",
        "\n",
        "      iteration_loss += loss\n",
        "      iteration_accuracy += accuracy(y_pred, y)\n",
        "\n",
        "      if(epoch == epochs-1):\n",
        "        test_result.append((y, ((y_pred>=0.5)+0).reshape(1,-1)[0]))\n",
        "\n",
        "    if(epoch % print_epoch == 0):\n",
        "        print('Test: epoch: {0} - loss: {1:.5f}; acc: {2:.3f}'.format(epoch, iteration_loss/(i+1), iteration_accuracy/(i+1)))"
      ],
      "metadata": {
        "colab": {
          "base_uri": "https://localhost:8080/"
        },
        "id": "qTBXZZQfaJ7D",
        "outputId": "8dba030d-1c40-484e-ef29-5307ec1761ba"
      },
      "execution_count": null,
      "outputs": [
        {
          "output_type": "stream",
          "name": "stdout",
          "text": [
            "Train: epoch: 0 - loss: 0.25809; acc: 0.923\n",
            "Test: epoch: 0 - loss: 0.11560; acc: 0.966\n",
            "Train: epoch: 1 - loss: 0.09684; acc: 0.970\n",
            "Test: epoch: 1 - loss: 0.08743; acc: 0.972\n",
            "Train: epoch: 2 - loss: 0.08098; acc: 0.974\n",
            "Test: epoch: 2 - loss: 0.07801; acc: 0.974\n",
            "Train: epoch: 3 - loss: 0.07368; acc: 0.976\n",
            "Test: epoch: 3 - loss: 0.07243; acc: 0.976\n",
            "Train: epoch: 4 - loss: 0.06902; acc: 0.977\n",
            "Test: epoch: 4 - loss: 0.06859; acc: 0.977\n",
            "Train: epoch: 5 - loss: 0.06572; acc: 0.978\n",
            "Test: epoch: 5 - loss: 0.06610; acc: 0.978\n",
            "Train: epoch: 6 - loss: 0.06324; acc: 0.979\n",
            "Test: epoch: 6 - loss: 0.06373; acc: 0.978\n",
            "Train: epoch: 7 - loss: 0.06134; acc: 0.979\n",
            "Test: epoch: 7 - loss: 0.06203; acc: 0.979\n",
            "Train: epoch: 8 - loss: 0.05984; acc: 0.980\n",
            "Test: epoch: 8 - loss: 0.06029; acc: 0.980\n",
            "Train: epoch: 9 - loss: 0.05860; acc: 0.980\n",
            "Test: epoch: 9 - loss: 0.05950; acc: 0.980\n",
            "Train: epoch: 10 - loss: 0.05756; acc: 0.980\n",
            "Test: epoch: 10 - loss: 0.05857; acc: 0.980\n"
          ]
        }
      ]
    },
    {
      "cell_type": "code",
      "source": [
        "true, pred = zip(*test_result)\n",
        "true, pred = torch.cat(true), torch.cat(pred)\n",
        "\n",
        "cm = confusion_matrix(true, pred, labels=[0,1])\n",
        "disp = ConfusionMatrixDisplay(confusion_matrix=cm, display_labels=[0,1])\n",
        "disp.plot()"
      ],
      "metadata": {
        "colab": {
          "base_uri": "https://localhost:8080/",
          "height": 296
        },
        "id": "niqkQEz3asgg",
        "outputId": "36c1d371-4b78-4230-b6b4-ae1c312caad3"
      },
      "execution_count": null,
      "outputs": [
        {
          "output_type": "execute_result",
          "data": {
            "text/plain": [
              "<sklearn.metrics._plot.confusion_matrix.ConfusionMatrixDisplay at 0x7f6dcca1f4d0>"
            ]
          },
          "metadata": {},
          "execution_count": 75
        },
        {
          "output_type": "display_data",
          "data": {
            "text/plain": [
              "<Figure size 432x288 with 2 Axes>"
            ],
            "image/png": "[encoded data removed]"
          },
          "metadata": {
            "needs_background": "light"
          }
        }
      ]
    },
    {
      "cell_type": "code",
      "source": [
        "print('class 0 accuracy: {0:.3f}'.format(cm[0,0]/sum(cm[0])))\n",
        "print('class 1 accuracy: {0:.3f}'.format(cm[1,1]/sum(cm[1])))"
      ],
      "metadata": {
        "colab": {
          "base_uri": "https://localhost:8080/"
        },
        "id": "QeCeUtCAauvO",
        "outputId": "162ecd18-e880-45b0-e074-acbdeabe2ce9"
      },
      "execution_count": null,
      "outputs": [
        {
          "output_type": "stream",
          "name": "stdout",
          "text": [
            "class 0 accuracy: 0.991\n",
            "class 1 accuracy: 0.969\n"
          ]
        }
      ]
    },
    {
      "cell_type": "code",
      "source": [
        ""
      ],
      "metadata": {
        "id": "MwAk1txMavUo"
      },
      "execution_count": null,
      "outputs": []
    }
  ],
  "metadata": {
    "colab": {
      "collapsed_sections": [],
      "name": "How_to_Improve_an_Imbalanced_Dataset.ipynb",
      "provenance": [],
      "include_colab_link": true
    },
    "kernelspec": {
      "display_name": "Python 3",
      "language": "python",
      "name": "python3"
    },
    "language_info": {
      "codemirror_mode": {
        "name": "ipython",
        "version": 3
      },
      "file_extension": ".py",
      "mimetype": "text/x-python",
      "name": "python",
      "nbconvert_exporter": "python",
      "pygments_lexer": "ipython3",
      "version": "3.7.1"
    }
  },
  "nbformat": 4,
  "nbformat_minor": 0
}