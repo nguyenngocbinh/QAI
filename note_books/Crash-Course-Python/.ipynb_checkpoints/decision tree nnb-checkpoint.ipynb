{
 "cells": [
  {
   "cell_type": "code",
   "execution_count": 1,
   "id": "e2f86997",
   "metadata": {},
   "outputs": [],
   "source": [
    "# y/c rời rạc hóa features\n"
   ]
  },
  {
   "cell_type": "code",
   "execution_count": 2,
   "id": "dc91a9fa",
   "metadata": {},
   "outputs": [],
   "source": [
    "# entropy trong bài toán binary nằm trong miền giá trị từ 0-1, với bài toán multiple class miền giá trị khác\n",
    "# entropy càng lớn, càng hỗn tạp\n",
    "# max information gain ~ min entropy"
   ]
  },
  {
   "cell_type": "code",
   "execution_count": 3,
   "id": "3d28e1fe",
   "metadata": {},
   "outputs": [],
   "source": [
    "# ID3 không xem xét lại các thuộc tính đã chọn\n",
    "# ID3 ưu tiên, sử dụng information gain \n",
    "## -> thuộc tính càng nhiều giá trị information gain càng cao \n",
    "## -> tạo cây vừa lùn, vừa béo :D\n",
    "## Với những là chưa có trong dữ liệu training -> mô hình không dự báo được\n"
   ]
  },
  {
   "cell_type": "code",
   "execution_count": null,
   "id": "28902460",
   "metadata": {},
   "outputs": [],
   "source": [
    "# ID3 dùng gini sẽ cải thiện được nhược điểm khi dùng entropy\n",
    "# Entropy tối ưu local, gini tối ưu global"
   ]
  }
 ],
 "metadata": {
  "kernelspec": {
   "display_name": "Python 3",
   "language": "python",
   "name": "python3"
  },
  "language_info": {
   "codemirror_mode": {
    "name": "ipython",
    "version": 3
   },
   "file_extension": ".py",
   "mimetype": "text/x-python",
   "name": "python",
   "nbconvert_exporter": "python",
   "pygments_lexer": "ipython3",
   "version": "3.8.8"
  }
 },
 "nbformat": 4,
 "nbformat_minor": 5
}
