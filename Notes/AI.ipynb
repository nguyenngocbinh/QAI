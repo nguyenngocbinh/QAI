{
 "cells": [
  {
   "cell_type": "markdown",
   "id": "a99d2887",
   "metadata": {},
   "source": [
    "# AI không dùng cho những bài toán\n",
    "- Bài toán có kết quả rõ ràng -> dùng rule based tốt hơn\n",
    "- Bài toán không có dữ liệu"
   ]
  },
  {
   "cell_type": "markdown",
   "id": "6e09c1cb",
   "metadata": {},
   "source": [
    "# AI dùng cho bài toán\n",
    "- Đầu ra bất định, khó đoán\n"
   ]
  },
  {
   "cell_type": "markdown",
   "id": "ca68e9e4",
   "metadata": {},
   "source": [
    "# Deep learning khác mô hình truyền thống\n",
    "- Deep learning không cần trích chọn đặc trưng\n"
   ]
  },
  {
   "cell_type": "markdown",
   "id": "398882ae",
   "metadata": {},
   "source": [
    "# Data science \n",
    "- Chỉ cần biết lý thuyết thống kê và sử dụng công cụ\n",
    "\n",
    "# AI science\n",
    "- Như data science và biết thêm lập trình\n"
   ]
  },
  {
   "cell_type": "markdown",
   "id": "78a68a73",
   "metadata": {},
   "source": [
    "# Deep learning\n",
    "- Dùng không hiệu quả với dữ liệu dạng bảng\n",
    "- Chỉ dùng trong trường hợp các dữ liệu liên quan chặt chẽ"
   ]
  },
  {
   "cell_type": "markdown",
   "id": "11ae5fd9",
   "metadata": {},
   "source": [
    "# Mô hình càng phức tạp càng dễ overfit\n"
   ]
  }
 ],
 "metadata": {
  "kernelspec": {
   "display_name": "Python 3",
   "language": "python",
   "name": "python3"
  },
  "language_info": {
   "codemirror_mode": {
    "name": "ipython",
    "version": 3
   },
   "file_extension": ".py",
   "mimetype": "text/x-python",
   "name": "python",
   "nbconvert_exporter": "python",
   "pygments_lexer": "ipython3",
   "version": "3.8.8"
  },
  "nbTranslate": {
   "displayLangs": [
    "*"
   ],
   "hotkey": "alt-t",
   "langInMainMenu": true,
   "sourceLang": "en",
   "targetLang": "fr",
   "useGoogleTranslate": true
  }
 },
 "nbformat": 4,
 "nbformat_minor": 5
}
