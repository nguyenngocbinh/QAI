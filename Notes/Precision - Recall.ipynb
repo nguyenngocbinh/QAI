{
 "cells": [
  {
   "cell_type": "markdown",
   "id": "f3748506",
   "metadata": {},
   "source": [
    "# precision\n",
    "\n",
    "- Precision cao nhưng Recall thấp do: chọn features chưa đầy đủ"
   ]
  },
  {
   "cell_type": "markdown",
   "id": "cb6fe475",
   "metadata": {},
   "source": [
    "# Khi nào cần precision cao\n",
    "- output của phần trước là input của module sau\n"
   ]
  },
  {
   "cell_type": "markdown",
   "id": "bf45ab08",
   "metadata": {},
   "source": [
    "# Khi nào cần recall cao\n",
    "- VD: test nhanh covid: chắc chắn 1000 người xét nghiệm / tổng số 1 triệu người đúng càng cao càng tốt\n",
    "-> ra 1 tập mà chắc chắn phần đúng đã nằm trong tập mẫu"
   ]
  },
  {
   "cell_type": "markdown",
   "id": "a5151a6f",
   "metadata": {},
   "source": [
    "# bias, variance\n",
    "- bias là sai số dự báo so với thực tế\n",
    "- variance: Phương sai của số dự báo (độ tin cậy của dự báo). Phương sai càng lớn, độ tin cậy càng giảm.\n",
    "- Mô hình càng phức tạp thì variance càng cao -> sử dụng bagging để giảm overfitting\n",
    "- Boosting: dùng cho các bài toán bias cao\n",
    "-> Bagging giảm overfitting, boosting: tăng độ chính xác so với thực tế\n"
   ]
  }
 ],
 "metadata": {
  "kernelspec": {
   "display_name": "Python 3",
   "language": "python",
   "name": "python3"
  },
  "language_info": {
   "codemirror_mode": {
    "name": "ipython",
    "version": 3
   },
   "file_extension": ".py",
   "mimetype": "text/x-python",
   "name": "python",
   "nbconvert_exporter": "python",
   "pygments_lexer": "ipython3",
   "version": "3.8.8"
  },
  "nbTranslate": {
   "displayLangs": [
    "*"
   ],
   "hotkey": "alt-t",
   "langInMainMenu": true,
   "sourceLang": "en",
   "targetLang": "fr",
   "useGoogleTranslate": true
  }
 },
 "nbformat": 4,
 "nbformat_minor": 5
}
