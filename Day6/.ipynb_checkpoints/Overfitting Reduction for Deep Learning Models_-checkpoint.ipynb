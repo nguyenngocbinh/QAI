{
 "cells": [
  {
   "cell_type": "markdown",
   "metadata": {
    "id": "qUdrdxHXeudG"
   },
   "source": [
    "# Exercise 1: Overfitting and Underfiting Reduction for Deep Learning Models​"
   ]
  },
  {
   "cell_type": "code",
   "execution_count": 2,
   "metadata": {
    "colab": {
     "base_uri": "https://localhost:8080/",
     "height": 35
    },
    "executionInfo": {
     "elapsed": 415,
     "status": "ok",
     "timestamp": 1657337442865,
     "user": {
      "displayName": "Hai Anh Tran",
      "userId": "00908073918557963233"
     },
     "user_tz": -420
    },
    "id": "dZw8cTvPetbC",
    "outputId": "d60c5e81-723b-45f5-a5db-6ff528978ba9"
   },
   "outputs": [
    {
     "data": {
      "text/plain": [
       "'2.9.0'"
      ]
     },
     "execution_count": 2,
     "metadata": {},
     "output_type": "execute_result"
    }
   ],
   "source": [
    "import tensorflow as tf\n",
    "from tensorflow import keras\n",
    "keras.__version__"
   ]
  },
  {
   "cell_type": "markdown",
   "metadata": {
    "id": "DSxLfG-8hxOl"
   },
   "source": [
    "## Dataset\n",
    "\n",
    "Tập dữ liệu IMDB\n",
    "\n",
    "\n",
    "*   Tập dữ liệu IMDB có 50 nghìn đánh giá phim có thể ứng dụng trong xử lý ngôn ngữ tự nhiên hoặc phân tích văn bản. \n",
    "*   Đây là tập dữ liệu để phân loại đánh giá nhị phân (tiêu cực và tích cực). \n",
    "*   IMDB cung cấp một bộ gồm 25.000 bài đánh giá phim có tính phân cực cao để đào tạo và 25.000 để thử nghiệm. "
   ]
  },
  {
   "cell_type": "code",
   "execution_count": 4,
   "metadata": {
    "colab": {
     "base_uri": "https://localhost:8080/"
    },
    "executionInfo": {
     "elapsed": 9448,
     "status": "ok",
     "timestamp": 1657337453694,
     "user": {
      "displayName": "Hai Anh Tran",
      "userId": "00908073918557963233"
     },
     "user_tz": -420
    },
    "id": "50f2fcxIhttN",
    "outputId": "b0018072-5ba3-4de7-851a-a28565d238d3"
   },
   "outputs": [
    {
     "name": "stdout",
     "output_type": "stream",
     "text": [
      "Downloading data from https://storage.googleapis.com/tensorflow/tf-keras-datasets/imdb.npz\n"
     ]
    },
    {
     "ename": "Exception",
     "evalue": "URL fetch failure on https://storage.googleapis.com/tensorflow/tf-keras-datasets/imdb.npz: None -- [WinError 10060] A connection attempt failed because the connected party did not properly respond after a period of time, or established connection failed because connected host has failed to respond",
     "output_type": "error",
     "traceback": [
      "\u001b[1;31m---------------------------------------------------------------------------\u001b[0m",
      "\u001b[1;31mTimeoutError\u001b[0m                              Traceback (most recent call last)",
      "File \u001b[1;32m~\\anaconda3\\lib\\urllib\\request.py:1354\u001b[0m, in \u001b[0;36mAbstractHTTPHandler.do_open\u001b[1;34m(self, http_class, req, **http_conn_args)\u001b[0m\n\u001b[0;32m   1353\u001b[0m \u001b[38;5;28;01mtry\u001b[39;00m:\n\u001b[1;32m-> 1354\u001b[0m     \u001b[43mh\u001b[49m\u001b[38;5;241;43m.\u001b[39;49m\u001b[43mrequest\u001b[49m\u001b[43m(\u001b[49m\u001b[43mreq\u001b[49m\u001b[38;5;241;43m.\u001b[39;49m\u001b[43mget_method\u001b[49m\u001b[43m(\u001b[49m\u001b[43m)\u001b[49m\u001b[43m,\u001b[49m\u001b[43m \u001b[49m\u001b[43mreq\u001b[49m\u001b[38;5;241;43m.\u001b[39;49m\u001b[43mselector\u001b[49m\u001b[43m,\u001b[49m\u001b[43m \u001b[49m\u001b[43mreq\u001b[49m\u001b[38;5;241;43m.\u001b[39;49m\u001b[43mdata\u001b[49m\u001b[43m,\u001b[49m\u001b[43m \u001b[49m\u001b[43mheaders\u001b[49m\u001b[43m,\u001b[49m\n\u001b[0;32m   1355\u001b[0m \u001b[43m              \u001b[49m\u001b[43mencode_chunked\u001b[49m\u001b[38;5;241;43m=\u001b[39;49m\u001b[43mreq\u001b[49m\u001b[38;5;241;43m.\u001b[39;49m\u001b[43mhas_header\u001b[49m\u001b[43m(\u001b[49m\u001b[38;5;124;43m'\u001b[39;49m\u001b[38;5;124;43mTransfer-encoding\u001b[39;49m\u001b[38;5;124;43m'\u001b[39;49m\u001b[43m)\u001b[49m\u001b[43m)\u001b[49m\n\u001b[0;32m   1356\u001b[0m \u001b[38;5;28;01mexcept\u001b[39;00m \u001b[38;5;167;01mOSError\u001b[39;00m \u001b[38;5;28;01mas\u001b[39;00m err: \u001b[38;5;66;03m# timeout error\u001b[39;00m\n",
      "File \u001b[1;32m~\\anaconda3\\lib\\http\\client.py:1256\u001b[0m, in \u001b[0;36mHTTPConnection.request\u001b[1;34m(self, method, url, body, headers, encode_chunked)\u001b[0m\n\u001b[0;32m   1255\u001b[0m \u001b[38;5;124;03m\"\"\"Send a complete request to the server.\"\"\"\u001b[39;00m\n\u001b[1;32m-> 1256\u001b[0m \u001b[38;5;28;43mself\u001b[39;49m\u001b[38;5;241;43m.\u001b[39;49m\u001b[43m_send_request\u001b[49m\u001b[43m(\u001b[49m\u001b[43mmethod\u001b[49m\u001b[43m,\u001b[49m\u001b[43m \u001b[49m\u001b[43murl\u001b[49m\u001b[43m,\u001b[49m\u001b[43m \u001b[49m\u001b[43mbody\u001b[49m\u001b[43m,\u001b[49m\u001b[43m \u001b[49m\u001b[43mheaders\u001b[49m\u001b[43m,\u001b[49m\u001b[43m \u001b[49m\u001b[43mencode_chunked\u001b[49m\u001b[43m)\u001b[49m\n",
      "File \u001b[1;32m~\\anaconda3\\lib\\http\\client.py:1302\u001b[0m, in \u001b[0;36mHTTPConnection._send_request\u001b[1;34m(self, method, url, body, headers, encode_chunked)\u001b[0m\n\u001b[0;32m   1301\u001b[0m     body \u001b[38;5;241m=\u001b[39m _encode(body, \u001b[38;5;124m'\u001b[39m\u001b[38;5;124mbody\u001b[39m\u001b[38;5;124m'\u001b[39m)\n\u001b[1;32m-> 1302\u001b[0m \u001b[38;5;28;43mself\u001b[39;49m\u001b[38;5;241;43m.\u001b[39;49m\u001b[43mendheaders\u001b[49m\u001b[43m(\u001b[49m\u001b[43mbody\u001b[49m\u001b[43m,\u001b[49m\u001b[43m \u001b[49m\u001b[43mencode_chunked\u001b[49m\u001b[38;5;241;43m=\u001b[39;49m\u001b[43mencode_chunked\u001b[49m\u001b[43m)\u001b[49m\n",
      "File \u001b[1;32m~\\anaconda3\\lib\\http\\client.py:1251\u001b[0m, in \u001b[0;36mHTTPConnection.endheaders\u001b[1;34m(self, message_body, encode_chunked)\u001b[0m\n\u001b[0;32m   1250\u001b[0m     \u001b[38;5;28;01mraise\u001b[39;00m CannotSendHeader()\n\u001b[1;32m-> 1251\u001b[0m \u001b[38;5;28;43mself\u001b[39;49m\u001b[38;5;241;43m.\u001b[39;49m\u001b[43m_send_output\u001b[49m\u001b[43m(\u001b[49m\u001b[43mmessage_body\u001b[49m\u001b[43m,\u001b[49m\u001b[43m \u001b[49m\u001b[43mencode_chunked\u001b[49m\u001b[38;5;241;43m=\u001b[39;49m\u001b[43mencode_chunked\u001b[49m\u001b[43m)\u001b[49m\n",
      "File \u001b[1;32m~\\anaconda3\\lib\\http\\client.py:1011\u001b[0m, in \u001b[0;36mHTTPConnection._send_output\u001b[1;34m(self, message_body, encode_chunked)\u001b[0m\n\u001b[0;32m   1010\u001b[0m \u001b[38;5;28;01mdel\u001b[39;00m \u001b[38;5;28mself\u001b[39m\u001b[38;5;241m.\u001b[39m_buffer[:]\n\u001b[1;32m-> 1011\u001b[0m \u001b[38;5;28;43mself\u001b[39;49m\u001b[38;5;241;43m.\u001b[39;49m\u001b[43msend\u001b[49m\u001b[43m(\u001b[49m\u001b[43mmsg\u001b[49m\u001b[43m)\u001b[49m\n\u001b[0;32m   1013\u001b[0m \u001b[38;5;28;01mif\u001b[39;00m message_body \u001b[38;5;129;01mis\u001b[39;00m \u001b[38;5;129;01mnot\u001b[39;00m \u001b[38;5;28;01mNone\u001b[39;00m:\n\u001b[0;32m   1014\u001b[0m \n\u001b[0;32m   1015\u001b[0m     \u001b[38;5;66;03m# create a consistent interface to message_body\u001b[39;00m\n",
      "File \u001b[1;32m~\\anaconda3\\lib\\http\\client.py:951\u001b[0m, in \u001b[0;36mHTTPConnection.send\u001b[1;34m(self, data)\u001b[0m\n\u001b[0;32m    950\u001b[0m \u001b[38;5;28;01mif\u001b[39;00m \u001b[38;5;28mself\u001b[39m\u001b[38;5;241m.\u001b[39mauto_open:\n\u001b[1;32m--> 951\u001b[0m     \u001b[38;5;28;43mself\u001b[39;49m\u001b[38;5;241;43m.\u001b[39;49m\u001b[43mconnect\u001b[49m\u001b[43m(\u001b[49m\u001b[43m)\u001b[49m\n\u001b[0;32m    952\u001b[0m \u001b[38;5;28;01melse\u001b[39;00m:\n",
      "File \u001b[1;32m~\\anaconda3\\lib\\http\\client.py:1425\u001b[0m, in \u001b[0;36mHTTPSConnection.connect\u001b[1;34m(self)\u001b[0m\n\u001b[0;32m   1423\u001b[0m     server_hostname \u001b[38;5;241m=\u001b[39m \u001b[38;5;28mself\u001b[39m\u001b[38;5;241m.\u001b[39mhost\n\u001b[1;32m-> 1425\u001b[0m \u001b[38;5;28mself\u001b[39m\u001b[38;5;241m.\u001b[39msock \u001b[38;5;241m=\u001b[39m \u001b[38;5;28;43mself\u001b[39;49m\u001b[38;5;241;43m.\u001b[39;49m\u001b[43m_context\u001b[49m\u001b[38;5;241;43m.\u001b[39;49m\u001b[43mwrap_socket\u001b[49m\u001b[43m(\u001b[49m\u001b[38;5;28;43mself\u001b[39;49m\u001b[38;5;241;43m.\u001b[39;49m\u001b[43msock\u001b[49m\u001b[43m,\u001b[49m\n\u001b[0;32m   1426\u001b[0m \u001b[43m                                      \u001b[49m\u001b[43mserver_hostname\u001b[49m\u001b[38;5;241;43m=\u001b[39;49m\u001b[43mserver_hostname\u001b[49m\u001b[43m)\u001b[49m\n",
      "File \u001b[1;32m~\\anaconda3\\lib\\ssl.py:500\u001b[0m, in \u001b[0;36mSSLContext.wrap_socket\u001b[1;34m(self, sock, server_side, do_handshake_on_connect, suppress_ragged_eofs, server_hostname, session)\u001b[0m\n\u001b[0;32m    494\u001b[0m \u001b[38;5;28;01mdef\u001b[39;00m \u001b[38;5;21mwrap_socket\u001b[39m(\u001b[38;5;28mself\u001b[39m, sock, server_side\u001b[38;5;241m=\u001b[39m\u001b[38;5;28;01mFalse\u001b[39;00m,\n\u001b[0;32m    495\u001b[0m                 do_handshake_on_connect\u001b[38;5;241m=\u001b[39m\u001b[38;5;28;01mTrue\u001b[39;00m,\n\u001b[0;32m    496\u001b[0m                 suppress_ragged_eofs\u001b[38;5;241m=\u001b[39m\u001b[38;5;28;01mTrue\u001b[39;00m,\n\u001b[0;32m    497\u001b[0m                 server_hostname\u001b[38;5;241m=\u001b[39m\u001b[38;5;28;01mNone\u001b[39;00m, session\u001b[38;5;241m=\u001b[39m\u001b[38;5;28;01mNone\u001b[39;00m):\n\u001b[0;32m    498\u001b[0m     \u001b[38;5;66;03m# SSLSocket class handles server_hostname encoding before it calls\u001b[39;00m\n\u001b[0;32m    499\u001b[0m     \u001b[38;5;66;03m# ctx._wrap_socket()\u001b[39;00m\n\u001b[1;32m--> 500\u001b[0m     \u001b[38;5;28;01mreturn\u001b[39;00m \u001b[38;5;28;43mself\u001b[39;49m\u001b[38;5;241;43m.\u001b[39;49m\u001b[43msslsocket_class\u001b[49m\u001b[38;5;241;43m.\u001b[39;49m\u001b[43m_create\u001b[49m\u001b[43m(\u001b[49m\n\u001b[0;32m    501\u001b[0m \u001b[43m        \u001b[49m\u001b[43msock\u001b[49m\u001b[38;5;241;43m=\u001b[39;49m\u001b[43msock\u001b[49m\u001b[43m,\u001b[49m\n\u001b[0;32m    502\u001b[0m \u001b[43m        \u001b[49m\u001b[43mserver_side\u001b[49m\u001b[38;5;241;43m=\u001b[39;49m\u001b[43mserver_side\u001b[49m\u001b[43m,\u001b[49m\n\u001b[0;32m    503\u001b[0m \u001b[43m        \u001b[49m\u001b[43mdo_handshake_on_connect\u001b[49m\u001b[38;5;241;43m=\u001b[39;49m\u001b[43mdo_handshake_on_connect\u001b[49m\u001b[43m,\u001b[49m\n\u001b[0;32m    504\u001b[0m \u001b[43m        \u001b[49m\u001b[43msuppress_ragged_eofs\u001b[49m\u001b[38;5;241;43m=\u001b[39;49m\u001b[43msuppress_ragged_eofs\u001b[49m\u001b[43m,\u001b[49m\n\u001b[0;32m    505\u001b[0m \u001b[43m        \u001b[49m\u001b[43mserver_hostname\u001b[49m\u001b[38;5;241;43m=\u001b[39;49m\u001b[43mserver_hostname\u001b[49m\u001b[43m,\u001b[49m\n\u001b[0;32m    506\u001b[0m \u001b[43m        \u001b[49m\u001b[43mcontext\u001b[49m\u001b[38;5;241;43m=\u001b[39;49m\u001b[38;5;28;43mself\u001b[39;49m\u001b[43m,\u001b[49m\n\u001b[0;32m    507\u001b[0m \u001b[43m        \u001b[49m\u001b[43msession\u001b[49m\u001b[38;5;241;43m=\u001b[39;49m\u001b[43msession\u001b[49m\n\u001b[0;32m    508\u001b[0m \u001b[43m    \u001b[49m\u001b[43m)\u001b[49m\n",
      "File \u001b[1;32m~\\anaconda3\\lib\\ssl.py:1040\u001b[0m, in \u001b[0;36mSSLSocket._create\u001b[1;34m(cls, sock, server_side, do_handshake_on_connect, suppress_ragged_eofs, server_hostname, context, session)\u001b[0m\n\u001b[0;32m   1039\u001b[0m             \u001b[38;5;28;01mraise\u001b[39;00m \u001b[38;5;167;01mValueError\u001b[39;00m(\u001b[38;5;124m\"\u001b[39m\u001b[38;5;124mdo_handshake_on_connect should not be specified for non-blocking sockets\u001b[39m\u001b[38;5;124m\"\u001b[39m)\n\u001b[1;32m-> 1040\u001b[0m         \u001b[38;5;28;43mself\u001b[39;49m\u001b[38;5;241;43m.\u001b[39;49m\u001b[43mdo_handshake\u001b[49m\u001b[43m(\u001b[49m\u001b[43m)\u001b[49m\n\u001b[0;32m   1041\u001b[0m \u001b[38;5;28;01mexcept\u001b[39;00m (\u001b[38;5;167;01mOSError\u001b[39;00m, \u001b[38;5;167;01mValueError\u001b[39;00m):\n",
      "File \u001b[1;32m~\\anaconda3\\lib\\ssl.py:1309\u001b[0m, in \u001b[0;36mSSLSocket.do_handshake\u001b[1;34m(self, block)\u001b[0m\n\u001b[0;32m   1308\u001b[0m         \u001b[38;5;28mself\u001b[39m\u001b[38;5;241m.\u001b[39msettimeout(\u001b[38;5;28;01mNone\u001b[39;00m)\n\u001b[1;32m-> 1309\u001b[0m     \u001b[38;5;28;43mself\u001b[39;49m\u001b[38;5;241;43m.\u001b[39;49m\u001b[43m_sslobj\u001b[49m\u001b[38;5;241;43m.\u001b[39;49m\u001b[43mdo_handshake\u001b[49m\u001b[43m(\u001b[49m\u001b[43m)\u001b[49m\n\u001b[0;32m   1310\u001b[0m \u001b[38;5;28;01mfinally\u001b[39;00m:\n",
      "\u001b[1;31mTimeoutError\u001b[0m: [WinError 10060] A connection attempt failed because the connected party did not properly respond after a period of time, or established connection failed because connected host has failed to respond",
      "\nDuring handling of the above exception, another exception occurred:\n",
      "\u001b[1;31mURLError\u001b[0m                                  Traceback (most recent call last)",
      "File \u001b[1;32m~\\anaconda3\\lib\\site-packages\\keras\\utils\\data_utils.py:283\u001b[0m, in \u001b[0;36mget_file\u001b[1;34m(fname, origin, untar, md5_hash, file_hash, cache_subdir, hash_algorithm, extract, archive_format, cache_dir)\u001b[0m\n\u001b[0;32m    282\u001b[0m \u001b[38;5;28;01mtry\u001b[39;00m:\n\u001b[1;32m--> 283\u001b[0m   \u001b[43murlretrieve\u001b[49m\u001b[43m(\u001b[49m\u001b[43morigin\u001b[49m\u001b[43m,\u001b[49m\u001b[43m \u001b[49m\u001b[43mfpath\u001b[49m\u001b[43m,\u001b[49m\u001b[43m \u001b[49m\u001b[43mDLProgbar\u001b[49m\u001b[43m(\u001b[49m\u001b[43m)\u001b[49m\u001b[43m)\u001b[49m\n\u001b[0;32m    284\u001b[0m \u001b[38;5;28;01mexcept\u001b[39;00m urllib\u001b[38;5;241m.\u001b[39merror\u001b[38;5;241m.\u001b[39mHTTPError \u001b[38;5;28;01mas\u001b[39;00m e:\n",
      "File \u001b[1;32m~\\anaconda3\\lib\\site-packages\\keras\\utils\\data_utils.py:82\u001b[0m, in \u001b[0;36murlretrieve\u001b[1;34m(url, filename, reporthook, data)\u001b[0m\n\u001b[0;32m     80\u001b[0m       \u001b[38;5;28;01mbreak\u001b[39;00m\n\u001b[1;32m---> 82\u001b[0m response \u001b[38;5;241m=\u001b[39m \u001b[43murlopen\u001b[49m\u001b[43m(\u001b[49m\u001b[43murl\u001b[49m\u001b[43m,\u001b[49m\u001b[43m \u001b[49m\u001b[43mdata\u001b[49m\u001b[43m)\u001b[49m\n\u001b[0;32m     83\u001b[0m \u001b[38;5;28;01mwith\u001b[39;00m \u001b[38;5;28mopen\u001b[39m(filename, \u001b[38;5;124m'\u001b[39m\u001b[38;5;124mwb\u001b[39m\u001b[38;5;124m'\u001b[39m) \u001b[38;5;28;01mas\u001b[39;00m fd:\n",
      "File \u001b[1;32m~\\anaconda3\\lib\\urllib\\request.py:222\u001b[0m, in \u001b[0;36murlopen\u001b[1;34m(url, data, timeout, cafile, capath, cadefault, context)\u001b[0m\n\u001b[0;32m    221\u001b[0m     opener \u001b[38;5;241m=\u001b[39m _opener\n\u001b[1;32m--> 222\u001b[0m \u001b[38;5;28;01mreturn\u001b[39;00m \u001b[43mopener\u001b[49m\u001b[38;5;241;43m.\u001b[39;49m\u001b[43mopen\u001b[49m\u001b[43m(\u001b[49m\u001b[43murl\u001b[49m\u001b[43m,\u001b[49m\u001b[43m \u001b[49m\u001b[43mdata\u001b[49m\u001b[43m,\u001b[49m\u001b[43m \u001b[49m\u001b[43mtimeout\u001b[49m\u001b[43m)\u001b[49m\n",
      "File \u001b[1;32m~\\anaconda3\\lib\\urllib\\request.py:525\u001b[0m, in \u001b[0;36mOpenerDirector.open\u001b[1;34m(self, fullurl, data, timeout)\u001b[0m\n\u001b[0;32m    524\u001b[0m sys\u001b[38;5;241m.\u001b[39maudit(\u001b[38;5;124m'\u001b[39m\u001b[38;5;124murllib.Request\u001b[39m\u001b[38;5;124m'\u001b[39m, req\u001b[38;5;241m.\u001b[39mfull_url, req\u001b[38;5;241m.\u001b[39mdata, req\u001b[38;5;241m.\u001b[39mheaders, req\u001b[38;5;241m.\u001b[39mget_method())\n\u001b[1;32m--> 525\u001b[0m response \u001b[38;5;241m=\u001b[39m \u001b[38;5;28;43mself\u001b[39;49m\u001b[38;5;241;43m.\u001b[39;49m\u001b[43m_open\u001b[49m\u001b[43m(\u001b[49m\u001b[43mreq\u001b[49m\u001b[43m,\u001b[49m\u001b[43m \u001b[49m\u001b[43mdata\u001b[49m\u001b[43m)\u001b[49m\n\u001b[0;32m    527\u001b[0m \u001b[38;5;66;03m# post-process response\u001b[39;00m\n",
      "File \u001b[1;32m~\\anaconda3\\lib\\urllib\\request.py:542\u001b[0m, in \u001b[0;36mOpenerDirector._open\u001b[1;34m(self, req, data)\u001b[0m\n\u001b[0;32m    541\u001b[0m protocol \u001b[38;5;241m=\u001b[39m req\u001b[38;5;241m.\u001b[39mtype\n\u001b[1;32m--> 542\u001b[0m result \u001b[38;5;241m=\u001b[39m \u001b[38;5;28;43mself\u001b[39;49m\u001b[38;5;241;43m.\u001b[39;49m\u001b[43m_call_chain\u001b[49m\u001b[43m(\u001b[49m\u001b[38;5;28;43mself\u001b[39;49m\u001b[38;5;241;43m.\u001b[39;49m\u001b[43mhandle_open\u001b[49m\u001b[43m,\u001b[49m\u001b[43m \u001b[49m\u001b[43mprotocol\u001b[49m\u001b[43m,\u001b[49m\u001b[43m \u001b[49m\u001b[43mprotocol\u001b[49m\u001b[43m \u001b[49m\u001b[38;5;241;43m+\u001b[39;49m\n\u001b[0;32m    543\u001b[0m \u001b[43m                          \u001b[49m\u001b[38;5;124;43m'\u001b[39;49m\u001b[38;5;124;43m_open\u001b[39;49m\u001b[38;5;124;43m'\u001b[39;49m\u001b[43m,\u001b[49m\u001b[43m \u001b[49m\u001b[43mreq\u001b[49m\u001b[43m)\u001b[49m\n\u001b[0;32m    544\u001b[0m \u001b[38;5;28;01mif\u001b[39;00m result:\n",
      "File \u001b[1;32m~\\anaconda3\\lib\\urllib\\request.py:502\u001b[0m, in \u001b[0;36mOpenerDirector._call_chain\u001b[1;34m(self, chain, kind, meth_name, *args)\u001b[0m\n\u001b[0;32m    501\u001b[0m func \u001b[38;5;241m=\u001b[39m \u001b[38;5;28mgetattr\u001b[39m(handler, meth_name)\n\u001b[1;32m--> 502\u001b[0m result \u001b[38;5;241m=\u001b[39m \u001b[43mfunc\u001b[49m\u001b[43m(\u001b[49m\u001b[38;5;241;43m*\u001b[39;49m\u001b[43margs\u001b[49m\u001b[43m)\u001b[49m\n\u001b[0;32m    503\u001b[0m \u001b[38;5;28;01mif\u001b[39;00m result \u001b[38;5;129;01mis\u001b[39;00m \u001b[38;5;129;01mnot\u001b[39;00m \u001b[38;5;28;01mNone\u001b[39;00m:\n",
      "File \u001b[1;32m~\\anaconda3\\lib\\urllib\\request.py:1397\u001b[0m, in \u001b[0;36mHTTPSHandler.https_open\u001b[1;34m(self, req)\u001b[0m\n\u001b[0;32m   1396\u001b[0m \u001b[38;5;28;01mdef\u001b[39;00m \u001b[38;5;21mhttps_open\u001b[39m(\u001b[38;5;28mself\u001b[39m, req):\n\u001b[1;32m-> 1397\u001b[0m     \u001b[38;5;28;01mreturn\u001b[39;00m \u001b[38;5;28;43mself\u001b[39;49m\u001b[38;5;241;43m.\u001b[39;49m\u001b[43mdo_open\u001b[49m\u001b[43m(\u001b[49m\u001b[43mhttp\u001b[49m\u001b[38;5;241;43m.\u001b[39;49m\u001b[43mclient\u001b[49m\u001b[38;5;241;43m.\u001b[39;49m\u001b[43mHTTPSConnection\u001b[49m\u001b[43m,\u001b[49m\u001b[43m \u001b[49m\u001b[43mreq\u001b[49m\u001b[43m,\u001b[49m\n\u001b[0;32m   1398\u001b[0m \u001b[43m        \u001b[49m\u001b[43mcontext\u001b[49m\u001b[38;5;241;43m=\u001b[39;49m\u001b[38;5;28;43mself\u001b[39;49m\u001b[38;5;241;43m.\u001b[39;49m\u001b[43m_context\u001b[49m\u001b[43m,\u001b[49m\u001b[43m \u001b[49m\u001b[43mcheck_hostname\u001b[49m\u001b[38;5;241;43m=\u001b[39;49m\u001b[38;5;28;43mself\u001b[39;49m\u001b[38;5;241;43m.\u001b[39;49m\u001b[43m_check_hostname\u001b[49m\u001b[43m)\u001b[49m\n",
      "File \u001b[1;32m~\\anaconda3\\lib\\urllib\\request.py:1357\u001b[0m, in \u001b[0;36mAbstractHTTPHandler.do_open\u001b[1;34m(self, http_class, req, **http_conn_args)\u001b[0m\n\u001b[0;32m   1356\u001b[0m \u001b[38;5;28;01mexcept\u001b[39;00m \u001b[38;5;167;01mOSError\u001b[39;00m \u001b[38;5;28;01mas\u001b[39;00m err: \u001b[38;5;66;03m# timeout error\u001b[39;00m\n\u001b[1;32m-> 1357\u001b[0m     \u001b[38;5;28;01mraise\u001b[39;00m URLError(err)\n\u001b[0;32m   1358\u001b[0m r \u001b[38;5;241m=\u001b[39m h\u001b[38;5;241m.\u001b[39mgetresponse()\n",
      "\u001b[1;31mURLError\u001b[0m: <urlopen error [WinError 10060] A connection attempt failed because the connected party did not properly respond after a period of time, or established connection failed because connected host has failed to respond>",
      "\nDuring handling of the above exception, another exception occurred:\n",
      "\u001b[1;31mException\u001b[0m                                 Traceback (most recent call last)",
      "Input \u001b[1;32mIn [4]\u001b[0m, in \u001b[0;36m<cell line: 4>\u001b[1;34m()\u001b[0m\n\u001b[0;32m      1\u001b[0m \u001b[38;5;28;01mfrom\u001b[39;00m \u001b[38;5;21;01mkeras\u001b[39;00m\u001b[38;5;21;01m.\u001b[39;00m\u001b[38;5;21;01mdatasets\u001b[39;00m \u001b[38;5;28;01mimport\u001b[39;00m imdb\n\u001b[0;32m      2\u001b[0m \u001b[38;5;28;01mimport\u001b[39;00m \u001b[38;5;21;01mnumpy\u001b[39;00m \u001b[38;5;28;01mas\u001b[39;00m \u001b[38;5;21;01mnp\u001b[39;00m\n\u001b[1;32m----> 4\u001b[0m (train_data, train_labels), (test_data, test_labels) \u001b[38;5;241m=\u001b[39m \u001b[43mimdb\u001b[49m\u001b[38;5;241;43m.\u001b[39;49m\u001b[43mload_data\u001b[49m\u001b[43m(\u001b[49m\u001b[43mnum_words\u001b[49m\u001b[38;5;241;43m=\u001b[39;49m\u001b[38;5;241;43m10000\u001b[39;49m\u001b[43m)\u001b[49m\n\u001b[0;32m      6\u001b[0m \u001b[38;5;28;01mdef\u001b[39;00m \u001b[38;5;21mvectorize_sequences\u001b[39m(sequences, dimension\u001b[38;5;241m=\u001b[39m\u001b[38;5;241m10000\u001b[39m):\n\u001b[0;32m      7\u001b[0m     \u001b[38;5;66;03m# Create an all-zero matrix of shape (len(sequences), dimension)\u001b[39;00m\n\u001b[0;32m      8\u001b[0m     results \u001b[38;5;241m=\u001b[39m np\u001b[38;5;241m.\u001b[39mzeros((\u001b[38;5;28mlen\u001b[39m(sequences), dimension))\n",
      "File \u001b[1;32m~\\anaconda3\\lib\\site-packages\\keras\\datasets\\imdb.py:103\u001b[0m, in \u001b[0;36mload_data\u001b[1;34m(path, num_words, skip_top, maxlen, seed, start_char, oov_char, index_from, **kwargs)\u001b[0m\n\u001b[0;32m    100\u001b[0m   \u001b[38;5;28;01mraise\u001b[39;00m \u001b[38;5;167;01mTypeError\u001b[39;00m(\u001b[38;5;124mf\u001b[39m\u001b[38;5;124m'\u001b[39m\u001b[38;5;124mUnrecognized keyword arguments: \u001b[39m\u001b[38;5;132;01m{\u001b[39;00m\u001b[38;5;28mstr\u001b[39m(kwargs)\u001b[38;5;132;01m}\u001b[39;00m\u001b[38;5;124m.\u001b[39m\u001b[38;5;124m'\u001b[39m)\n\u001b[0;32m    102\u001b[0m origin_folder \u001b[38;5;241m=\u001b[39m \u001b[38;5;124m'\u001b[39m\u001b[38;5;124mhttps://storage.googleapis.com/tensorflow/tf-keras-datasets/\u001b[39m\u001b[38;5;124m'\u001b[39m\n\u001b[1;32m--> 103\u001b[0m path \u001b[38;5;241m=\u001b[39m \u001b[43mget_file\u001b[49m\u001b[43m(\u001b[49m\n\u001b[0;32m    104\u001b[0m \u001b[43m    \u001b[49m\u001b[43mpath\u001b[49m\u001b[43m,\u001b[49m\n\u001b[0;32m    105\u001b[0m \u001b[43m    \u001b[49m\u001b[43morigin\u001b[49m\u001b[38;5;241;43m=\u001b[39;49m\u001b[43morigin_folder\u001b[49m\u001b[43m \u001b[49m\u001b[38;5;241;43m+\u001b[39;49m\u001b[43m \u001b[49m\u001b[38;5;124;43m'\u001b[39;49m\u001b[38;5;124;43mimdb.npz\u001b[39;49m\u001b[38;5;124;43m'\u001b[39;49m\u001b[43m,\u001b[49m\n\u001b[0;32m    106\u001b[0m \u001b[43m    \u001b[49m\u001b[43mfile_hash\u001b[49m\u001b[38;5;241;43m=\u001b[39;49m\n\u001b[0;32m    107\u001b[0m \u001b[43m    \u001b[49m\u001b[38;5;124;43m'\u001b[39;49m\u001b[38;5;124;43m69664113be75683a8fe16e3ed0ab59fda8886cb3cd7ada244f7d9544e4676b9f\u001b[39;49m\u001b[38;5;124;43m'\u001b[39;49m\u001b[43m)\u001b[49m\n\u001b[0;32m    108\u001b[0m \u001b[38;5;28;01mwith\u001b[39;00m np\u001b[38;5;241m.\u001b[39mload(path, allow_pickle\u001b[38;5;241m=\u001b[39m\u001b[38;5;28;01mTrue\u001b[39;00m) \u001b[38;5;28;01mas\u001b[39;00m f:  \u001b[38;5;66;03m# pylint: disable=unexpected-keyword-arg\u001b[39;00m\n\u001b[0;32m    109\u001b[0m   x_train, labels_train \u001b[38;5;241m=\u001b[39m f[\u001b[38;5;124m'\u001b[39m\u001b[38;5;124mx_train\u001b[39m\u001b[38;5;124m'\u001b[39m], f[\u001b[38;5;124m'\u001b[39m\u001b[38;5;124my_train\u001b[39m\u001b[38;5;124m'\u001b[39m]\n",
      "File \u001b[1;32m~\\anaconda3\\lib\\site-packages\\keras\\utils\\data_utils.py:287\u001b[0m, in \u001b[0;36mget_file\u001b[1;34m(fname, origin, untar, md5_hash, file_hash, cache_subdir, hash_algorithm, extract, archive_format, cache_dir)\u001b[0m\n\u001b[0;32m    285\u001b[0m     \u001b[38;5;28;01mraise\u001b[39;00m \u001b[38;5;167;01mException\u001b[39;00m(error_msg\u001b[38;5;241m.\u001b[39mformat(origin, e\u001b[38;5;241m.\u001b[39mcode, e\u001b[38;5;241m.\u001b[39mmsg))\n\u001b[0;32m    286\u001b[0m   \u001b[38;5;28;01mexcept\u001b[39;00m urllib\u001b[38;5;241m.\u001b[39merror\u001b[38;5;241m.\u001b[39mURLError \u001b[38;5;28;01mas\u001b[39;00m e:\n\u001b[1;32m--> 287\u001b[0m     \u001b[38;5;28;01mraise\u001b[39;00m \u001b[38;5;167;01mException\u001b[39;00m(error_msg\u001b[38;5;241m.\u001b[39mformat(origin, e\u001b[38;5;241m.\u001b[39merrno, e\u001b[38;5;241m.\u001b[39mreason))\n\u001b[0;32m    288\u001b[0m \u001b[38;5;28;01mexcept\u001b[39;00m (\u001b[38;5;167;01mException\u001b[39;00m, \u001b[38;5;167;01mKeyboardInterrupt\u001b[39;00m) \u001b[38;5;28;01mas\u001b[39;00m e:\n\u001b[0;32m    289\u001b[0m   \u001b[38;5;28;01mif\u001b[39;00m os\u001b[38;5;241m.\u001b[39mpath\u001b[38;5;241m.\u001b[39mexists(fpath):\n",
      "\u001b[1;31mException\u001b[0m: URL fetch failure on https://storage.googleapis.com/tensorflow/tf-keras-datasets/imdb.npz: None -- [WinError 10060] A connection attempt failed because the connected party did not properly respond after a period of time, or established connection failed because connected host has failed to respond"
     ]
    }
   ],
   "source": [
    "from keras.datasets import imdb\n",
    "import numpy as np\n",
    "\n",
    "(train_data, train_labels), (test_data, test_labels) = imdb.load_data(num_words=10000)\n",
    "\n",
    "def vectorize_sequences(sequences, dimension=10000):\n",
    "    # Create an all-zero matrix of shape (len(sequences), dimension)\n",
    "    results = np.zeros((len(sequences), dimension))\n",
    "    for i, sequence in enumerate(sequences):\n",
    "        results[i, sequence] = 1.  # set specific indices of results[i] to 1s\n",
    "    return results\n",
    "\n",
    "# Our vectorized training data\n",
    "x_train = vectorize_sequences(train_data)\n",
    "# Our vectorized test data\n",
    "x_test = vectorize_sequences(test_data)\n",
    "# Our vectorized labels\n",
    "y_train = np.asarray(train_labels).astype('float32')\n",
    "y_test = np.asarray(test_labels).astype('float32')"
   ]
  },
  {
   "cell_type": "code",
   "execution_count": 3,
   "metadata": {
    "executionInfo": {
     "elapsed": 13,
     "status": "ok",
     "timestamp": 1657337453699,
     "user": {
      "displayName": "Hai Anh Tran",
      "userId": "00908073918557963233"
     },
     "user_tz": -420
    },
    "id": "UyDTG8s7j7xF"
   },
   "outputs": [
    {
     "name": "stdout",
     "output_type": "stream",
     "text": [
      "WARNING:tensorflow:From c:\\Users\\Msi\\anaconda3\\envs\\Tank\\lib\\site-packages\\keras\\backend\\tensorflow_backend.py:66: The name tf.get_default_graph is deprecated. Please use tf.compat.v1.get_default_graph instead.\n",
      "\n",
      "WARNING:tensorflow:From c:\\Users\\Msi\\anaconda3\\envs\\Tank\\lib\\site-packages\\keras\\backend\\tensorflow_backend.py:541: The name tf.placeholder is deprecated. Please use tf.compat.v1.placeholder instead.\n",
      "\n",
      "WARNING:tensorflow:From c:\\Users\\Msi\\anaconda3\\envs\\Tank\\lib\\site-packages\\keras\\backend\\tensorflow_backend.py:4432: The name tf.random_uniform is deprecated. Please use tf.random.uniform instead.\n",
      "\n",
      "WARNING:tensorflow:From c:\\Users\\Msi\\anaconda3\\envs\\Tank\\lib\\site-packages\\keras\\optimizers.py:793: The name tf.train.Optimizer is deprecated. Please use tf.compat.v1.train.Optimizer instead.\n",
      "\n",
      "WARNING:tensorflow:From c:\\Users\\Msi\\anaconda3\\envs\\Tank\\lib\\site-packages\\keras\\backend\\tensorflow_backend.py:3657: The name tf.log is deprecated. Please use tf.math.log instead.\n",
      "\n",
      "WARNING:tensorflow:From c:\\Users\\Msi\\anaconda3\\envs\\Tank\\lib\\site-packages\\tensorflow\\python\\ops\\nn_impl.py:180: add_dispatch_support.<locals>.wrapper (from tensorflow.python.ops.array_ops) is deprecated and will be removed in a future version.\n",
      "Instructions for updating:\n",
      "Use tf.where in 2.0, which has the same broadcast rule as np.where\n"
     ]
    }
   ],
   "source": [
    "from keras import models\n",
    "from keras import layers\n",
    "\n",
    "original_model = models.Sequential()\n",
    "original_model.add(layers.Dense(16, activation='relu', input_shape=(10000,)))\n",
    "original_model.add(layers.Dense(16, activation='relu'))\n",
    "original_model.add(layers.Dense(1, activation='sigmoid'))\n",
    "\n",
    "original_model.compile(optimizer='rmsprop',\n",
    "                       loss='binary_crossentropy',\n",
    "                       metrics=['acc'])"
   ]
  },
  {
   "cell_type": "code",
   "execution_count": 4,
   "metadata": {
    "colab": {
     "base_uri": "https://localhost:8080/"
    },
    "executionInfo": {
     "elapsed": 30350,
     "status": "ok",
     "timestamp": 1657337200472,
     "user": {
      "displayName": "Hai Anh Tran",
      "userId": "00908073918557963233"
     },
     "user_tz": -420
    },
    "id": "30NO0IGPlHv7",
    "outputId": "830a948a-6783-4d30-c897-91fc86e1c143"
   },
   "outputs": [
    {
     "name": "stdout",
     "output_type": "stream",
     "text": [
      "WARNING:tensorflow:From c:\\Users\\Msi\\anaconda3\\envs\\Tank\\lib\\site-packages\\keras\\backend\\tensorflow_backend.py:1033: The name tf.assign_add is deprecated. Please use tf.compat.v1.assign_add instead.\n",
      "\n",
      "Train on 25000 samples, validate on 25000 samples\n",
      "Epoch 1/20\n",
      "25000/25000 [==============================] - 7s 271us/step - loss: 0.4688 - acc: 0.8186 - val_loss: 0.3519 - val_acc: 0.8775\n",
      "Epoch 2/20\n",
      "25000/25000 [==============================] - 3s 104us/step - loss: 0.2725 - acc: 0.9052 - val_loss: 0.2881 - val_acc: 0.8896\n",
      "Epoch 3/20\n",
      "25000/25000 [==============================] - 3s 102us/step - loss: 0.2084 - acc: 0.9259 - val_loss: 0.2852 - val_acc: 0.8862\n",
      "Epoch 4/20\n",
      "25000/25000 [==============================] - 3s 101us/step - loss: 0.1732 - acc: 0.9383 - val_loss: 0.2886 - val_acc: 0.8860\n",
      "Epoch 5/20\n",
      "25000/25000 [==============================] - 2s 97us/step - loss: 0.1493 - acc: 0.9475 - val_loss: 0.3067 - val_acc: 0.8814\n",
      "Epoch 6/20\n",
      "25000/25000 [==============================] - 2s 99us/step - loss: 0.1314 - acc: 0.9552 - val_loss: 0.3299 - val_acc: 0.8774\n",
      "Epoch 7/20\n",
      "25000/25000 [==============================] - 3s 103us/step - loss: 0.1168 - acc: 0.9602 - val_loss: 0.3497 - val_acc: 0.8728\n",
      "Epoch 8/20\n",
      "25000/25000 [==============================] - 3s 102us/step - loss: 0.1062 - acc: 0.9645 - val_loss: 0.4069 - val_acc: 0.8625\n",
      "Epoch 9/20\n",
      "25000/25000 [==============================] - 3s 102us/step - loss: 0.0952 - acc: 0.9674 - val_loss: 0.3968 - val_acc: 0.8695\n",
      "Epoch 10/20\n",
      "25000/25000 [==============================] - 3s 104us/step - loss: 0.0842 - acc: 0.9726 - val_loss: 0.4614 - val_acc: 0.8577\n",
      "Epoch 11/20\n",
      "25000/25000 [==============================] - 3s 102us/step - loss: 0.0769 - acc: 0.9746 - val_loss: 0.4670 - val_acc: 0.8605\n",
      "Epoch 12/20\n",
      "25000/25000 [==============================] - 3s 103us/step - loss: 0.0686 - acc: 0.9776 - val_loss: 0.5132 - val_acc: 0.8563\n",
      "Epoch 13/20\n",
      "25000/25000 [==============================] - 3s 119us/step - loss: 0.0606 - acc: 0.9805 - val_loss: 0.5162 - val_acc: 0.8582\n",
      "Epoch 14/20\n",
      "25000/25000 [==============================] - 3s 116us/step - loss: 0.0550 - acc: 0.9830 - val_loss: 0.5457 - val_acc: 0.8577\n",
      "Epoch 15/20\n",
      "25000/25000 [==============================] - 3s 125us/step - loss: 0.0467 - acc: 0.9866 - val_loss: 0.6527 - val_acc: 0.8472\n",
      "Epoch 16/20\n",
      "25000/25000 [==============================] - 3s 132us/step - loss: 0.0419 - acc: 0.9876 - val_loss: 0.6214 - val_acc: 0.8532\n",
      "Epoch 17/20\n",
      "25000/25000 [==============================] - 3s 113us/step - loss: 0.0379 - acc: 0.9888 - val_loss: 0.6531 - val_acc: 0.8532\n",
      "Epoch 18/20\n",
      "25000/25000 [==============================] - 3s 111us/step - loss: 0.0347 - acc: 0.9896 - val_loss: 0.6957 - val_acc: 0.8502\n",
      "Epoch 19/20\n",
      "25000/25000 [==============================] - 3s 112us/step - loss: 0.0274 - acc: 0.9930 - val_loss: 0.7506 - val_acc: 0.8480 loss: 0.0235 - ac\n",
      "Epoch 20/20\n",
      "25000/25000 [==============================] - 3s 109us/step - loss: 0.0266 - acc: 0.9926 - val_loss: 0.7741 - val_acc: 0.8489\n"
     ]
    }
   ],
   "source": [
    "original_hist = original_model.fit(x_train, y_train,\n",
    "                                   epochs=20,\n",
    "                                   batch_size=512,\n",
    "                                   validation_data=(x_test, y_test))"
   ]
  },
  {
   "cell_type": "markdown",
   "metadata": {
    "id": "Zgw-fVRRj83M"
   },
   "source": [
    "## Fighting overfitting"
   ]
  },
  {
   "cell_type": "markdown",
   "metadata": {
    "id": "PC8MFAlukJyW"
   },
   "source": [
    "### Reducing the network's size"
   ]
  },
  {
   "cell_type": "markdown",
   "metadata": {
    "id": "iiSr_kbEkhy3"
   },
   "source": [
    "Cách đơn giản nhất để ngăn chặn việc overfitting là giảm kích thước của mô hình, tức là số lượng các tham số có thể học được trong mô hình (được xác định bởi số lớp và số đơn vị trên mỗi lớp). Trong học sâu, số lượng các tham số có thể học được trong một mô hình thường được gọi là \"khả năng\" của mô hình. Một cách trực quan, một mô hình có nhiều tham số hơn sẽ có nhiều \"khả năng ghi nhớ\" hơn và do đó sẽ có thể dễ dàng học một ánh xạ hoàn hảo giống như từ điển giữa các mẫu huấn luyện và mục tiêu của chúng, một ánh xạ mà không có bất kỳ sức mạnh tổng quát hóa nào. Ví dụ, một mô hình với 500.000 tham số nhị phân có thể dễ dàng được thực hiện để học lớp của mọi chữ số trong tập huấn luyện MNIST: chúng ta chỉ cần 10 tham số nhị phân cho mỗi tham số trong 50.000 chữ số. Một mô hình như vậy sẽ vô dụng cho việc phân loại các mẫu chữ số mới. Luôn ghi nhớ điều này: các mô hình học sâu có xu hướng phù hợp tốt với dữ liệu đào tạo, nhưng thách thức thực sự là tổng quát hóa chứ không phải phù hợp.\n",
    "\n",
    "Mặt khác, nếu mạng có tài nguyên ghi nhớ hạn chế, nó sẽ không thể học ánh xạ này một cách dễ dàng, và do đó, để giảm thiểu sự mất mát của nó, nó sẽ phải sử dụng đến việc học các biểu diễn nén có khả năng dự đoán liên quan đến mục tiêu - chính xác là loại biểu diễn mà chúng tôi quan tâm. Đồng thời, hãy nhớ rằng bạn nên sử dụng các mô hình có đủ thông số mà chúng sẽ không phù hợp: mô hình của bạn không nên bỏ đói các tài nguyên ghi nhớ . Có một sự thỏa hiệp được tìm thấy giữa \"quá nhiều công suất\" và \"không đủ năng lực\".\n",
    "\n",
    "Thật không may, không có công thức kỳ diệu nào để xác định số lượng lớp phù hợp hoặc kích thước phù hợp cho mỗi lớp là bao nhiêu. Bạn sẽ phải đánh giá một loạt các kiến ​​trúc khác nhau (tất nhiên là trên bộ xác thực của bạn, không phải trên bộ thử nghiệm của bạn) để tìm ra kích thước mô hình phù hợp cho dữ liệu của bạn. Quy trình chung để tìm kích thước mô hình thích hợp là bắt đầu với tương đối ít lớp và tham số, đồng thời bắt đầu tăng kích thước của các lớp hoặc thêm các lớp mới cho đến khi bạn thấy lợi nhuận giảm dần liên quan đến việc mất xác thực.\n",
    "\n",
    "Hãy thử điều này trên mạng phân loại đánh giá phim của chúng tôi. Mạng ban đầu của chúng tôi là như vậy:"
   ]
  },
  {
   "cell_type": "markdown",
   "metadata": {
    "id": "7fUOERz0lFz2"
   },
   "source": [
    "Bây giờ chúng ta hãy thử thay thế nó bằng mạng nhỏ hơn này:"
   ]
  },
  {
   "cell_type": "code",
   "execution_count": 5,
   "metadata": {
    "executionInfo": {
     "elapsed": 41,
     "status": "ok",
     "timestamp": 1657331313017,
     "user": {
      "displayName": "Hai Anh Tran",
      "userId": "00908073918557963233"
     },
     "user_tz": -420
    },
    "id": "mT-Pya9oj2ot"
   },
   "outputs": [],
   "source": [
    "smaller_model = models.Sequential()\n",
    "smaller_model.add(layers.Dense(4, activation='relu', input_shape=(10000,)))\n",
    "smaller_model.add(layers.Dense(4, activation='relu'))\n",
    "smaller_model.add(layers.Dense(1, activation='sigmoid'))\n",
    "\n",
    "smaller_model.compile(optimizer='rmsprop',\n",
    "                      loss='binary_crossentropy',\n",
    "                      metrics=['acc'])"
   ]
  },
  {
   "cell_type": "markdown",
   "metadata": {
    "id": "3H_xuNGYl-pl"
   },
   "source": [
    "Dưới đây là so sánh các validation losses của mạng gốc và mạng nhỏ hơn. Các dấu chấm là các giá trị mất xác thực của mạng nhỏ hơn và các dấu chéo là mạng ban đầu (hãy nhớ: mất xác nhận thấp hơn báo hiệu một mô hình tốt hơn)."
   ]
  },
  {
   "cell_type": "code",
   "execution_count": 6,
   "metadata": {
    "colab": {
     "base_uri": "https://localhost:8080/"
    },
    "executionInfo": {
     "elapsed": 42628,
     "status": "ok",
     "timestamp": 1657331387402,
     "user": {
      "displayName": "Hai Anh Tran",
      "userId": "00908073918557963233"
     },
     "user_tz": -420
    },
    "id": "y6ZxzUs4mIcH",
    "outputId": "db5f5162-98d4-4f90-fbeb-a9ba46fb026a"
   },
   "outputs": [
    {
     "name": "stdout",
     "output_type": "stream",
     "text": [
      "Train on 25000 samples, validate on 25000 samples\n",
      "Epoch 1/20\n",
      "25000/25000 [==============================] - 3s 110us/step - loss: 0.5209 - acc: 0.8175 - val_loss: 0.4296 - val_acc: 0.8669\n",
      "Epoch 2/20\n",
      "25000/25000 [==============================] - 3s 102us/step - loss: 0.3463 - acc: 0.8936 - val_loss: 0.3380 - val_acc: 0.8831\n",
      "Epoch 3/20\n",
      "25000/25000 [==============================] - 3s 102us/step - loss: 0.2650 - acc: 0.9129 - val_loss: 0.3004 - val_acc: 0.8881\n",
      "Epoch 4/20\n",
      "25000/25000 [==============================] - 3s 101us/step - loss: 0.2186 - acc: 0.9267 - val_loss: 0.2822 - val_acc: 0.8900\n",
      "Epoch 5/20\n",
      "25000/25000 [==============================] - 3s 101us/step - loss: 0.1894 - acc: 0.9370 - val_loss: 0.2814 - val_acc: 0.8881\n",
      "Epoch 6/20\n",
      "25000/25000 [==============================] - 3s 100us/step - loss: 0.1680 - acc: 0.9441 - val_loss: 0.2835 - val_acc: 0.8888\n",
      "Epoch 7/20\n",
      "25000/25000 [==============================] - 3s 101us/step - loss: 0.1519 - acc: 0.9489 - val_loss: 0.2923 - val_acc: 0.8854\n",
      "Epoch 8/20\n",
      "25000/25000 [==============================] - 3s 105us/step - loss: 0.1378 - acc: 0.9545 - val_loss: 0.3028 - val_acc: 0.8829\n",
      "Epoch 9/20\n",
      "25000/25000 [==============================] - 3s 101us/step - loss: 0.1269 - acc: 0.9582 - val_loss: 0.3137 - val_acc: 0.8801\n",
      "Epoch 10/20\n",
      "25000/25000 [==============================] - 3s 102us/step - loss: 0.1160 - acc: 0.9635 - val_loss: 0.3279 - val_acc: 0.8780\n",
      "Epoch 11/20\n",
      "25000/25000 [==============================] - 3s 103us/step - loss: 0.1074 - acc: 0.9666 - val_loss: 0.3503 - val_acc: 0.8734\n",
      "Epoch 12/20\n",
      "25000/25000 [==============================] - 3s 103us/step - loss: 0.0993 - acc: 0.9693 - val_loss: 0.3616 - val_acc: 0.8733\n",
      "Epoch 13/20\n",
      "25000/25000 [==============================] - 3s 102us/step - loss: 0.0925 - acc: 0.9713 - val_loss: 0.3768 - val_acc: 0.8708\n",
      "Epoch 14/20\n",
      "25000/25000 [==============================] - 3s 102us/step - loss: 0.0857 - acc: 0.9748 - val_loss: 0.3940 - val_acc: 0.8702\n",
      "Epoch 15/20\n",
      "25000/25000 [==============================] - 3s 102us/step - loss: 0.0798 - acc: 0.9761 - val_loss: 0.4149 - val_acc: 0.8678\n",
      "Epoch 16/20\n",
      "25000/25000 [==============================] - 3s 102us/step - loss: 0.0741 - acc: 0.9793 - val_loss: 0.4377 - val_acc: 0.8622\n",
      "Epoch 17/20\n",
      "25000/25000 [==============================] - 3s 102us/step - loss: 0.0695 - acc: 0.9799 - val_loss: 0.4508 - val_acc: 0.8630\n",
      "Epoch 18/20\n",
      "25000/25000 [==============================] - 3s 103us/step - loss: 0.0647 - acc: 0.9824 - val_loss: 0.4709 - val_acc: 0.8605\n",
      "Epoch 19/20\n",
      "25000/25000 [==============================] - 3s 103us/step - loss: 0.0602 - acc: 0.9839 - val_loss: 0.4995 - val_acc: 0.8568\n",
      "Epoch 20/20\n",
      "25000/25000 [==============================] - 3s 112us/step - loss: 0.0553 - acc: 0.9856 - val_loss: 0.5113 - val_acc: 0.8587\n"
     ]
    }
   ],
   "source": [
    "smaller_model_hist = smaller_model.fit(x_train, y_train,\n",
    "                                       epochs=20,\n",
    "                                       batch_size=512,\n",
    "                                       validation_data=(x_test, y_test))"
   ]
  },
  {
   "cell_type": "code",
   "execution_count": 7,
   "metadata": {
    "executionInfo": {
     "elapsed": 47,
     "status": "ok",
     "timestamp": 1657331387403,
     "user": {
      "displayName": "Hai Anh Tran",
      "userId": "00908073918557963233"
     },
     "user_tz": -420
    },
    "id": "kkO_u-K0mMw5"
   },
   "outputs": [],
   "source": [
    "epochs = range(1, 21)\n",
    "original_val_loss = original_hist.history['val_loss']\n",
    "smaller_model_val_loss = smaller_model_hist.history['val_loss']"
   ]
  },
  {
   "cell_type": "code",
   "execution_count": 9,
   "metadata": {
    "colab": {
     "base_uri": "https://localhost:8080/",
     "height": 279
    },
    "executionInfo": {
     "elapsed": 45,
     "status": "ok",
     "timestamp": 1657331387405,
     "user": {
      "displayName": "Hai Anh Tran",
      "userId": "00908073918557963233"
     },
     "user_tz": -420
    },
    "id": "6vcIRnnEmdkV",
    "outputId": "7c22641a-8da5-4dd6-a8b3-28efdf175501"
   },
   "outputs": [
    {
     "data": {
      "image/png": "[encoded data removed]",
      "text/plain": [
       "<Figure size 432x288 with 1 Axes>"
      ]
     },
     "metadata": {
      "needs_background": "light"
     },
     "output_type": "display_data"
    }
   ],
   "source": [
    "import matplotlib.pyplot as plt\n",
    "\n",
    "# b+ is for \"blue cross\"\n",
    "plt.plot(epochs, original_val_loss, 'b+', label='Val Result Original model')\n",
    "# \"bo\" is for \"blue dot\"\n",
    "plt.plot(epochs, smaller_model_val_loss, 'bo', label='Val Result Smaller model')\n",
    "plt.xlabel('Epochs')\n",
    "plt.ylabel('Validation loss')\n",
    "plt.legend()\n",
    "\n",
    "plt.show()"
   ]
  },
  {
   "cell_type": "markdown",
   "metadata": {
    "id": "aqrN0tdHqfVm"
   },
   "source": [
    "Như bạn có thể thấy, mạng nhỏ hơn bắt đầu gặp overfiting muộn hơn mạng tham chiếu (sau 6 epochs thay vì 4 epochs) và performance của nó giảm chậm hơn nhiều khi nó bắt đầu bị overfiting."
   ]
  },
  {
   "cell_type": "code",
   "execution_count": 10,
   "metadata": {
    "colab": {
     "base_uri": "https://localhost:8080/",
     "height": 279
    },
    "executionInfo": {
     "elapsed": 854,
     "status": "ok",
     "timestamp": 1657331388247,
     "user": {
      "displayName": "Hai Anh Tran",
      "userId": "00908073918557963233"
     },
     "user_tz": -420
    },
    "id": "s9AEL1PVqjgF",
    "outputId": "252943bc-fc03-4032-f7cc-18d9fd3c7ba3"
   },
   "outputs": [
    {
     "data": {
      "image/png": "[encoded data removed]",
      "text/plain": [
       "<Figure size 432x288 with 1 Axes>"
      ]
     },
     "metadata": {
      "needs_background": "light"
     },
     "output_type": "display_data"
    }
   ],
   "source": [
    "original_train_loss = original_hist.history['loss']\n",
    "small_model_train_loss = smaller_model_hist.history['loss']\n",
    "\n",
    "plt.plot(epochs, original_train_loss, 'b+', label='Train Result Original model')\n",
    "plt.plot(epochs, small_model_train_loss, 'bo', label='Train Result Bigger model')\n",
    "plt.xlabel('Epochs')\n",
    "plt.ylabel('Training loss')\n",
    "plt.legend()\n",
    "\n",
    "plt.show()"
   ]
  },
  {
   "cell_type": "markdown",
   "metadata": {
    "id": "UyjEwv7WmwCx"
   },
   "source": [
    "Bây giờ, để bắt đầu, hãy thêm vào điểm chuẩn này một mạng có dung lượng lớn hơn nhiều so với vấn đề sẽ đảm bảo:"
   ]
  },
  {
   "cell_type": "code",
   "execution_count": 11,
   "metadata": {
    "executionInfo": {
     "elapsed": 26,
     "status": "ok",
     "timestamp": 1657331388249,
     "user": {
      "displayName": "Hai Anh Tran",
      "userId": "00908073918557963233"
     },
     "user_tz": -420
    },
    "id": "zeUJ5XIUmfIq"
   },
   "outputs": [],
   "source": [
    "bigger_model = models.Sequential()\n",
    "bigger_model.add(layers.Dense(512, activation='relu', input_shape=(10000,)))\n",
    "bigger_model.add(layers.Dense(512, activation='relu'))\n",
    "bigger_model.add(layers.Dense(1, activation='sigmoid'))\n",
    "\n",
    "bigger_model.compile(optimizer='rmsprop',\n",
    "                     loss='binary_crossentropy',\n",
    "                     metrics=['acc'])"
   ]
  },
  {
   "cell_type": "code",
   "execution_count": 12,
   "metadata": {
    "colab": {
     "base_uri": "https://localhost:8080/"
    },
    "executionInfo": {
     "elapsed": 43026,
     "status": "ok",
     "timestamp": 1657331431251,
     "user": {
      "displayName": "Hai Anh Tran",
      "userId": "00908073918557963233"
     },
     "user_tz": -420
    },
    "id": "Ovb3EYConKTD",
    "outputId": "669f862b-8d1c-4d55-8360-fe349b794fec"
   },
   "outputs": [
    {
     "name": "stdout",
     "output_type": "stream",
     "text": [
      "Train on 25000 samples, validate on 25000 samples\n",
      "Epoch 1/20\n",
      "25000/25000 [==============================] - 4s 156us/step - loss: 0.4603 - acc: 0.7865 - val_loss: 0.3931 - val_acc: 0.8205\n",
      "Epoch 2/20\n",
      "25000/25000 [==============================] - 3s 137us/step - loss: 0.2201 - acc: 0.9136 - val_loss: 0.2977 - val_acc: 0.8781\n",
      "Epoch 3/20\n",
      "25000/25000 [==============================] - 3s 129us/step - loss: 0.1384 - acc: 0.9492 - val_loss: 0.3219 - val_acc: 0.8858\n",
      "Epoch 4/20\n",
      "25000/25000 [==============================] - 3s 128us/step - loss: 0.0656 - acc: 0.9816 - val_loss: 0.4180 - val_acc: 0.8812\n",
      "Epoch 5/20\n",
      "25000/25000 [==============================] - 3s 127us/step - loss: 0.0709 - acc: 0.9868 - val_loss: 0.4796 - val_acc: 0.8783\n",
      "Epoch 6/20\n",
      "25000/25000 [==============================] - 3s 127us/step - loss: 0.0793 - acc: 0.9868 - val_loss: 0.4821 - val_acc: 0.8771\n",
      "Epoch 7/20\n",
      "25000/25000 [==============================] - 3s 130us/step - loss: 0.0016 - acc: 1.0000 - val_loss: 0.6312 - val_acc: 0.8800\n",
      "Epoch 8/20\n",
      "25000/25000 [==============================] - 3s 134us/step - loss: 0.0674 - acc: 0.9902 - val_loss: 0.6912 - val_acc: 0.8640\n",
      "Epoch 9/20\n",
      "25000/25000 [==============================] - 4s 144us/step - loss: 0.0420 - acc: 0.9910 - val_loss: 0.5787 - val_acc: 0.8788\n",
      "Epoch 10/20\n",
      "25000/25000 [==============================] - 4s 151us/step - loss: 0.0385 - acc: 0.9925 - val_loss: 0.5892 - val_acc: 0.8779\n",
      "Epoch 11/20\n",
      "25000/25000 [==============================] - 4s 145us/step - loss: 4.4171e-04 - acc: 1.0000 - val_loss: 0.7113 - val_acc: 0.8785\n",
      "Epoch 12/20\n",
      "25000/25000 [==============================] - 4s 173us/step - loss: 0.0758 - acc: 0.9901 - val_loss: 0.8239 - val_acc: 0.8661\n",
      "Epoch 13/20\n",
      "25000/25000 [==============================] - 4s 157us/step - loss: 1.6808e-04 - acc: 1.0000 - val_loss: 0.8054 - val_acc: 0.8760\n",
      "Epoch 14/20\n",
      "25000/25000 [==============================] - 4s 152us/step - loss: 3.1602e-05 - acc: 1.0000 - val_loss: 0.8565 - val_acc: 0.8776\n",
      "Epoch 15/20\n",
      "25000/25000 [==============================] - 4s 147us/step - loss: 0.0535 - acc: 0.9926 - val_loss: 0.7559 - val_acc: 0.8777\n",
      "Epoch 16/20\n",
      "25000/25000 [==============================] - 4s 144us/step - loss: 3.0939e-05 - acc: 1.0000 - val_loss: 0.7960 - val_acc: 0.8798\n",
      "Epoch 17/20\n",
      "25000/25000 [==============================] - 3s 140us/step - loss: 9.3974e-06 - acc: 1.0000 - val_loss: 0.8568 - val_acc: 0.8800\n",
      "Epoch 18/20\n",
      "25000/25000 [==============================] - 3s 140us/step - loss: 2.5929e-06 - acc: 1.0000 - val_loss: 0.9382 - val_acc: 0.8806\n",
      "Epoch 19/20\n",
      "25000/25000 [==============================] - 3s 140us/step - loss: 6.1160e-07 - acc: 1.0000 - val_loss: 0.9935 - val_acc: 0.8794\n",
      "Epoch 20/20\n",
      "25000/25000 [==============================] - 4s 142us/step - loss: 1.9048e-07 - acc: 1.0000 - val_loss: 1.0511 - val_acc: 0.8799\n"
     ]
    }
   ],
   "source": [
    "bigger_model_hist = bigger_model.fit(x_train, y_train,\n",
    "                                     epochs=20,\n",
    "                                     batch_size=512,\n",
    "                                     validation_data=(x_test, y_test))"
   ]
  },
  {
   "cell_type": "code",
   "execution_count": 13,
   "metadata": {
    "colab": {
     "base_uri": "https://localhost:8080/",
     "height": 279
    },
    "executionInfo": {
     "elapsed": 66,
     "status": "ok",
     "timestamp": 1657331431253,
     "user": {
      "displayName": "Hai Anh Tran",
      "userId": "00908073918557963233"
     },
     "user_tz": -420
    },
    "id": "HApQC_ZqnLvS",
    "outputId": "7e87d004-51cd-48fb-e591-2d71f58bac1c"
   },
   "outputs": [
    {
     "data": {
      "image/png": "[encoded data removed]",
      "text/plain": [
       "<Figure size 432x288 with 1 Axes>"
      ]
     },
     "metadata": {
      "needs_background": "light"
     },
     "output_type": "display_data"
    }
   ],
   "source": [
    "bigger_model_val_loss = bigger_model_hist.history['val_loss']\n",
    "\n",
    "plt.plot(epochs, original_val_loss, 'b+', label='Val Result Original model')\n",
    "plt.plot(epochs, bigger_model_val_loss, 'bo', label='Val Result Bigger model')\n",
    "plt.xlabel('Epochs')\n",
    "plt.ylabel('Validation loss')\n",
    "plt.legend()\n",
    "\n",
    "plt.show()"
   ]
  },
  {
   "cell_type": "markdown",
   "metadata": {
    "id": "GVzCKxx-n7Uv"
   },
   "source": [
    "Mạng lớn hơn bắt đầu bị overfiting và gần như ngay lập tức, chỉ sau một epoch và overfiting nghiêm trọng hơn nhiều. Và validation loss cũng nhiễu hơn.\n",
    "\n",
    "Trong khi đó, đây là training losse cho hai mô hình của chúng ta:"
   ]
  },
  {
   "cell_type": "code",
   "execution_count": 14,
   "metadata": {
    "colab": {
     "base_uri": "https://localhost:8080/",
     "height": 279
    },
    "executionInfo": {
     "elapsed": 60,
     "status": "ok",
     "timestamp": 1657331431254,
     "user": {
      "displayName": "Hai Anh Tran",
      "userId": "00908073918557963233"
     },
     "user_tz": -420
    },
    "id": "0DXbQIWunwY6",
    "outputId": "dada8168-24bc-497a-9b36-bd66197b94e9"
   },
   "outputs": [
    {
     "data": {
      "image/png": "[encoded data removed]",
      "text/plain": [
       "<Figure size 432x288 with 1 Axes>"
      ]
     },
     "metadata": {
      "needs_background": "light"
     },
     "output_type": "display_data"
    }
   ],
   "source": [
    "original_train_loss = original_hist.history['loss']\n",
    "bigger_model_train_loss = bigger_model_hist.history['loss']\n",
    "\n",
    "plt.plot(epochs, original_train_loss, 'b+', label='Train Result Original model')\n",
    "plt.plot(epochs, bigger_model_train_loss, 'bo', label='Train Result Bigger model')\n",
    "plt.xlabel('Epochs')\n",
    "plt.ylabel('Training loss')\n",
    "plt.legend()\n",
    "\n",
    "plt.show()"
   ]
  },
  {
   "cell_type": "markdown",
   "metadata": {
    "id": "FzhYQSWWrLVz"
   },
   "source": [
    "Như bạn có thể thấy, mạng lớn hơn có training loss gần bằng 0 rất nhanh chóng. Mạng càng có nhiều dung lượng, nó sẽ có thể mô hình hóa dữ liệu đào tạo càng nhanh (dẫn đến training loss thấp), nhưng nó càng dễ bị overfiting (dẫn đến chênh lệch lớn giữa việc đào tạo và validation loss)."
   ]
  },
  {
   "cell_type": "markdown",
   "metadata": {
    "id": "RHh_DfoRr4-F"
   },
   "source": [
    "### Adding weight regularization"
   ]
  },
  {
   "cell_type": "markdown",
   "metadata": {
    "id": "Yy95v8aJsY6n"
   },
   "source": [
    "Một \"mô hình đơn giản\" trong ngữ cảnh này là một mô hình mà sự phân bố của các giá trị tham số có ít entropy hơn (hoặc một mô hình có ít tham số hơn hoàn toàn, như chúng ta đã thấy trong phần trên). Do đó, một cách phổ biến để giảm thiểu việc trang bị quá mức là đặt các hạn chế về độ phức tạp của mạng bằng cách buộc các trọng số của nó chỉ nhận các giá trị nhỏ, điều này làm cho việc phân phối các giá trị trọng số trở nên \"đều đặn\" hơn. Điều này được gọi là \"điều chỉnh trọng lượng\", và nó được thực hiện bằng cách thêm vào chức năng tổn thất của mạng một chi phí liên quan đến việc có các trọng số lớn. Chi phí này có hai loại:\n",
    "\n",
    "\n",
    "\n",
    "*   Chính quy hóa L1, trong đó chi phí tăng thêm tỷ lệ với giá trị tuyệt đối của các hệ số trọng số (tức là cái được gọi là \"định mức L1\" của các trọng số).\n",
    "*   Chính quy hóa L2, trong đó chi phí tăng thêm tỷ lệ với bình phương giá trị của các hệ số trọng số (tức là cái được gọi là \"định mức L2\" của các trọng số). Sự chính quy hóa L2 còn được gọi là sự phân rã trọng lượng trong ngữ cảnh của mạng nơ-ron. Đừng để cái tên khác khiến bạn nhầm lẫn: sự phân rã trọng lượng về mặt toán học giống hệt như sự chính quy hóa L2.\n",
    "\n",
    "\n",
    "Trong Keras, điều chỉnh trọng số được thêm vào bằng cách chuyển các thể hiện của bộ điều chỉnh trọng số cho các lớp dưới dạng đối số từ khóa. Hãy thêm quy định trọng lượng L2 vào mạng phân loại đánh giá phim của chúng tôi:"
   ]
  },
  {
   "cell_type": "code",
   "execution_count": 15,
   "metadata": {
    "executionInfo": {
     "elapsed": 58,
     "status": "ok",
     "timestamp": 1657331431256,
     "user": {
      "displayName": "Hai Anh Tran",
      "userId": "00908073918557963233"
     },
     "user_tz": -420
    },
    "id": "-Wg9zUG0sIDy"
   },
   "outputs": [],
   "source": [
    "from keras import regularizers\n",
    "\n",
    "l2_model = models.Sequential()\n",
    "l2_model.add(layers.Dense(16, kernel_regularizer=regularizers.l2(0.001),\n",
    "                          activation='relu', input_shape=(10000,)))\n",
    "l2_model.add(layers.Dense(16, kernel_regularizer=regularizers.l2(0.001),\n",
    "                          activation='relu'))\n",
    "l2_model.add(layers.Dense(1, activation='sigmoid'))"
   ]
  },
  {
   "cell_type": "code",
   "execution_count": 16,
   "metadata": {
    "executionInfo": {
     "elapsed": 58,
     "status": "ok",
     "timestamp": 1657331431257,
     "user": {
      "displayName": "Hai Anh Tran",
      "userId": "00908073918557963233"
     },
     "user_tz": -420
    },
    "id": "e7Sv6AcysIb5"
   },
   "outputs": [],
   "source": [
    "l2_model.compile(optimizer='rmsprop',\n",
    "                 loss='binary_crossentropy',\n",
    "                 metrics=['acc'])"
   ]
  },
  {
   "cell_type": "markdown",
   "metadata": {
    "id": "93_56Mtfsph8"
   },
   "source": [
    "l2 (0,001) có nghĩa là mọi hệ số trong ma trận trọng số của lớp sẽ thêm 0,001 * hệ số trọng lượng_giá trị vào tổng tổn thất của mạng. Lưu ý rằng vì hình phạt này chỉ được bổ sung vào thời điểm đào tạo, tổn thất cho mạng này khi đào tạo sẽ cao hơn nhiều so với thời điểm kiểm tra.\n",
    "\n",
    "Đây là tác động của hình phạt chính quy L2:"
   ]
  },
  {
   "cell_type": "code",
   "execution_count": 17,
   "metadata": {
    "colab": {
     "base_uri": "https://localhost:8080/"
    },
    "executionInfo": {
     "elapsed": 42764,
     "status": "ok",
     "timestamp": 1657331473965,
     "user": {
      "displayName": "Hai Anh Tran",
      "userId": "00908073918557963233"
     },
     "user_tz": -420
    },
    "id": "ja8dhrYBsKHk",
    "outputId": "7de2fd01-7983-4073-e7d6-a6f88fc3afa8"
   },
   "outputs": [
    {
     "name": "stdout",
     "output_type": "stream",
     "text": [
      "Train on 25000 samples, validate on 25000 samples\n",
      "Epoch 1/20\n",
      "25000/25000 [==============================] - 3s 122us/step - loss: 0.4697 - acc: 0.8358 - val_loss: 0.3840 - val_acc: 0.8698\n",
      "Epoch 2/20\n",
      "25000/25000 [==============================] - 3s 106us/step - loss: 0.3059 - acc: 0.9055 - val_loss: 0.3442 - val_acc: 0.8823\n",
      "Epoch 3/20\n",
      "25000/25000 [==============================] - 3s 111us/step - loss: 0.2690 - acc: 0.9206 - val_loss: 0.3370 - val_acc: 0.8831\n",
      "Epoch 4/20\n",
      "25000/25000 [==============================] - 3s 106us/step - loss: 0.2470 - acc: 0.9292 - val_loss: 0.3347 - val_acc: 0.88760s - loss: 0.2459 - acc: 0.92\n",
      "Epoch 5/20\n",
      "25000/25000 [==============================] - 3s 115us/step - loss: 0.2375 - acc: 0.9330 - val_loss: 0.3424 - val_acc: 0.8834\n",
      "Epoch 6/20\n",
      "25000/25000 [==============================] - 3s 121us/step - loss: 0.2257 - acc: 0.9382 - val_loss: 0.3555 - val_acc: 0.8794\n",
      "Epoch 7/20\n",
      "25000/25000 [==============================] - 3s 116us/step - loss: 0.2210 - acc: 0.9401 - val_loss: 0.3554 - val_acc: 0.8801\n",
      "Epoch 8/20\n",
      "25000/25000 [==============================] - 3s 113us/step - loss: 0.2198 - acc: 0.9396 - val_loss: 0.3637 - val_acc: 0.8777\n",
      "Epoch 9/20\n",
      "25000/25000 [==============================] - 3s 116us/step - loss: 0.2141 - acc: 0.9412 - val_loss: 0.3994 - val_acc: 0.8670\n",
      "Epoch 10/20\n",
      "25000/25000 [==============================] - 3s 113us/step - loss: 0.2066 - acc: 0.9449 - val_loss: 0.4098 - val_acc: 0.8633\n",
      "Epoch 11/20\n",
      "25000/25000 [==============================] - 3s 117us/step - loss: 0.2085 - acc: 0.9432 - val_loss: 0.3802 - val_acc: 0.8749\n",
      "Epoch 12/20\n",
      "25000/25000 [==============================] - 3s 125us/step - loss: 0.2024 - acc: 0.9486 - val_loss: 0.4109 - val_acc: 0.8655\n",
      "Epoch 13/20\n",
      "25000/25000 [==============================] - 3s 122us/step - loss: 0.1987 - acc: 0.9488 - val_loss: 0.3917 - val_acc: 0.8732\n",
      "Epoch 14/20\n",
      "25000/25000 [==============================] - 3s 115us/step - loss: 0.1976 - acc: 0.9472 - val_loss: 0.4977 - val_acc: 0.8399\n",
      "Epoch 15/20\n",
      "25000/25000 [==============================] - 3s 117us/step - loss: 0.1954 - acc: 0.9504 - val_loss: 0.4049 - val_acc: 0.8706\n",
      "Epoch 16/20\n",
      "25000/25000 [==============================] - 3s 113us/step - loss: 0.1939 - acc: 0.9494 - val_loss: 0.4191 - val_acc: 0.8691\n",
      "Epoch 17/20\n",
      "25000/25000 [==============================] - 3s 113us/step - loss: 0.1909 - acc: 0.9518 - val_loss: 0.4108 - val_acc: 0.8694\n",
      "Epoch 18/20\n",
      "25000/25000 [==============================] - 3s 113us/step - loss: 0.1872 - acc: 0.9530 - val_loss: 0.4338 - val_acc: 0.8633\n",
      "Epoch 19/20\n",
      "25000/25000 [==============================] - 3s 114us/step - loss: 0.1855 - acc: 0.9536 - val_loss: 0.4191 - val_acc: 0.8683\n",
      "Epoch 20/20\n",
      "25000/25000 [==============================] - 3s 114us/step - loss: 0.1854 - acc: 0.9532 - val_loss: 0.4272 - val_acc: 0.8666\n"
     ]
    }
   ],
   "source": [
    "l2_model_hist = l2_model.fit(x_train, y_train,\n",
    "                             epochs=20,\n",
    "                             batch_size=512,\n",
    "                             validation_data=(x_test, y_test))"
   ]
  },
  {
   "cell_type": "code",
   "execution_count": 18,
   "metadata": {
    "colab": {
     "base_uri": "https://localhost:8080/",
     "height": 279
    },
    "executionInfo": {
     "elapsed": 28,
     "status": "ok",
     "timestamp": 1657331473966,
     "user": {
      "displayName": "Hai Anh Tran",
      "userId": "00908073918557963233"
     },
     "user_tz": -420
    },
    "id": "y_SU4OGAsu5E",
    "outputId": "9a23cf80-4d12-4c57-dbc8-28929ebf6134"
   },
   "outputs": [
    {
     "data": {
      "image/png": "[encoded data removed]",
      "text/plain": [
       "<Figure size 432x288 with 1 Axes>"
      ]
     },
     "metadata": {
      "needs_background": "light"
     },
     "output_type": "display_data"
    }
   ],
   "source": [
    "l2_model_val_loss = l2_model_hist.history['val_loss']\n",
    "\n",
    "plt.plot(epochs, original_val_loss, 'b+', label='Original model')\n",
    "plt.plot(epochs, l2_model_val_loss, 'bo', label='L2-regularized model')\n",
    "plt.xlabel('Epochs')\n",
    "plt.ylabel('Validation loss')\n",
    "plt.legend()\n",
    "\n",
    "plt.show()"
   ]
  },
  {
   "cell_type": "markdown",
   "metadata": {
    "id": "pVOaPUo8s1Lp"
   },
   "source": [
    "Như bạn có thể thấy, mô hình với sự điều hòa L2 (dấu chấm) đã trở nên chống lại việc trang bị quá nhiều hơn so với mô hình tham chiếu (chữ thập), mặc dù cả hai mô hình đều có cùng số lượng tham số.\n",
    "\n",
    "Là các lựa chọn thay thế cho quá trình điều chỉnh L2, bạn có thể sử dụng một trong các bộ điều chỉnh trọng lượng Keras sau:"
   ]
  },
  {
   "cell_type": "code",
   "execution_count": 19,
   "metadata": {
    "colab": {
     "base_uri": "https://localhost:8080/"
    },
    "executionInfo": {
     "elapsed": 23,
     "status": "ok",
     "timestamp": 1657331473967,
     "user": {
      "displayName": "Hai Anh Tran",
      "userId": "00908073918557963233"
     },
     "user_tz": -420
    },
    "id": "Y_knVM0us0QU",
    "outputId": "bb1359d1-0cfd-425a-a0ff-1a45a7c95c55"
   },
   "outputs": [
    {
     "data": {
      "text/plain": [
       "<keras.regularizers.L1L2 at 0x15d276a0c88>"
      ]
     },
     "execution_count": 19,
     "metadata": {},
     "output_type": "execute_result"
    }
   ],
   "source": [
    "from keras import regularizers\n",
    "\n",
    "# L1 regularization\n",
    "regularizers.l1(0.001)\n",
    "\n",
    "# L1 and L2 regularization at the same time\n",
    "regularizers.l1_l2(l1=0.001, l2=0.001)"
   ]
  },
  {
   "cell_type": "markdown",
   "metadata": {
    "id": "zXqV3FLEs8IU"
   },
   "source": [
    "### Adding dropout\n",
    "\n",
    "Bỏ học là một trong những kỹ thuật chính quy hóa hiệu quả nhất và được sử dụng phổ biến nhất cho mạng nơ-ron, được phát triển bởi Hinton và các sinh viên của ông tại Đại học Toronto. Bỏ học, áp dụng cho một lớp, bao gồm \"bỏ học\" ngẫu nhiên (tức là đặt thành 0) một số tính năng đầu ra của lớp trong quá trình đào tạo. Giả sử một lớp nhất định thông thường sẽ trả về một vectơ [0,2, 0,5, 1,3, 0,8, 1,1] cho một mẫu đầu vào nhất định trong quá trình đào tạo; sau khi áp dụng tính năng bỏ qua, vectơ này sẽ có một vài mục không phân phối ngẫu nhiên, ví dụ: [0, 0,5, 1,3, 0, 1,1]. \"Tỷ lệ bỏ học\" là phần nhỏ của các đối tượng địa lý đang bị loại bỏ; nó thường được đặt trong khoảng từ 0,2 đến 0,5. Tại thời điểm kiểm tra, không có đơn vị nào bị bỏ đi, và thay vào đó, giá trị đầu ra của lớp được thu nhỏ theo hệ số bằng với tỷ lệ bỏ học, để cân bằng thực tế là nhiều đơn vị đang hoạt động hơn so với thời điểm đào tạo."
   ]
  },
  {
   "cell_type": "markdown",
   "metadata": {
    "id": "04PszrTuwhJ7"
   },
   "source": [
    "Kỹ thuật này có vẻ kỳ lạ và tùy tiện. Tại sao điều này sẽ giúp giảm việc mặc quá nhiều? Geoff Hinton đã nói rằng anh ấy được truyền cảm hứng, cùng với những điều khác, bởi một cơ chế ngăn chặn gian lận được các ngân hàng sử dụng - theo cách nói của riêng anh ấy: \"Tôi đã đến ngân hàng của mình. Các giao dịch viên liên tục thay đổi và tôi hỏi một trong số họ tại sao. Anh ấy nói rằng anh ấy không biết nhưng họ đã di chuyển xung quanh rất nhiều. Tôi nghĩ rằng đó phải là vì nó cần sự hợp tác giữa các nhân viên để lừa đảo ngân hàng thành công. Điều này khiến tôi nhận ra rằng việc loại bỏ ngẫu nhiên một tập hợp con tế bào thần kinh khác nhau trên mỗi ví dụ sẽ ngăn chặn âm mưu và do đó giảm trang phục quá mức ”.\n",
    "\n",
    "Ý tưởng cốt lõi là việc đưa nhiễu vào các giá trị đầu ra của một lớp có thể phá vỡ các mẫu ngẫu nhiên không đáng kể (những gì Hinton gọi là \"âm mưu\"), mà mạng sẽ bắt đầu ghi nhớ nếu không có nhiễu.\n",
    "\n",
    "Trong Keras, bạn có thể giới thiệu tính năng bỏ qua trong mạng thông qua lớp Bỏ qua, lớp này được áp dụng cho đầu ra của lớp ngay trước nó, ví dụ:\n",
    "\n",
    "\n",
    "\n",
    "```\n",
    "model.add(layers.Dropout(0.5))\n",
    "```\n",
    "\n",
    "Hãy thêm hai lớp Dropout trong mạng IMDB của chúng tôi để xem chúng hoạt động như thế nào trong việc giảm trang bị quá mức:\n"
   ]
  },
  {
   "cell_type": "code",
   "execution_count": 20,
   "metadata": {
    "executionInfo": {
     "elapsed": 19,
     "status": "ok",
     "timestamp": 1657331473968,
     "user": {
      "displayName": "Hai Anh Tran",
      "userId": "00908073918557963233"
     },
     "user_tz": -420
    },
    "id": "OaQqc-zPwB5n"
   },
   "outputs": [
    {
     "name": "stdout",
     "output_type": "stream",
     "text": [
      "WARNING:tensorflow:From c:\\Users\\Msi\\anaconda3\\envs\\Tank\\lib\\site-packages\\keras\\backend\\tensorflow_backend.py:3733: calling dropout (from tensorflow.python.ops.nn_ops) with keep_prob is deprecated and will be removed in a future version.\n",
      "Instructions for updating:\n",
      "Please use `rate` instead of `keep_prob`. Rate should be set to `rate = 1 - keep_prob`.\n"
     ]
    }
   ],
   "source": [
    "dpt_model = models.Sequential()\n",
    "dpt_model.add(layers.Dense(16, activation='relu', input_shape=(10000,)))\n",
    "dpt_model.add(layers.Dropout(0.5))\n",
    "dpt_model.add(layers.Dense(16, activation='relu'))\n",
    "dpt_model.add(layers.Dropout(0.5))\n",
    "dpt_model.add(layers.Dense(1, activation='sigmoid'))\n",
    "\n",
    "dpt_model.compile(optimizer='rmsprop',\n",
    "                  loss='binary_crossentropy',\n",
    "                  metrics=['acc'])"
   ]
  },
  {
   "cell_type": "code",
   "execution_count": 21,
   "metadata": {
    "colab": {
     "base_uri": "https://localhost:8080/"
    },
    "executionInfo": {
     "elapsed": 26928,
     "status": "ok",
     "timestamp": 1657331500879,
     "user": {
      "displayName": "Hai Anh Tran",
      "userId": "00908073918557963233"
     },
     "user_tz": -420
    },
    "id": "RmhV5S6Hwwoy",
    "outputId": "98c284e2-6dc7-4b66-a2b1-e7599091300d"
   },
   "outputs": [
    {
     "name": "stdout",
     "output_type": "stream",
     "text": [
      "Train on 25000 samples, validate on 25000 samples\n",
      "Epoch 1/20\n",
      "25000/25000 [==============================] - 3s 126us/step - loss: 0.6084 - acc: 0.6724 - val_loss: 0.4867 - val_acc: 0.8535\n",
      "Epoch 2/20\n",
      "25000/25000 [==============================] - 3s 109us/step - loss: 0.4530 - acc: 0.8089 - val_loss: 0.3485 - val_acc: 0.8792\n",
      "Epoch 3/20\n",
      "25000/25000 [==============================] - 3s 113us/step - loss: 0.3613 - acc: 0.8604 - val_loss: 0.2937 - val_acc: 0.8859\n",
      "Epoch 4/20\n",
      "25000/25000 [==============================] - 3s 106us/step - loss: 0.3057 - acc: 0.8863 - val_loss: 0.2782 - val_acc: 0.8902\n",
      "Epoch 5/20\n",
      "25000/25000 [==============================] - 3s 114us/step - loss: 0.2644 - acc: 0.9057 - val_loss: 0.2827 - val_acc: 0.8871\n",
      "Epoch 6/20\n",
      "25000/25000 [==============================] - 3s 108us/step - loss: 0.2363 - acc: 0.9156 - val_loss: 0.2906 - val_acc: 0.8879\n",
      "Epoch 7/20\n",
      "25000/25000 [==============================] - 3s 111us/step - loss: 0.2166 - acc: 0.9250 - val_loss: 0.2936 - val_acc: 0.8882\n",
      "Epoch 8/20\n",
      "25000/25000 [==============================] - 3s 108us/step - loss: 0.1930 - acc: 0.9310 - val_loss: 0.3274 - val_acc: 0.8815\n",
      "Epoch 9/20\n",
      "25000/25000 [==============================] - 3s 111us/step - loss: 0.1834 - acc: 0.9369 - val_loss: 0.3333 - val_acc: 0.8826\n",
      "Epoch 10/20\n",
      "25000/25000 [==============================] - 3s 107us/step - loss: 0.1651 - acc: 0.9441 - val_loss: 0.3645 - val_acc: 0.8830\n",
      "Epoch 11/20\n",
      "25000/25000 [==============================] - 3s 112us/step - loss: 0.1565 - acc: 0.9443 - val_loss: 0.4015 - val_acc: 0.8762\n",
      "Epoch 12/20\n",
      "25000/25000 [==============================] - 3s 106us/step - loss: 0.1433 - acc: 0.9489 - val_loss: 0.4020 - val_acc: 0.8814\n",
      "Epoch 13/20\n",
      "25000/25000 [==============================] - 3s 112us/step - loss: 0.1400 - acc: 0.9503 - val_loss: 0.4369 - val_acc: 0.8766\n",
      "Epoch 14/20\n",
      "25000/25000 [==============================] - 3s 108us/step - loss: 0.1301 - acc: 0.9540 - val_loss: 0.4316 - val_acc: 0.8774\n",
      "Epoch 15/20\n",
      "25000/25000 [==============================] - 3s 118us/step - loss: 0.1247 - acc: 0.9538 - val_loss: 0.4573 - val_acc: 0.8768\n",
      "Epoch 16/20\n",
      "25000/25000 [==============================] - 3s 112us/step - loss: 0.1216 - acc: 0.9542 - val_loss: 0.4933 - val_acc: 0.8788\n",
      "Epoch 17/20\n",
      "25000/25000 [==============================] - 3s 112us/step - loss: 0.1251 - acc: 0.9547 - val_loss: 0.5000 - val_acc: 0.8770\n",
      "Epoch 18/20\n",
      "25000/25000 [==============================] - 3s 108us/step - loss: 0.1161 - acc: 0.9576 - val_loss: 0.5302 - val_acc: 0.8718\n",
      "Epoch 19/20\n",
      "25000/25000 [==============================] - 3s 111us/step - loss: 0.1146 - acc: 0.9588 - val_loss: 0.5387 - val_acc: 0.8698\n",
      "Epoch 20/20\n",
      "25000/25000 [==============================] - 3s 107us/step - loss: 0.1143 - acc: 0.9564 - val_loss: 0.5388 - val_acc: 0.8762\n"
     ]
    }
   ],
   "source": [
    "dpt_model_hist = dpt_model.fit(x_train, y_train,\n",
    "                               epochs=20,\n",
    "                               batch_size=512,\n",
    "                               validation_data=(x_test, y_test))"
   ]
  },
  {
   "cell_type": "markdown",
   "metadata": {
    "id": "zAQMHCZjw8Lt"
   },
   "source": [
    "Hãy vẽ biểu đồ kết quả:"
   ]
  },
  {
   "cell_type": "code",
   "execution_count": 22,
   "metadata": {
    "colab": {
     "base_uri": "https://localhost:8080/",
     "height": 279
    },
    "executionInfo": {
     "elapsed": 12,
     "status": "ok",
     "timestamp": 1657331500879,
     "user": {
      "displayName": "Hai Anh Tran",
      "userId": "00908073918557963233"
     },
     "user_tz": -420
    },
    "id": "8wcW4o1TwyF1",
    "outputId": "50adc783-1cfb-4844-b510-3c1e2d65b966"
   },
   "outputs": [
    {
     "data": {
      "image/png": "[encoded data removed]",
      "text/plain": [
       "<Figure size 432x288 with 1 Axes>"
      ]
     },
     "metadata": {
      "needs_background": "light"
     },
     "output_type": "display_data"
    }
   ],
   "source": [
    "dpt_model_val_loss = dpt_model_hist.history['val_loss']\n",
    "\n",
    "plt.plot(epochs, original_val_loss, 'b+', label='Original model')\n",
    "plt.plot(epochs, dpt_model_val_loss, 'bo', label='Dropout-regularized model')\n",
    "plt.xlabel('Epochs')\n",
    "plt.ylabel('Validation loss')\n",
    "plt.legend()\n",
    "\n",
    "plt.show()"
   ]
  },
  {
   "cell_type": "markdown",
   "metadata": {
    "id": "1ZqgeTlDx5gk"
   },
   "source": [
    "Một lần nữa, một cải tiến rõ ràng so với mạng tham chiếu.\n",
    "\n",
    "Tổng kết: đây là những cách phổ biến nhất để ngăn chặn việc trang bị quá mức trong mạng thần kinh:\n",
    "\n",
    "\n",
    "*   Nhận thêm dữ liệu đào tạo.\n",
    "*   Giảm dung lượng của mạng.\n",
    "*   Thêm quy định trọng lượng.\n",
    "*   Thêm học sinh bỏ học."
   ]
  },
  {
   "cell_type": "markdown",
   "metadata": {
    "id": "kagmQKSj1Qxe"
   },
   "source": [
    "## K-Fold Cross Validation"
   ]
  },
  {
   "cell_type": "markdown",
   "metadata": {
    "id": "eiV9ke4b1WYe"
   },
   "source": [
    "K-Fold CV sẽ giúp chúng ta đánh giá một model đầy đủ và chính xác hơn"
   ]
  },
  {
   "cell_type": "code",
   "execution_count": 24,
   "metadata": {
    "executionInfo": {
     "elapsed": 392,
     "status": "ok",
     "timestamp": 1657337486019,
     "user": {
      "displayName": "Hai Anh Tran",
      "userId": "00908073918557963233"
     },
     "user_tz": -420
    },
    "id": "6aG80sqt1U_8"
   },
   "outputs": [],
   "source": [
    "from keras.models import Sequential\n",
    "from keras.layers import Dense, Flatten, Conv2D, MaxPooling2D\n",
    "from sklearn.model_selection import KFold\n",
    "import numpy as np"
   ]
  },
  {
   "cell_type": "code",
   "execution_count": 25,
   "metadata": {
    "executionInfo": {
     "elapsed": 4,
     "status": "ok",
     "timestamp": 1657337486462,
     "user": {
      "displayName": "Hai Anh Tran",
      "userId": "00908073918557963233"
     },
     "user_tz": -420
    },
    "id": "VP3aDRsp2RBs"
   },
   "outputs": [],
   "source": [
    "def get_model():\n",
    "\n",
    "    original_model = models.Sequential()\n",
    "    original_model.add(layers.Dense(16, activation='relu', input_shape=(10000,)))\n",
    "    original_model.add(layers.Dense(16, activation='relu'))\n",
    "    original_model.add(layers.Dense(1, activation='sigmoid'))\n",
    "\n",
    "    original_model.compile(optimizer='rmsprop',\n",
    "                        loss='binary_crossentropy',\n",
    "                        metrics=['acc'])\n",
    "\n",
    "    return original_model"
   ]
  },
  {
   "cell_type": "code",
   "execution_count": 26,
   "metadata": {
    "executionInfo": {
     "elapsed": 5778,
     "status": "ok",
     "timestamp": 1657337492621,
     "user": {
      "displayName": "Hai Anh Tran",
      "userId": "00908073918557963233"
     },
     "user_tz": -420
    },
    "id": "fia5qRGp2cGu"
   },
   "outputs": [
    {
     "name": "stderr",
     "output_type": "stream",
     "text": [
      "c:\\Users\\Msi\\anaconda3\\envs\\Tank\\lib\\site-packages\\keras\\datasets\\imdb.py:101: VisibleDeprecationWarning: Creating an ndarray from ragged nested sequences (which is a list-or-tuple of lists-or-tuples-or ndarrays with different lengths or shapes) is deprecated. If you meant to do this, you must specify 'dtype=object' when creating the ndarray.\n",
      "  x_train, y_train = np.array(xs[:idx]), np.array(labels[:idx])\n",
      "c:\\Users\\Msi\\anaconda3\\envs\\Tank\\lib\\site-packages\\keras\\datasets\\imdb.py:102: VisibleDeprecationWarning: Creating an ndarray from ragged nested sequences (which is a list-or-tuple of lists-or-tuples-or ndarrays with different lengths or shapes) is deprecated. If you meant to do this, you must specify 'dtype=object' when creating the ndarray.\n",
      "  x_test, y_test = np.array(xs[idx:]), np.array(labels[idx:])\n"
     ]
    }
   ],
   "source": [
    "# Định nghĩa K-Fold CV\n",
    "num_folds = 5\n",
    "\n",
    "kfold = KFold(n_splits=num_folds, shuffle=True)\n",
    "\n",
    "accuracy_list = []\n",
    "loss_list = []\n",
    "\n",
    "(train_data, train_labels), (test_data, test_labels) = imdb.load_data(num_words=10000)\n"
   ]
  },
  {
   "cell_type": "code",
   "execution_count": 27,
   "metadata": {
    "executionInfo": {
     "elapsed": 37,
     "status": "ok",
     "timestamp": 1657337492624,
     "user": {
      "displayName": "Hai Anh Tran",
      "userId": "00908073918557963233"
     },
     "user_tz": -420
    },
    "id": "gwPBsEGE4YVL"
   },
   "outputs": [],
   "source": [
    "X = np.concatenate((train_data, test_data))\n",
    "y = np.concatenate((train_labels, test_labels))"
   ]
  },
  {
   "cell_type": "code",
   "execution_count": 28,
   "metadata": {
    "colab": {
     "base_uri": "https://localhost:8080/"
    },
    "id": "bz-aFeru1njn",
    "outputId": "d604536c-7f7c-4d28-e91f-0d8f3c51ed30"
   },
   "outputs": [
    {
     "name": "stdout",
     "output_type": "stream",
     "text": [
      "Start train Fold  1\n",
      "Train on 40000 samples, validate on 10000 samples\n",
      "Epoch 1/20\n",
      "40000/40000 [==============================] - 4s 94us/step - loss: 0.4016 - acc: 0.8410 - val_loss: 0.2957 - val_acc: 0.8891s - loss\n",
      "Epoch 2/20\n",
      "40000/40000 [==============================] - 3s 78us/step - loss: 0.2381 - acc: 0.9125 - val_loss: 0.2642 - val_acc: 0.8949\n",
      "Epoch 3/20\n",
      "40000/40000 [==============================] - 3s 76us/step - loss: 0.1998 - acc: 0.9253 - val_loss: 0.2885 - val_acc: 0.8840\n",
      "Epoch 4/20\n",
      "40000/40000 [==============================] - 3s 74us/step - loss: 0.1774 - acc: 0.9341 - val_loss: 0.3073 - val_acc: 0.8778\n",
      "Epoch 5/20\n",
      "40000/40000 [==============================] - 4s 96us/step - loss: 0.1608 - acc: 0.9405 - val_loss: 0.3154 - val_acc: 0.8844\n",
      "Epoch 6/20\n",
      "40000/40000 [==============================] - 6s 146us/step - loss: 0.1469 - acc: 0.9455 - val_loss: 0.3026 - val_acc: 0.8881\n",
      "Epoch 7/20\n",
      "40000/40000 [==============================] - 5s 115us/step - loss: 0.1339 - acc: 0.9519 - val_loss: 0.3179 - val_acc: 0.8876\n",
      "Epoch 8/20\n",
      "40000/40000 [==============================] - 4s 103us/step - loss: 0.1238 - acc: 0.9557 - val_loss: 0.3358 - val_acc: 0.8853\n",
      "Epoch 9/20\n",
      "40000/40000 [==============================] - 5s 120us/step - loss: 0.1112 - acc: 0.9597 - val_loss: 0.3679 - val_acc: 0.8860\n",
      "Epoch 10/20\n",
      "40000/40000 [==============================] - 4s 108us/step - loss: 0.1005 - acc: 0.9646 - val_loss: 0.3995 - val_acc: 0.8731\n",
      "Epoch 11/20\n",
      "40000/40000 [==============================] - 4s 99us/step - loss: 0.0902 - acc: 0.9680 - val_loss: 0.3954 - val_acc: 0.8826\n",
      "Epoch 12/20\n",
      "40000/40000 [==============================] - 4s 91us/step - loss: 0.0795 - acc: 0.9728 - val_loss: 0.4442 - val_acc: 0.8802\n",
      "Epoch 13/20\n",
      "40000/40000 [==============================] - 3s 86us/step - loss: 0.0692 - acc: 0.9772 - val_loss: 0.4919 - val_acc: 0.8742\n",
      "Epoch 14/20\n",
      "40000/40000 [==============================] - 4s 88us/step - loss: 0.0604 - acc: 0.9806 - val_loss: 0.4778 - val_acc: 0.8756\n",
      "Epoch 15/20\n",
      "40000/40000 [==============================] - 3s 85us/step - loss: 0.0518 - acc: 0.9834 - val_loss: 0.5002 - val_acc: 0.8745\n",
      "Epoch 16/20\n",
      "40000/40000 [==============================] - 3s 84us/step - loss: 0.0420 - acc: 0.9868 - val_loss: 0.5280 - val_acc: 0.8733\n",
      "Epoch 17/20\n",
      "40000/40000 [==============================] - 3s 83us/step - loss: 0.0365 - acc: 0.9889 - val_loss: 0.5625 - val_acc: 0.8719\n",
      "Epoch 18/20\n",
      "40000/40000 [==============================] - 4s 90us/step - loss: 0.0297 - acc: 0.9916 - val_loss: 0.5938 - val_acc: 0.8733\n",
      "Epoch 19/20\n",
      "40000/40000 [==============================] - 3s 87us/step - loss: 0.0230 - acc: 0.9942 - val_loss: 0.6363 - val_acc: 0.8705\n",
      "Epoch 20/20\n",
      "40000/40000 [==============================] - 3s 86us/step - loss: 0.0201 - acc: 0.9946 - val_loss: 0.6799 - val_acc: 0.8712\n",
      "Finish train Fold  1\n",
      "Start train Fold  2\n",
      "Train on 40000 samples, validate on 10000 samples\n",
      "Epoch 1/20\n",
      "40000/40000 [==============================] - 4s 100us/step - loss: 0.3971 - acc: 0.8492 - val_loss: 0.2728 - val_acc: 0.9044\n",
      "Epoch 2/20\n",
      "40000/40000 [==============================] - 3s 72us/step - loss: 0.2380 - acc: 0.9106 - val_loss: 0.2557 - val_acc: 0.9010\n",
      "Epoch 3/20\n",
      "40000/40000 [==============================] - 3s 72us/step - loss: 0.2003 - acc: 0.9246 - val_loss: 0.2563 - val_acc: 0.8995\n",
      "Epoch 4/20\n",
      "40000/40000 [==============================] - 3s 72us/step - loss: 0.1794 - acc: 0.9321 - val_loss: 0.3120 - val_acc: 0.8817\n",
      "Epoch 5/20\n",
      "40000/40000 [==============================] - 3s 72us/step - loss: 0.1647 - acc: 0.9382 - val_loss: 0.3272 - val_acc: 0.8773\n",
      "Epoch 6/20\n",
      "40000/40000 [==============================] - 3s 72us/step - loss: 0.1531 - acc: 0.9434 - val_loss: 0.3005 - val_acc: 0.8908\n",
      "Epoch 7/20\n",
      "40000/40000 [==============================] - 3s 71us/step - loss: 0.1410 - acc: 0.9474 - val_loss: 0.3209 - val_acc: 0.8864\n",
      "Epoch 8/20\n",
      "40000/40000 [==============================] - 3s 72us/step - loss: 0.1298 - acc: 0.9525 - val_loss: 0.3418 - val_acc: 0.8840\n",
      "Epoch 9/20\n",
      "40000/40000 [==============================] - 3s 72us/step - loss: 0.1214 - acc: 0.9562 - val_loss: 0.3500 - val_acc: 0.8846\n",
      "Epoch 10/20\n",
      "40000/40000 [==============================] - 3s 72us/step - loss: 0.1112 - acc: 0.9602 - val_loss: 0.3803 - val_acc: 0.8773\n",
      "Epoch 11/20\n",
      "40000/40000 [==============================] - 3s 72us/step - loss: 0.1001 - acc: 0.9642 - val_loss: 0.4161 - val_acc: 0.8745\n",
      "Epoch 12/20\n",
      "40000/40000 [==============================] - 3s 74us/step - loss: 0.0917 - acc: 0.9682 - val_loss: 0.4025 - val_acc: 0.8791\n",
      "Epoch 13/20\n",
      "40000/40000 [==============================] - 3s 87us/step - loss: 0.0811 - acc: 0.9720 - val_loss: 0.4257 - val_acc: 0.8784\n",
      "Epoch 14/20\n",
      "40000/40000 [==============================] - 3s 78us/step - loss: 0.0740 - acc: 0.9742 - val_loss: 0.4390 - val_acc: 0.8761\n",
      "Epoch 15/20\n",
      "40000/40000 [==============================] - 3s 72us/step - loss: 0.0639 - acc: 0.9791 - val_loss: 0.4659 - val_acc: 0.8750\n",
      "Epoch 16/20\n",
      "40000/40000 [==============================] - 3s 71us/step - loss: 0.0566 - acc: 0.9812 - val_loss: 0.4962 - val_acc: 0.8760\n",
      "Epoch 17/20\n",
      "40000/40000 [==============================] - 3s 75us/step - loss: 0.0486 - acc: 0.9841 - val_loss: 0.5779 - val_acc: 0.8626\n",
      "Epoch 18/20\n",
      "40000/40000 [==============================] - 3s 73us/step - loss: 0.0406 - acc: 0.9870 - val_loss: 0.6082 - val_acc: 0.8668\n",
      "Epoch 19/20\n",
      "40000/40000 [==============================] - 3s 71us/step - loss: 0.0355 - acc: 0.9891 - val_loss: 0.6203 - val_acc: 0.8651\n",
      "Epoch 20/20\n",
      "40000/40000 [==============================] - 3s 73us/step - loss: 0.0307 - acc: 0.9912 - val_loss: 0.6066 - val_acc: 0.8703- loss: 0.02\n",
      "Finish train Fold  2\n",
      "Start train Fold  3\n",
      "Train on 40000 samples, validate on 10000 samples\n",
      "Epoch 1/20\n",
      "40000/40000 [==============================] - 4s 109us/step - loss: 0.4247 - acc: 0.8323 - val_loss: 0.2982 - val_acc: 0.8915\n",
      "Epoch 2/20\n",
      "40000/40000 [==============================] - 3s 71us/step - loss: 0.2438 - acc: 0.9113 - val_loss: 0.2535 - val_acc: 0.9044 - loss: \n",
      "Epoch 3/20\n",
      "40000/40000 [==============================] - 3s 72us/step - loss: 0.2018 - acc: 0.9254 - val_loss: 0.3537 - val_acc: 0.8578\n",
      "Epoch 4/20\n",
      "40000/40000 [==============================] - 3s 72us/step - loss: 0.1797 - acc: 0.9332 - val_loss: 0.3058 - val_acc: 0.8817\n",
      "Epoch 5/20\n",
      "40000/40000 [==============================] - 3s 71us/step - loss: 0.1630 - acc: 0.9405 - val_loss: 0.2990 - val_acc: 0.8890\n",
      "Epoch 6/20\n",
      "40000/40000 [==============================] - 3s 74us/step - loss: 0.1512 - acc: 0.9444 - val_loss: 0.3309 - val_acc: 0.8801\n",
      "Epoch 7/20\n",
      "40000/40000 [==============================] - 3s 71us/step - loss: 0.1372 - acc: 0.9497 - val_loss: 0.3055 - val_acc: 0.8928\n",
      "Epoch 8/20\n",
      "40000/40000 [==============================] - 3s 71us/step - loss: 0.1284 - acc: 0.9540 - val_loss: 0.3305 - val_acc: 0.8847\n",
      "Epoch 9/20\n",
      "40000/40000 [==============================] - 3s 73us/step - loss: 0.1173 - acc: 0.9583 - val_loss: 0.3387 - val_acc: 0.8850\n",
      "Epoch 10/20\n",
      "40000/40000 [==============================] - 3s 72us/step - loss: 0.1104 - acc: 0.9600 - val_loss: 0.3507 - val_acc: 0.8856\n",
      "Epoch 11/20\n",
      "40000/40000 [==============================] - 3s 71us/step - loss: 0.0990 - acc: 0.9646 - val_loss: 0.3852 - val_acc: 0.8813\n",
      "Epoch 12/20\n",
      "40000/40000 [==============================] - 3s 72us/step - loss: 0.0906 - acc: 0.9681 - val_loss: 0.3829 - val_acc: 0.8819\n",
      "Epoch 13/20\n",
      "40000/40000 [==============================] - 3s 72us/step - loss: 0.0816 - acc: 0.9735 - val_loss: 0.4099 - val_acc: 0.8807\n",
      "Epoch 14/20\n",
      "40000/40000 [==============================] - 3s 77us/step - loss: 0.0737 - acc: 0.9751 - val_loss: 0.4587 - val_acc: 0.8775\n",
      "Epoch 15/20\n",
      "40000/40000 [==============================] - 3s 74us/step - loss: 0.0652 - acc: 0.9787 - val_loss: 0.4511 - val_acc: 0.8769\n",
      "Epoch 16/20\n",
      "40000/40000 [==============================] - 3s 72us/step - loss: 0.0576 - acc: 0.9816 - val_loss: 0.4803 - val_acc: 0.8781\n",
      "Epoch 17/20\n",
      "40000/40000 [==============================] - 3s 72us/step - loss: 0.0501 - acc: 0.9842 - val_loss: 0.5085 - val_acc: 0.8731\n",
      "Epoch 18/20\n",
      "40000/40000 [==============================] - 3s 76us/step - loss: 0.0424 - acc: 0.9874 - val_loss: 0.5471 - val_acc: 0.8720\n",
      "Epoch 19/20\n",
      "40000/40000 [==============================] - 3s 72us/step - loss: 0.0377 - acc: 0.9890 - val_loss: 0.5849 - val_acc: 0.8679\n",
      "Epoch 20/20\n",
      "40000/40000 [==============================] - 3s 72us/step - loss: 0.0306 - acc: 0.9918 - val_loss: 0.5963 - val_acc: 0.8715\n",
      "Finish train Fold  3\n",
      "Start train Fold  4\n",
      "Train on 40000 samples, validate on 10000 samples\n",
      "Epoch 1/20\n",
      "40000/40000 [==============================] - 5s 117us/step - loss: 0.4143 - acc: 0.8478 - val_loss: 0.2939 - val_acc: 0.8926\n",
      "Epoch 2/20\n",
      "40000/40000 [==============================] - 3s 80us/step - loss: 0.2398 - acc: 0.9122 - val_loss: 0.2634 - val_acc: 0.8982\n",
      "Epoch 3/20\n",
      "40000/40000 [==============================] - 3s 71us/step - loss: 0.1983 - acc: 0.9255 - val_loss: 0.2827 - val_acc: 0.8929\n",
      "Epoch 4/20\n",
      "40000/40000 [==============================] - 3s 72us/step - loss: 0.1763 - acc: 0.9335 - val_loss: 0.2909 - val_acc: 0.8916\n",
      "Epoch 5/20\n",
      "40000/40000 [==============================] - 3s 71us/step - loss: 0.1597 - acc: 0.9397 - val_loss: 0.3143 - val_acc: 0.8881\n",
      "Epoch 6/20\n",
      "40000/40000 [==============================] - 3s 71us/step - loss: 0.1447 - acc: 0.9458 - val_loss: 0.3233 - val_acc: 0.8843\n",
      "Epoch 7/20\n",
      "40000/40000 [==============================] - 3s 72us/step - loss: 0.1323 - acc: 0.9519 - val_loss: 0.3365 - val_acc: 0.8892\n",
      "Epoch 8/20\n",
      "40000/40000 [==============================] - 3s 71us/step - loss: 0.1190 - acc: 0.9563 - val_loss: 0.3781 - val_acc: 0.8709\n",
      "Epoch 9/20\n",
      "40000/40000 [==============================] - 3s 72us/step - loss: 0.1107 - acc: 0.9599 - val_loss: 0.4028 - val_acc: 0.8670\n",
      "Epoch 10/20\n",
      "40000/40000 [==============================] - 3s 72us/step - loss: 0.0968 - acc: 0.9660 - val_loss: 0.4601 - val_acc: 0.8593\n",
      "Epoch 11/20\n",
      "40000/40000 [==============================] - 3s 74us/step - loss: 0.0878 - acc: 0.9691 - val_loss: 0.4303 - val_acc: 0.8804\n",
      "Epoch 12/20\n",
      "40000/40000 [==============================] - 3s 72us/step - loss: 0.0775 - acc: 0.9745 - val_loss: 0.4319 - val_acc: 0.87900.0759 - acc\n",
      "Epoch 13/20\n",
      "40000/40000 [==============================] - 3s 72us/step - loss: 0.0691 - acc: 0.9765 - val_loss: 0.4596 - val_acc: 0.8814\n",
      "Epoch 14/20\n",
      "40000/40000 [==============================] - 3s 72us/step - loss: 0.0588 - acc: 0.9808 - val_loss: 0.4798 - val_acc: 0.8787\n",
      "Epoch 15/20\n",
      "40000/40000 [==============================] - 3s 78us/step - loss: 0.0512 - acc: 0.9836 - val_loss: 0.5226 - val_acc: 0.8775\n",
      "Epoch 16/20\n",
      "40000/40000 [==============================] - 3s 74us/step - loss: 0.0432 - acc: 0.9869 - val_loss: 0.5436 - val_acc: 0.8779\n",
      "Epoch 17/20\n",
      "40000/40000 [==============================] - 3s 71us/step - loss: 0.0368 - acc: 0.9890 - val_loss: 0.5784 - val_acc: 0.8761\n",
      "Epoch 18/20\n",
      "40000/40000 [==============================] - 3s 75us/step - loss: 0.0332 - acc: 0.9899 - val_loss: 0.6107 - val_acc: 0.8720\n",
      "Epoch 19/20\n",
      "40000/40000 [==============================] - 3s 75us/step - loss: 0.0240 - acc: 0.9936 - val_loss: 0.6690 - val_acc: 0.8653\n",
      "Epoch 20/20\n",
      "40000/40000 [==============================] - 3s 71us/step - loss: 0.0207 - acc: 0.9947 - val_loss: 0.6827 - val_acc: 0.8717\n",
      "Finish train Fold  4\n",
      "Start train Fold  5\n",
      "Train on 40000 samples, validate on 10000 samples\n",
      "Epoch 1/20\n",
      "40000/40000 [==============================] - 4s 104us/step - loss: 0.3963 - acc: 0.8489 - val_loss: 0.2867 - val_acc: 0.8914\n",
      "Epoch 2/20\n",
      "40000/40000 [==============================] - 4s 93us/step - loss: 0.2369 - acc: 0.9126 - val_loss: 0.2569 - val_acc: 0.8998\n",
      "Epoch 3/20\n",
      "40000/40000 [==============================] - 3s 81us/step - loss: 0.1981 - acc: 0.9262 - val_loss: 0.2620 - val_acc: 0.9002\n",
      "Epoch 4/20\n",
      "40000/40000 [==============================] - 3s 75us/step - loss: 0.1767 - acc: 0.9339 - val_loss: 0.2786 - val_acc: 0.8942\n",
      "Epoch 5/20\n",
      "40000/40000 [==============================] - 3s 75us/step - loss: 0.1583 - acc: 0.9405 - val_loss: 0.3101 - val_acc: 0.8868\n",
      "Epoch 6/20\n",
      "40000/40000 [==============================] - 3s 75us/step - loss: 0.1451 - acc: 0.9477 - val_loss: 0.3345 - val_acc: 0.8816\n",
      "Epoch 7/20\n",
      "40000/40000 [==============================] - 3s 75us/step - loss: 0.1294 - acc: 0.9545 - val_loss: 0.3173 - val_acc: 0.8909\n",
      "Epoch 8/20\n",
      "40000/40000 [==============================] - 3s 76us/step - loss: 0.1178 - acc: 0.9578 - val_loss: 0.3524 - val_acc: 0.8862\n",
      "Epoch 9/20\n",
      "40000/40000 [==============================] - 3s 74us/step - loss: 0.1043 - acc: 0.9644 - val_loss: 0.3576 - val_acc: 0.887806 - acc: - ETA: 0s - loss: 0.1035 - acc: 0.\n",
      "Epoch 10/20\n",
      "40000/40000 [==============================] - 3s 76us/step - loss: 0.0932 - acc: 0.9684 - val_loss: 0.4134 - val_acc: 0.8773\n",
      "Epoch 11/20\n",
      "40000/40000 [==============================] - 3s 76us/step - loss: 0.0828 - acc: 0.9719 - val_loss: 0.4019 - val_acc: 0.8832\n",
      "Epoch 12/20\n",
      "40000/40000 [==============================] - 3s 76us/step - loss: 0.0704 - acc: 0.9774 - val_loss: 0.4332 - val_acc: 0.8794cc: 0.\n",
      "Epoch 13/20\n",
      "40000/40000 [==============================] - 3s 77us/step - loss: 0.0602 - acc: 0.9814 - val_loss: 0.4598 - val_acc: 0.87941s - \n",
      "Epoch 14/20\n",
      "40000/40000 [==============================] - 3s 77us/step - loss: 0.0519 - acc: 0.9840 - val_loss: 0.5086 - val_acc: 0.8746\n",
      "Epoch 15/20\n",
      "40000/40000 [==============================] - 3s 82us/step - loss: 0.0419 - acc: 0.9878 - val_loss: 0.5054 - val_acc: 0.8746\n",
      "Epoch 16/20\n",
      "40000/40000 [==============================] - 3s 86us/step - loss: 0.0352 - acc: 0.9906 - val_loss: 0.5489 - val_acc: 0.8736\n",
      "Epoch 17/20\n",
      "40000/40000 [==============================] - 3s 81us/step - loss: 0.0281 - acc: 0.9932 - val_loss: 0.6094 - val_acc: 0.8703\n",
      "Epoch 18/20\n",
      "40000/40000 [==============================] - 3s 79us/step - loss: 0.0218 - acc: 0.9948 - val_loss: 0.6165 - val_acc: 0.8731\n",
      "Epoch 19/20\n",
      "40000/40000 [==============================] - 3s 86us/step - loss: 0.0186 - acc: 0.9954 - val_loss: 0.6676 - val_acc: 0.8693\n",
      "Epoch 20/20\n",
      "40000/40000 [==============================] - 4s 91us/step - loss: 0.0150 - acc: 0.9964 - val_loss: 0.6934 - val_acc: 0.8706\n",
      "Finish train Fold  5\n"
     ]
    }
   ],
   "source": [
    "# K-fold Cross Validation model evaluation\n",
    "fold_idx = 1\n",
    "\n",
    "for train_ids, val_ids in kfold.split(X, y):\n",
    "    model = get_model()\n",
    "\n",
    "    print(\"Start train Fold \", fold_idx)\n",
    "\n",
    "    # Our vectorized training data\n",
    "    x_train = vectorize_sequences(X[train_ids])\n",
    "    # Our vectorized test data\n",
    "    x_test = vectorize_sequences(X[val_ids])\n",
    "    # Our vectorized labels\n",
    "    y_train = np.asarray(y[train_ids]).astype('float32')\n",
    "    y_test = np.asarray(y[val_ids]).astype('float32')    \n",
    "\n",
    "    # Train model\n",
    "    model.fit(x_train, y_train,\n",
    "                    epochs=20,\n",
    "                    batch_size=512,\n",
    "                    validation_data=(x_test, y_test))\n",
    "\n",
    "    # Test and output result\n",
    "    scores = model.evaluate(x_test, y_test, verbose=0)\n",
    "    print(\"Finish train Fold \", fold_idx)\n",
    "\n",
    "    # Add information of accuracy and loss to list\n",
    "    accuracy_list.append(scores[1] * 100)\n",
    "    loss_list.append(scores[0])\n",
    "\n",
    "    # Next Fold\n",
    "    fold_idx = fold_idx + 1"
   ]
  },
  {
   "cell_type": "code",
   "execution_count": 29,
   "metadata": {
    "executionInfo": {
     "elapsed": 26,
     "status": "aborted",
     "timestamp": 1657337385303,
     "user": {
      "displayName": "Hai Anh Tran",
      "userId": "00908073918557963233"
     },
     "user_tz": -420
    },
    "id": "m7QiBxlv1qpd"
   },
   "outputs": [
    {
     "name": "stdout",
     "output_type": "stream",
     "text": [
      "* Chi tiết các fold\n",
      "> Fold 1 - Loss: 0.679884140381217 - Accuracy: 87.12%\n",
      "> Fold 2 - Loss: 0.6066416468441487 - Accuracy: 87.03%\n",
      "> Fold 3 - Loss: 0.5962332228660584 - Accuracy: 87.15%\n",
      "> Fold 4 - Loss: 0.6829364640802145 - Accuracy: 87.17%\n",
      "> Fold 5 - Loss: 0.6933303745031357 - Accuracy: 87.06%\n",
      "* Đánh giá tổng thể các folds:\n",
      "> Accuracy: 87.10600000000001 (Độ lệch +- 0.05314132102234657)\n",
      "> Loss: 0.6518051697349548\n"
     ]
    }
   ],
   "source": [
    "# In kết quả tổng thể\n",
    "print('* Chi tiết các fold')\n",
    "for i in range(0, len(accuracy_list)):\n",
    "  print(f'> Fold {i+1} - Loss: {loss_list[i]} - Accuracy: {accuracy_list[i]}%')\n",
    "\n",
    "print('* Đánh giá tổng thể các folds:')\n",
    "print(f'> Accuracy: {np.mean(accuracy_list)} (Độ lệch +- {np.std(accuracy_list)})')\n",
    "print(f'> Loss: {np.mean(loss_list)}')"
   ]
  },
  {
   "cell_type": "code",
   "execution_count": null,
   "metadata": {
    "id": "gkdHKDlk__Cx"
   },
   "outputs": [],
   "source": []
  }
 ],
 "metadata": {
  "colab": {
   "authorship_tag": "ABX9TyNqn6GlprKmd8RVDngDAuMn",
   "collapsed_sections": [],
   "name": " Exercise 1.ipynb",
   "provenance": []
  },
  "gpuClass": "standard",
  "kernelspec": {
   "display_name": "Python 3 (ipykernel)",
   "language": "python",
   "name": "python3"
  },
  "language_info": {
   "codemirror_mode": {
    "name": "ipython",
    "version": 3
   },
   "file_extension": ".py",
   "mimetype": "text/x-python",
   "name": "python",
   "nbconvert_exporter": "python",
   "pygments_lexer": "ipython3",
   "version": "3.8.13"
  },
  "nbTranslate": {
   "displayLangs": [
    "*"
   ],
   "hotkey": "alt-t",
   "langInMainMenu": true,
   "sourceLang": "en",
   "targetLang": "fr",
   "useGoogleTranslate": true
  },
  "vscode": {
   "interpreter": {
    "hash": "4e3dfef0e7f65a2f79ca19eba34112a1aeaf617cc2387fdccc56fa9a85be913a"
   }
  }
 },
 "nbformat": 4,
 "nbformat_minor": 1
}
